{
 "cells": [
  {
   "cell_type": "markdown",
   "id": "0",
   "metadata": {
    "tags": []
   },
   "source": [
    "# Introduction\n",
    "\n",
    "These notebooks describe how to undertake analyses introduced as examples in the\n",
    "Ninth Edition of *Introduction to the Practice of Statistics* (2017) by Moore, McCabe, and Craig.\n",
    "The data used in the notebooks are from the R version of the notebooks found at https://nhorton.people.amherst.edu/ips9/.\n",
    "\n",
    "# Setup\n",
    "\n",
    "First load the IPS (short for *Introduction to the Practice of Statistics*) package and dependencies. If you're doing this for the first time, there may be a great deal more output as the dependent packages are download and compiled. This typically only happens once."
   ]
  },
  {
   "cell_type": "code",
   "execution_count": null,
   "id": "1",
   "metadata": {
    "vscode": {
     "languageId": "clojure"
    }
   },
   "outputs": [],
   "source": [
    "(ql:quickload :ips)"
   ]
  },
  {
   "cell_type": "code",
   "execution_count": null,
   "id": "2",
   "metadata": {
    "tags": [],
    "vscode": {
     "languageId": "clojure"
    }
   },
   "outputs": [],
   "source": [
    "(in-package :ips)"
   ]
  },
  {
   "cell_type": "markdown",
   "id": "3",
   "metadata": {},
   "source": [
    "# Example 1.1 Restaurant discount coupons\n",
    "\n",
    "The first example defines the terms, cases, labels and variables as they are used in statistical analysis. To load the example, use the following command:"
   ]
  },
  {
   "cell_type": "code",
   "execution_count": null,
   "id": "4",
   "metadata": {
    "vscode": {
     "languageId": "clojure"
    }
   },
   "outputs": [],
   "source": [
    "(load #P\"IPS:DATA;coupons\")"
   ]
  },
  {
   "cell_type": "markdown",
   "id": "5",
   "metadata": {},
   "source": [
    "\n",
    "These are the cases. Data for each coupon is listed on a different line, and the first column has the coupons numbered 0 to 6. Lisp numbering starts at 0. The remaining columns give the type of restaurant, the name of the restaurant, the item being discounted, the regular price and the discount price. Together this information, that is the information about the data, is known as 'meta-data', and collectively referred to as the 'data dictionary' associated with the data set.\n",
    "\n",
    "# Example 1.2 Categorical and quantitative variables for coupons\n",
    "\n",
    "The restaurant discount data set has five variables (columns): type of restaurant, name of restaurant, item, regular price and discount price. The two price variables are _quantitative_ variables.  Type of restaurant, name of restaurant and item are _categorical_ variables.\n",
    "\n",
    "We can see the variable types and other information in Lisp-Stat using the [describe](http://www.lispworks.com/documentation/lw70/CLHS/Body/f_descri.htm) command. To see the key characteristics of a data set (the data dictionary) for the coupon data set:"
   ]
  },
  {
   "cell_type": "code",
   "execution_count": null,
   "id": "6",
   "metadata": {
    "vscode": {
     "languageId": "clojure"
    }
   },
   "outputs": [],
   "source": [
    "(describe coupons)"
   ]
  },
  {
   "cell_type": "markdown",
   "id": "7",
   "metadata": {},
   "source": [
    "# Example 1.6 Comparing colleges based on graduates\n",
    "\n",
    "This example adjusts one variable to create another. In this case we want to compare the graduation rate among colleges, so as to compare apples to apples, need to adjust for the total student population. This is simple division. In College A there were 1000 first year students, and 800 graduated within 6 years, so the graduation rate is:"
   ]
  },
  {
   "cell_type": "code",
   "execution_count": null,
   "id": "8",
   "metadata": {
    "vscode": {
     "languageId": "clojure"
    }
   },
   "outputs": [],
   "source": [
    "(/ 800 1000)"
   ]
  },
  {
   "cell_type": "markdown",
   "id": "9",
   "metadata": {},
   "source": [
    "College B has 2000 students who entered the same year, and 1200 graduated within 6 years. College B's graduation rate is:"
   ]
  },
  {
   "cell_type": "code",
   "execution_count": null,
   "id": "10",
   "metadata": {
    "vscode": {
     "languageId": "clojure"
    }
   },
   "outputs": [],
   "source": [
    "(/ 1200 2000)"
   ]
  },
  {
   "cell_type": "markdown",
   "id": "11",
   "metadata": {},
   "source": [
    "Note two things about these calculations:\n",
    "\n",
    "1. Lisp-Stat uses [prefix notation](https://en.wikipedia.org/wiki/Polish_notation). This means parentheses are not required for grouping operations. There is no ambiguity.\n",
    "2. Results are returned in rational format. Most systems use floating point and have limited accuracy. Rational numbers are exact, and this is great for statistical work."
   ]
  },
  {
   "cell_type": "markdown",
   "id": "12",
   "metadata": {},
   "source": [
    "# 1.2 Displaying distributions with graphs\n",
    "\n",
    "This chapter of the text describes exploratory data analysis and suggests two basic strategies:\n",
    "\n",
    "- Examining each variable in isloation, then study the relationships among the variables\n",
    "- Begin with plotting the variables, then add numerical summaries of specific aspects of the data\n",
    "\n",
    "This chapter presents methods for analysing a single variable, beginning first with graphical display, then adding numerical summaries for a more complete description.\n",
    "\n",
    "## Categorical variables: Bar graphs and pie charts\n",
    "\n",
    "The values of a categorical variable are labels for the categories, such as 'male' and 'female'. The distribution of a categorical variable lists the categories and gives either the _count_ or the _percent_ of cases that fall in each category. An alternative to the percent is the proportion, the count divided by the sum of the counts. Note that the percent is simply the proportion times 100.\n",
    "\n",
    "### Example 1.7 How do you do online research?\n",
    "\n",
    "In example 1.7, the distribution of a categorical variable is examined along with a demonstration of the count of each catagory as a percentage of the total. The data set is the preferences for online information resources taken from a survey of 552 first year university students.\n",
    "\n",
    "First, read the data into a data frame with the name 'online'. Note that we're not using the usual convention of \\*earmuffs\\* on the variable name. The example data sets are named after the example number in the book, e.g. example 1.7 data is named eg01-07."
   ]
  },
  {
   "cell_type": "code",
   "execution_count": null,
   "id": "13",
   "metadata": {
    "vscode": {
     "languageId": "clojure"
    }
   },
   "outputs": [],
   "source": [
    "(defdf online (read-csv ips:eg01-07))"
   ]
  },
  {
   "cell_type": "markdown",
   "id": "14",
   "metadata": {},
   "source": [
    "We can view the counts by using the `print-data` function:"
   ]
  },
  {
   "cell_type": "code",
   "execution_count": null,
   "id": "15",
   "metadata": {
    "vscode": {
     "languageId": "clojure"
    }
   },
   "outputs": [],
   "source": [
    "(print-data online)"
   ]
  },
  {
   "cell_type": "markdown",
   "id": "16",
   "metadata": {},
   "source": [
    "Here we see the results presented as a summary. To see it as percentage, we need to determine the total counts and divide.\n",
    "\n",
    "### Example 1.8 Favorites as percents\n",
    "\n",
    "First we determine the total count:"
   ]
  },
  {
   "cell_type": "code",
   "execution_count": null,
   "id": "17",
   "metadata": {
    "vscode": {
     "languageId": "clojure"
    }
   },
   "outputs": [],
   "source": [
    "(sum online:count)"
   ]
  },
  {
   "cell_type": "markdown",
   "id": "18",
   "metadata": {},
   "source": [
    "And now divide each count by the total and multiply by 100 to get the percentage:"
   ]
  },
  {
   "cell_type": "code",
   "execution_count": null,
   "id": "19",
   "metadata": {
    "vscode": {
     "languageId": "clojure"
    }
   },
   "outputs": [],
   "source": [
    "(e* 100\n",
    "    (e/ online:count 552.0))"
   ]
  },
  {
   "cell_type": "markdown",
   "id": "20",
   "metadata": {},
   "source": [
    "Notice the mathmatical operators were prefixed by 'e'. This prefix signifies elementwise operations. That is, the operator accepts either vectors or single numbers. The results are vectors if the inputs include vectors. \n",
    "\n",
    "In the book, we are given a summary as data, and compute the percentages. Most of the time however, we are given raw data and perform an analysis. Let's rework examples 1.7 & 1.8 using raw data. To start, load data from a file called online-data:"
   ]
  },
  {
   "cell_type": "code",
   "execution_count": null,
   "id": "21",
   "metadata": {
    "vscode": {
     "languageId": "clojure"
    }
   },
   "outputs": [],
   "source": [
    "(load #P\"IPS:DATA;online-data\")"
   ]
  },
  {
   "cell_type": "markdown",
   "id": "22",
   "metadata": {},
   "source": [
    "For this example, we are working with a single variable, so have used the _def_ function to create a single variable\n",
    "to work with. We can see all the variables defined this way with the function named _variables_:"
   ]
  },
  {
   "cell_type": "code",
   "execution_count": null,
   "id": "23",
   "metadata": {
    "vscode": {
     "languageId": "clojure"
    }
   },
   "outputs": [],
   "source": [
    "(variables)"
   ]
  },
  {
   "cell_type": "markdown",
   "id": "24",
   "metadata": {},
   "source": [
    "This function returns a list of defined variables, in this case only a single variable, with the name `sources`. To see the percentage summary of `sources`, use the `tabulate` command:"
   ]
  },
  {
   "cell_type": "code",
   "execution_count": null,
   "id": "25",
   "metadata": {
    "vscode": {
     "languageId": "clojure"
    }
   },
   "outputs": [],
   "source": [
    "(tabulate sources)"
   ]
  },
  {
   "cell_type": "markdown",
   "id": "26",
   "metadata": {
    "tags": []
   },
   "source": [
    "### Example 1.9 Bar graph for the online resource preference data\n",
    "\n",
    "This example displays the online resource preferences using a *bar graph*. The heights of the four bars show the percents of the students who reported each of the resources as their favourite.\n",
    "\n",
    "**Note**: you might see a 'simple-warning' related to an undefined variable.  You can ignore this; it's because we're in the ips package and defplot is defining the variable."
   ]
  },
  {
   "cell_type": "code",
   "execution_count": null,
   "id": "27",
   "metadata": {
    "vscode": {
     "languageId": "clojure"
    }
   },
   "outputs": [],
   "source": [
    "(vega:defplot online-bar-chart `(:mark :bar\n",
    "                                 :data (:values ,online)\n",
    "                                 :encoding (:x (:field source :type \"nominal\"      :title \"Online resource\")\n",
    "                                            :y (:field count  :type \"quantitative\" :title \"Percentage preference\"))))"
   ]
  },
  {
   "cell_type": "markdown",
   "id": "28",
   "metadata": {},
   "source": [
    "and plot it:"
   ]
  },
  {
   "cell_type": "code",
   "execution_count": null,
   "id": "29",
   "metadata": {
    "vscode": {
     "languageId": "clojure"
    }
   },
   "outputs": [],
   "source": [
    "(ips:plot online-bar-chart)"
   ]
  },
  {
   "cell_type": "markdown",
   "id": "30",
   "metadata": {},
   "source": [
    "It's a little bit hard to read; let's fix this by adding a width setting:"
   ]
  },
  {
   "cell_type": "code",
   "execution_count": null,
   "id": "31",
   "metadata": {
    "vscode": {
     "languageId": "clojure"
    }
   },
   "outputs": [],
   "source": [
    "(ips:plot\n",
    " (vega:defplot online-bar-chart `(:mark :bar\n",
    "                                  :width 300\n",
    "                                  :data (:values ,online)\n",
    "                                  :encoding (:x (:field source :type \"nominal\"      :title \"Online resource\")\n",
    "                                             :y (:field count  :type \"quantitative\" :title \"Percentage preference\")))))"
   ]
  },
  {
   "cell_type": "markdown",
   "id": "32",
   "metadata": {},
   "source": [
    "You should always consider the best way to order the values in a bar chart. In this case, we will sort X\n",
    "by the value of Y, descending:"
   ]
  },
  {
   "cell_type": "code",
   "execution_count": null,
   "id": "33",
   "metadata": {
    "vscode": {
     "languageId": "clojure"
    }
   },
   "outputs": [],
   "source": [
    "(ips:plot\n",
    " (vega:defplot online-bar-chart `(:mark :bar\n",
    "                                  :width 300\n",
    "                                  :data (:values ,online)\n",
    "                                  :encoding (:x (:field source :type \"nominal\"      :title \"Online resource\" :sort \"-y\")\n",
    "                                             :y (:field count  :type \"quantitative\" :title \"Percentage preference\")))))"
   ]
  },
  {
   "cell_type": "markdown",
   "id": "34",
   "metadata": {},
   "source": [
    "### Example 1.10 Pie chart for the online resource preference data\n",
    "Figure 1.3 (page 11) displays the same data in a pie chart. We can create a spec and plot the data as pie chart by changing the `mark` and `encoding` parameters."
   ]
  },
  {
   "cell_type": "code",
   "execution_count": null,
   "id": "35",
   "metadata": {
    "vscode": {
     "languageId": "clojure"
    }
   },
   "outputs": [],
   "source": [
    "(ips:plot\n",
    " (vega:defplot online-bar-chart `(:mark :arc\n",
    "                                  :width 300\n",
    "                                  :data (:values ,online)\n",
    "                                  :encoding (:color (:field source :type \"nominal\" :title \"Online resource\")\n",
    "                                             :theta (:field count  :type \"quantitative\")))))"
   ]
  },
  {
   "cell_type": "markdown",
   "id": "36",
   "metadata": {},
   "source": [
    "## Quantitative Variables: Stemplots and histograms\n",
    "A [stemplot](https://en.wikipedia.org/wiki/Stem-and-leaf_display) (stem-and-leaf plot) provides a quick graphical summary of the shape of a distribution. They are good for small data sets. For larger data sets, histograms work best.\n",
    "\n",
    "### Example 1.11 Soluble corn fiber and calcium\n",
    "This example show a stem-and-leaf plot of the effect of soluble corn fiber (SCF) on the absorption of calcium in adolescent boys and girls."
   ]
  },
  {
   "cell_type": "code",
   "execution_count": null,
   "id": "37",
   "metadata": {
    "tags": [],
    "vscode": {
     "languageId": "clojure"
    }
   },
   "outputs": [],
   "source": [
    "(defdf scf (read-csv ips:eg01-11))"
   ]
  },
  {
   "cell_type": "markdown",
   "id": "38",
   "metadata": {},
   "source": [
    "Let's take a high-level look at this data set:"
   ]
  },
  {
   "cell_type": "code",
   "execution_count": null,
   "id": "39",
   "metadata": {
    "vscode": {
     "languageId": "clojure"
    }
   },
   "outputs": [],
   "source": [
    "(summary scf)"
   ]
  },
  {
   "cell_type": "markdown",
   "id": "40",
   "metadata": {},
   "source": [
    "A data-frame of 3 variables and 46 observations. This is small enough for us to print in its entirety. We'll use a helper function, `print-df` that we've added to the `IPS` package to make printing with Lisp-Stat easier when working with notebooks."
   ]
  },
  {
   "cell_type": "code",
   "execution_count": null,
   "id": "41",
   "metadata": {
    "vscode": {
     "languageId": "clojure"
    }
   },
   "outputs": [],
   "source": [
    "(print-df scf)"
   ]
  },
  {
   "cell_type": "markdown",
   "id": "42",
   "metadata": {},
   "source": [
    "We want the treatment group, so we'll use the [select](https://lisp-stat.dev/docs/tasks/select/) package to subset the data from ID 24 to 46:"
   ]
  },
  {
   "cell_type": "code",
   "execution_count": null,
   "id": "43",
   "metadata": {
    "vscode": {
     "languageId": "clojure"
    }
   },
   "outputs": [],
   "source": [
    "(stem-and-leaf (select scf (range 23 nil) 'absorption)) ;arrays are 0 based, so we start at 23\n",
    "                                                        ;nil means to the end of the vector"
   ]
  },
  {
   "cell_type": "markdown",
   "id": "44",
   "metadata": {},
   "source": [
    "### Example 1.12 Back-to-back stemplot\n",
    "Example 1.12 compares the data between the SCF and control groups using a back-to-back stemplot.  The values on the left give absorption for the control condition, while the values on the right give absorption when SCF was consumed.  The values for SCF appear to be somewhat higher than the controls."
   ]
  },
  {
   "cell_type": "code",
   "execution_count": null,
   "id": "45",
   "metadata": {
    "vscode": {
     "languageId": "clojure"
    }
   },
   "outputs": [],
   "source": [
    "(back-to-back-stem-and-leaf (select scf (range  0 22)  'absorption)\n",
    "                            (select scf (range 23 nil) 'absorption))"
   ]
  },
  {
   "cell_type": "markdown",
   "id": "46",
   "metadata": {},
   "source": [
    "### Example 1.13 Stemplot with split stems\n",
    "This example demonstrates *splitting stems* and *trimming* digits in the leaves to fine-tune the display of the stemplot to better observe characteristics of the data. Trimming (rounding) the data can be done using Common Lisp before plotting."
   ]
  },
  {
   "cell_type": "markdown",
   "id": "47",
   "metadata": {},
   "source": [
    "### Example 1.14 - Distribution of IQ scores\n",
    "This example looks at the IQ scores of 60 fifth-grade students choosen at random from one school. We know that the distribution should be approximately 'bell shaped' and will draw a histogram to see if it is.\n",
    "\n",
    "First, load the example data:"
   ]
  },
  {
   "cell_type": "code",
   "execution_count": null,
   "id": "48",
   "metadata": {
    "vscode": {
     "languageId": "clojure"
    }
   },
   "outputs": [],
   "source": [
    "(defdf iq-scores (read-csv ips:eg01-14))"
   ]
  },
  {
   "cell_type": "markdown",
   "id": "49",
   "metadata": {},
   "source": [
    "and use the `hist` function to generate a histogram and frequency table. Following the instructions in the book, the range is from 75 to 155, with bin width of 10, so:"
   ]
  },
  {
   "cell_type": "code",
   "execution_count": null,
   "id": "50",
   "metadata": {
    "vscode": {
     "languageId": "clojure"
    }
   },
   "outputs": [],
   "source": [
    "(plot/text:hist (75 155 10) (mapcar #'plot/text:hist-record (coerce iq-scores:iq 'list)))"
   ]
  },
  {
   "cell_type": "markdown",
   "id": "51",
   "metadata": {},
   "source": [
    "Note that this is a _text_ plot and the cell in the notebook renders markdown, so the numbers are slightly misaligned. If you did this from a REPL they would be aligned exactly. In this example, the `plot/text:hist` function did the binning for us. We can also plot this graphically and use Vega-Lite to do the binning."
   ]
  },
  {
   "cell_type": "code",
   "execution_count": null,
   "id": "52",
   "metadata": {
    "vscode": {
     "languageId": "clojure"
    }
   },
   "outputs": [],
   "source": [
    "(ips:plot\n",
    " (vega:defplot iq-plot `(:mark :bar\n",
    "                         :data (:values ,iq-scores)\n",
    "                         :width 300\n",
    "                         :encoding (:x (:field iq :bin (:maxbin 8))\n",
    "                                    :y (:aggregate \"count\")))))"
   ]
  },
  {
   "cell_type": "markdown",
   "id": "53",
   "metadata": {},
   "source": [
    "### Example 1.16 Histogram for customer service call lengths\n",
    "Plot a histogram of the length of calls to a customer service department.  Note that we filter the outliers that are greater than 1200s (20 minutes), and set the `step` size to better see the characteristics of the data.  Such experimentation is often neccessary during the exploration phase."
   ]
  },
  {
   "cell_type": "code",
   "execution_count": null,
   "id": "54",
   "metadata": {
    "vscode": {
     "languageId": "clojure"
    }
   },
   "outputs": [],
   "source": [
    "(defdf call-times (read-csv ips:eg01-16))"
   ]
  },
  {
   "cell_type": "code",
   "execution_count": null,
   "id": "55",
   "metadata": {
    "vscode": {
     "languageId": "clojure"
    }
   },
   "outputs": [],
   "source": [
    "(ips:plot\n",
    " (vega:defplot call-plot `(:mark :bar\n",
    "                           :data (:values ,(filter-rows call-times '(> 1200 length)))\n",
    "                           :width 300\n",
    "                           :encoding (:x (:field length :bin (:step 10) :title \"Service time (seconds)\")\n",
    "                                      :y (:aggregate \"count\")))))"
   ]
  },
  {
   "cell_type": "markdown",
   "id": "56",
   "metadata": {},
   "source": [
    "Note the striking deviation for calls that are less than 10 seconds long.  This is commonly seen when the service agent metric is to reduce average call times.  The easiest way to do that is to just hang up on the customer!"
   ]
  },
  {
   "cell_type": "markdown",
   "id": "57",
   "metadata": {},
   "source": [
    "We can calculate the proportion less than or equal to ten seconds (to replicate the text in figure 1.8 on page 17).  This is done by a non-obvious, but common idiom (at least in R).  We use `e2<` to determine the number of elements that meet our criteria.  The vector returned by `e2<` is the same length as the input, but with TRUE and FALSE values representing the results of applying the predicate.  With that we can take the mean to determine the percentage of values that match our criteria.  This sounds harder than it is:"
   ]
  },
  {
   "cell_type": "code",
   "execution_count": null,
   "id": "58",
   "metadata": {
    "vscode": {
     "languageId": "clojure"
    }
   },
   "outputs": [],
   "source": [
    "(mean (e2<= call-times:length 10))"
   ]
  },
  {
   "cell_type": "markdown",
   "id": "59",
   "metadata": {},
   "source": [
    "This is 7.6% of the calls."
   ]
  },
  {
   "cell_type": "markdown",
   "id": "60",
   "metadata": {},
   "source": [
    "## Dealing with Outliers"
   ]
  },
  {
   "cell_type": "markdown",
   "id": "61",
   "metadata": {},
   "source": [
    "### Example 1.19 College students\n",
    "How does the number of undergraduate university students vary by state?"
   ]
  },
  {
   "cell_type": "code",
   "execution_count": null,
   "id": "62",
   "metadata": {
    "vscode": {
     "languageId": "clojure"
    }
   },
   "outputs": [],
   "source": [
    "(defdf college-students (read-csv ips:eg01-19))"
   ]
  },
  {
   "cell_type": "code",
   "execution_count": null,
   "id": "63",
   "metadata": {
    "vscode": {
     "languageId": "clojure"
    }
   },
   "outputs": [],
   "source": [
    "(ips:plot\n",
    " (vega:defplot student-plot `(:mark :bar\n",
    "                              :data (:values ,college-students)\n",
    "                              :width 300\n",
    "                              :encoding (:x (:field undergrads :bin (:step 300000 :anchor 150000) :title \"Undergraduates\")\n",
    "                                         :y (:aggregate \"count\")))))"
   ]
  },
  {
   "cell_type": "markdown",
   "id": "64",
   "metadata": {},
   "source": [
    "In this plot of the number of states by students, we can see an outlier in the bar at the far right.  Let's see what state this is."
   ]
  },
  {
   "cell_type": "code",
   "execution_count": null,
   "id": "65",
   "metadata": {
    "vscode": {
     "languageId": "clojure"
    }
   },
   "outputs": [],
   "source": [
    "(print-df\n",
    " (filter-rows college-students `(= undergrads ,(seq-max college-students:undergrads))))"
   ]
  },
  {
   "cell_type": "markdown",
   "id": "66",
   "metadata": {},
   "source": [
    "California has about 2 million undergraduates; much more than other states.  However is it really an outlier?  California also has the largest population in the United States, so it should be expected to have a large number of students.  To test this theory, we'll plot the `UGradPerThou` variable in the data set.\n",
    "### Example 1.20 College students per 1000 population"
   ]
  },
  {
   "cell_type": "code",
   "execution_count": null,
   "id": "67",
   "metadata": {
    "vscode": {
     "languageId": "clojure"
    }
   },
   "outputs": [],
   "source": [
    "(stem-and-leaf (map 'vector #'round college-students:ugradperthou)) ; round to nearest whole thousand"
   ]
  },
  {
   "cell_type": "markdown",
   "id": "68",
   "metadata": {},
   "source": [
    "Here California's value of 60 undergraduates per thousand of population doesn't seem unusual, but the state with 77 per thousand looks like an outlier in this view.  "
   ]
  },
  {
   "cell_type": "code",
   "execution_count": null,
   "id": "69",
   "metadata": {
    "vscode": {
     "languageId": "clojure"
    }
   },
   "outputs": [],
   "source": [
    "(print-df\n",
    " (filter-rows college-students `(> ugradperthou 76)))"
   ]
  },
  {
   "cell_type": "markdown",
   "id": "70",
   "metadata": {},
   "source": [
    "### Example 1.21 Healthy bones and PTH"
   ]
  },
  {
   "cell_type": "code",
   "execution_count": null,
   "id": "71",
   "metadata": {
    "vscode": {
     "languageId": "clojure"
    }
   },
   "outputs": [],
   "source": [
    "(defdf pth (read-csv ips:eg01-21))"
   ]
  },
  {
   "cell_type": "code",
   "execution_count": null,
   "id": "72",
   "metadata": {
    "vscode": {
     "languageId": "clojure"
    }
   },
   "outputs": [],
   "source": [
    "(stem-and-leaf pth:pth)"
   ]
  },
  {
   "cell_type": "markdown",
   "id": "73",
   "metadata": {},
   "source": [
    "127 is an outlier here.  Since the same individual tested in the normal range on a different day, we can conclude this was caused by a\n",
    "laboratory or reporting error and discard it."
   ]
  },
  {
   "cell_type": "markdown",
   "id": "74",
   "metadata": {},
   "source": [
    "## Time plots\n",
    "Displays of the distribution of a variable that ignore time order, such as stemplots and histograms, can be misleading when there is a systematic change over time.  Always plot time on the `x` axis and the variable being measured on the `y` axis.\n",
    "\n",
    "### Example 1.22 Seasonal variation in vitamin D"
   ]
  },
  {
   "cell_type": "code",
   "execution_count": null,
   "id": "75",
   "metadata": {
    "vscode": {
     "languageId": "clojure"
    }
   },
   "outputs": [],
   "source": [
    "(load #P\"IPS:DATA;vitamin-d\")"
   ]
  },
  {
   "cell_type": "markdown",
   "id": "76",
   "metadata": {},
   "source": [
    "To see the seasonal effects, we'll layer the average over raw data values by date.  The observations are grouped into periods of two months for the year, e.g. Febraury-March, April-May, etc."
   ]
  },
  {
   "cell_type": "code",
   "execution_count": null,
   "id": "77",
   "metadata": {
    "vscode": {
     "languageId": "clojure"
    }
   },
   "outputs": [],
   "source": [
    "(ips:plot\n",
    " (vega:defplot vd-by-mth `(:data (:values ,vitamin-d)\n",
    "                           :width 300\n",
    "                           :layer #((:mark :point\n",
    "                                     :encoding (:x (:field :months)\n",
    "                                                :y (:field :vitamind\n",
    "                                                    :type  :quantitative)))\n",
    "                                     (:mark (:type :line\n",
    "                                             :color :red)\n",
    "                                      :encoding (:x (:field :months)\n",
    "                                                 :y (:field :vitamind\n",
    "                                                     :aggregate :mean\n",
    "                                                     :title \"Vitamin D (nmol/l)\")))))))"
   ]
  },
  {
   "cell_type": "markdown",
   "id": "78",
   "metadata": {},
   "source": [
    "# 1.3 Describing distributions with numbers"
   ]
  },
  {
   "cell_type": "markdown",
   "id": "79",
   "metadata": {},
   "source": [
    "Numerical summaries are more specific than graphical summaries. For categorical variables, numerical summaries are the counts or percents that are used to construct pie or bar graphs.  This section focuses on numerical summaries for quantitative variables.  A brief description of the distribution of a quantative variable should include its *shape* and numbers describing its *center* and *spread*.\n",
    "\n",
    "## Measuring the center: The mean\n",
    "\n",
    "### Example 1.24 - Mean time to start a business\n",
    "We start with a data set observing the time to start a business in 24 countries."
   ]
  },
  {
   "cell_type": "code",
   "execution_count": null,
   "id": "80",
   "metadata": {
    "vscode": {
     "languageId": "clojure"
    }
   },
   "outputs": [],
   "source": [
    "(defdf ttsb (read-csv ips::eg01-23))"
   ]
  },
  {
   "cell_type": "markdown",
   "id": "81",
   "metadata": {},
   "source": [
    "The stem and leaf plot below (Figure 1.13 in the text) shows us the *shape*, *center* and *spread* of the business start times."
   ]
  },
  {
   "cell_type": "code",
   "execution_count": null,
   "id": "82",
   "metadata": {
    "vscode": {
     "languageId": "clojure"
    }
   },
   "outputs": [],
   "source": [
    "(stem-and-leaf ttsb:time)"
   ]
  },
  {
   "cell_type": "markdown",
   "id": "83",
   "metadata": {},
   "source": [
    "The distribution is skewed to the right, with a long tail of high values.  All but six of the times are less than 20 days.  The centre appears to be about 10 days, and the values range from 2 to 53 days.  There do not appear to be any outliers. To compute the mean exactly, use the *mean* function:"
   ]
  },
  {
   "cell_type": "code",
   "execution_count": null,
   "id": "84",
   "metadata": {
    "vscode": {
     "languageId": "clojure"
    }
   },
   "outputs": [],
   "source": [
    "(mean ttsb:time)"
   ]
  },
  {
   "cell_type": "markdown",
   "id": "85",
   "metadata": {},
   "source": [
    "and its float value can be computed with:"
   ]
  },
  {
   "cell_type": "code",
   "execution_count": null,
   "id": "86",
   "metadata": {
    "vscode": {
     "languageId": "clojure"
    }
   },
   "outputs": [],
   "source": [
    "(round-float (float cl:*) :precision 1) ; * is replaced by the last value, in this case 391/24.  Rounded, as in the text on page 29."
   ]
  },
  {
   "cell_type": "markdown",
   "id": "87",
   "metadata": {},
   "source": [
    "## Measuring the center: The median\n",
    "The median M is the midpoint of a distribution.  Half the observations are smaller than the median, and the other half are larger.  We can find the median using the `median` function.\n",
    "\n",
    "### Example 1.25 - Median time to start a business"
   ]
  },
  {
   "cell_type": "code",
   "execution_count": null,
   "id": "88",
   "metadata": {
    "vscode": {
     "languageId": "clojure"
    }
   },
   "outputs": [],
   "source": [
    "(median ttsb:time)"
   ]
  },
  {
   "cell_type": "markdown",
   "id": "89",
   "metadata": {},
   "source": [
    "and in floating point notation:"
   ]
  },
  {
   "cell_type": "code",
   "execution_count": null,
   "id": "90",
   "metadata": {
    "vscode": {
     "languageId": "clojure"
    }
   },
   "outputs": [],
   "source": [
    "(round-float (float cl:*) :precision 1)"
   ]
  },
  {
   "cell_type": "markdown",
   "id": "91",
   "metadata": {},
   "source": [
    "## Measuring the spread: The quartiles\n",
    "We can use the `fivenum` function to find the quartiles.  The **five-number summary** of a set of observations consists of the smallest observation, the first quartile, the median, the third quartile and the largest observation, listed in order from smallest to largest.\n",
    "### Example 1.26 - Finding quartiles"
   ]
  },
  {
   "cell_type": "code",
   "execution_count": null,
   "id": "92",
   "metadata": {
    "vscode": {
     "languageId": "clojure"
    }
   },
   "outputs": [],
   "source": [
    "(fivenum ttsb:time) ; use :tukey t for the R style version of this function"
   ]
  },
  {
   "cell_type": "markdown",
   "id": "93",
   "metadata": {},
   "source": [
    "### Example 1.27 - Call center call lengths\n",
    "Observe how the data in this sample of call centre call lengths (given in Table 1.2 on page 17) is skewed.  The mean, 197 (calculated previously), is very close to the third quartile."
   ]
  },
  {
   "cell_type": "code",
   "execution_count": null,
   "id": "94",
   "metadata": {
    "vscode": {
     "languageId": "clojure"
    }
   },
   "outputs": [],
   "source": [
    "(load #P\"IPS:DATA;sample-call-times\")"
   ]
  },
  {
   "cell_type": "code",
   "execution_count": null,
   "id": "95",
   "metadata": {
    "vscode": {
     "languageId": "clojure"
    }
   },
   "outputs": [],
   "source": [
    "(fivenum sample-call-times)"
   ]
  },
  {
   "cell_type": "markdown",
   "id": "96",
   "metadata": {},
   "source": [
    "### Example 1.28 - Boxplots\n",
    "This example shows a **boxplot** of the IQ scores. A boxplot is a plot of the information in a five-number summary.  The central box spans Q<sub>1</sub> to Q<sub>3</sub>, a line in the middle of the box marks the median, *M*, and the lines extending from the box mark the minimum and maximum values.  Box plots are great for comparing two or more groups; for single sample population a numerical analysis is usually better. "
   ]
  },
  {
   "cell_type": "code",
   "execution_count": null,
   "id": "97",
   "metadata": {
    "vscode": {
     "languageId": "clojure"
    }
   },
   "outputs": [],
   "source": [
    "(ips:plot\n",
    " (vega:defplot iq-box-plot\n",
    "   `(:data (:values ,iq-scores)\n",
    "     :mark (:type :boxplot\n",
    "            :extent \"min-max\")\n",
    "     :encoding (:y (:field :iq\n",
    "                    :type :quantitative\n",
    "                    :scale (:zero :false)\n",
    "                    :title \"IQ\")))))"
   ]
  },
  {
   "cell_type": "markdown",
   "id": "98",
   "metadata": {},
   "source": [
    "## Interquartile range & outliers"
   ]
  },
  {
   "cell_type": "markdown",
   "id": "99",
   "metadata": {},
   "source": [
    "To determine suspected outliers, we use the \"1.5 x IQR\" rule, where IQR is the *interquartile range* This is defined as the distance between the quartiles (the range of the centre half of the data). If a data point is more than 1.5 x IQR above the third quartile (Q<sub>3</sub>) or below the first quartile (Q<sub>1</sub>), we consider it as an outlier.\n",
    "\n",
    "### Example 1.29 - IQR for call length\n",
    "We can use the function `interquartile-range` to compute this:"
   ]
  },
  {
   "cell_type": "code",
   "execution_count": null,
   "id": "100",
   "metadata": {
    "vscode": {
     "languageId": "clojure"
    }
   },
   "outputs": [],
   "source": [
    "(interquartile-range sample-call-times)"
   ]
  },
  {
   "cell_type": "markdown",
   "id": "101",
   "metadata": {},
   "source": [
    "### Example 1.30 Outliers for call length\n",
    "We can identify outliers in the `sample-call-times` data set like so:"
   ]
  },
  {
   "cell_type": "code",
   "execution_count": null,
   "id": "102",
   "metadata": {
    "vscode": {
     "languageId": "clojure"
    }
   },
   "outputs": [],
   "source": [
    "(let-plus:let+ ((threshold (* 1.5 (interquartile-range sample-call-times)))\n",
    "                (#(q1 q3) (quantiles sample-call-times '(0.25 0.75)))\n",
    "                (lower-threshold (- q1 threshold))\n",
    "                (upper-threshold (+ q3 threshold)))\n",
    "  (loop\n",
    "    for x across sample-call-times\n",
    "    when (or (< x lower-threshold)\n",
    "             (> x upper-threshold))\n",
    "      collect x into outliers\n",
    "    finally (return (sort outliers #'<))))"
   ]
  },
  {
   "cell_type": "markdown",
   "id": "103",
   "metadata": {},
   "source": [
    "We can see that the outliers are all on the upper end.  We could also use a box plot to see them."
   ]
  },
  {
   "cell_type": "code",
   "execution_count": null,
   "id": "104",
   "metadata": {
    "vscode": {
     "languageId": "clojure"
    }
   },
   "outputs": [],
   "source": [
    "(ips:plot\n",
    " (vega:defplot calls-box-plot\n",
    "   `(:data (:values ,(plist-df `(:x ,sample-call-times)))\n",
    "     :width 500\n",
    "     :mark (:type :boxplot)\n",
    "     :encoding (:x (:field x\n",
    "                    :type :quantitative\n",
    "                    :scale (:zero :false)\n",
    "                    :title \"Call Centre Times\")))))"
   ]
  },
  {
   "cell_type": "markdown",
   "id": "105",
   "metadata": {},
   "source": [
    "### Example 1.31 Do poets die young?\n",
    "This example examines the lifespans of three types of writers: poets, novelists and non-fiction writers to see if the poets tend to die at a younger age.  We'll compare them with a box plot."
   ]
  },
  {
   "cell_type": "code",
   "execution_count": null,
   "id": "106",
   "metadata": {
    "vscode": {
     "languageId": "clojure"
    }
   },
   "outputs": [],
   "source": [
    "(defdf writers (read-csv ips:eg01-31))"
   ]
  },
  {
   "cell_type": "code",
   "execution_count": null,
   "id": "107",
   "metadata": {
    "vscode": {
     "languageId": "clojure"
    }
   },
   "outputs": [],
   "source": [
    "(ips:plot\n",
    " (vega:defplot writer-deaths\n",
    "   `(:data (:values ,writers)\n",
    "     :width 150\n",
    "     :mark (:type :boxplot)\n",
    "     :encoding (:x (:field :type\n",
    "                    :type :nominal\n",
    "                    :title \"Type of writer\")\n",
    "                :y (:field age\n",
    "                    :type :quantitative\n",
    "                    :scale (:zero :false)\n",
    "                    :title \"Age at death\")\n",
    "                :color (:field type\n",
    "                        :type :nominal\n",
    "                        :legend nil)))))"
   ]
  },
  {
   "cell_type": "markdown",
   "id": "108",
   "metadata": {},
   "source": [
    "It appears the poets do die younger than other writers. Nonfiction writers seem to live the longest, with the exception of two outliers.\n",
    "\n",
    "## Measuring spread: standard deviation"
   ]
  },
  {
   "cell_type": "markdown",
   "id": "109",
   "metadata": {},
   "source": [
    "The most common parameters used to describe a distribution are the *mean*, to measure the centre,\n",
    "and *standard deviation* to measure the spread.  The standard deviation measures spread by looking at\n",
    "how far the observations are from their mean.\n",
    "\n",
    "It is straightforward to calculate the variance and standard deviation within Lisp-Stat."
   ]
  },
  {
   "cell_type": "code",
   "execution_count": null,
   "id": "110",
   "metadata": {
    "vscode": {
     "languageId": "clojure"
    }
   },
   "outputs": [],
   "source": [
    "(def x #(1792 1666 1362 1614 1460 1867 1439)) ; define a variable X with a few values\n",
    "(sqrt (/ (reduce #'+ (esquare (e- x (mean x))))\n",
    "         (1- (length x))))"
   ]
  },
  {
   "cell_type": "markdown",
   "id": "111",
   "metadata": {},
   "source": [
    "However it is simpler to use the built-in commands:"
   ]
  },
  {
   "cell_type": "code",
   "execution_count": null,
   "id": "112",
   "metadata": {
    "vscode": {
     "languageId": "clojure"
    }
   },
   "outputs": [],
   "source": [
    "(variance x)"
   ]
  },
  {
   "cell_type": "code",
   "execution_count": null,
   "id": "113",
   "metadata": {
    "vscode": {
     "languageId": "clojure"
    }
   },
   "outputs": [],
   "source": [
    "(float *)  ; call float to convert rational (exact) to a floating point approximation"
   ]
  },
  {
   "cell_type": "code",
   "execution_count": null,
   "id": "114",
   "metadata": {
    "vscode": {
     "languageId": "clojure"
    }
   },
   "outputs": [],
   "source": [
    "(sd x) ; square root of variance"
   ]
  },
  {
   "cell_type": "markdown",
   "id": "115",
   "metadata": {},
   "source": [
    "## Linear transformations\n",
    "We'll replicate the analyses from example 1.34 (page 45).  Instead of operating directly on a vector, we'll create a data-frame."
   ]
  },
  {
   "cell_type": "code",
   "execution_count": null,
   "id": "116",
   "metadata": {
    "vscode": {
     "languageId": "clojure"
    }
   },
   "outputs": [],
   "source": [
    "(defdf grades (plist-df '(score #(1056 1080 900 1164 1020))))"
   ]
  },
  {
   "cell_type": "markdown",
   "id": "117",
   "metadata": {},
   "source": [
    "This time we'll use a convenience function `mean-sd-n` that, as its name suggests, returns the *mean*, *standard-deviation* and the number of observations, *n*."
   ]
  },
  {
   "cell_type": "code",
   "execution_count": null,
   "id": "118",
   "metadata": {
    "vscode": {
     "languageId": "clojure"
    }
   },
   "outputs": [],
   "source": [
    "(mean-sd-n grades:score)"
   ]
  },
  {
   "cell_type": "markdown",
   "id": "119",
   "metadata": {},
   "source": [
    "Now we'll do the linear transformation by adding a column with the scores divided by 4:"
   ]
  },
  {
   "cell_type": "code",
   "execution_count": null,
   "id": "120",
   "metadata": {
    "vscode": {
     "languageId": "clojure"
    }
   },
   "outputs": [],
   "source": [
    "(add-column! grades 'points (e/ grades:score 4) t) ; note the last parameter, 't', tells add-column to update the environment so we can refer to the column by name"
   ]
  },
  {
   "cell_type": "code",
   "execution_count": null,
   "id": "121",
   "metadata": {
    "vscode": {
     "languageId": "clojure"
    }
   },
   "outputs": [],
   "source": [
    "(mean-sd-n grades:points)"
   ]
  },
  {
   "cell_type": "markdown",
   "id": "122",
   "metadata": {},
   "source": [
    "# 1.4 Density curves and normal distributions\n",
    "Figure 1.20 (page 52) in the text shows the histogram we saw earlier for start times for a business and a new one for *Titanic* passenger ages, both overlaid with density curves. The density curve is smooth approximation that illustrates the overall pattern of the historgram whilst ignoring minor irregularities.  A density curve is a curve that:\n",
    "* Is always on or above the horizontal axis\n",
    "* Has an area of exactly 1 underneath it\n",
    "\n",
    "The area under the curve and above any range of values (x axis) is the proportion of all observations that fall within that range.\n",
    "\n",
    "### Example 1.36 Example density curves\n",
    "First we'll read the data for the age of passengers on the *Titanic*."
   ]
  },
  {
   "cell_type": "code",
   "execution_count": null,
   "id": "123",
   "metadata": {
    "vscode": {
     "languageId": "clojure"
    }
   },
   "outputs": [],
   "source": [
    "(defdf passenger-ages (read-csv ips:eg01-36))"
   ]
  },
  {
   "cell_type": "markdown",
   "id": "124",
   "metadata": {},
   "source": [
    "And plot them as a histogram with a density curve.  To do this, we add an additional layer to a standard\n",
    "histogram plot."
   ]
  },
  {
   "cell_type": "code",
   "execution_count": null,
   "id": "125",
   "metadata": {
    "vscode": {
     "languageId": "clojure"
    }
   },
   "outputs": [],
   "source": [
    " (ips:plot  (vega:defplot age-plot `(:data (:values ,passenger-ages)\n",
    "                          :width 300\n",
    "                          :layer #((:mark :bar\n",
    "                                    :encoding (:x (:field :age :bin (:maxbin 8))\n",
    "                                               :y (:aggregate \"count\")))\n",
    "                                   (:mark (:type :line :stroke :red :interpolate :natural)\n",
    "                                    :encoding (:x (:field :age :bin (:maxbin 8))\n",
    "                                               :y (:aggregate :count)))))))"
   ]
  },
  {
   "cell_type": "markdown",
   "id": "126",
   "metadata": {},
   "source": [
    "And the times to start a business plot with a density curve:"
   ]
  },
  {
   "cell_type": "code",
   "execution_count": null,
   "id": "127",
   "metadata": {
    "vscode": {
     "languageId": "clojure"
    }
   },
   "outputs": [],
   "source": [
    " (ips:plot\n",
    "  (vega:defplot ttsb-plot `(:data (:values ,ttsb)\n",
    "                            :width 300\n",
    "                            :layer #((:mark :bar\n",
    "                                      :encoding (:x (:field :time :bin (:maxbin 8))\n",
    "                                                 :y (:aggregate \"count\")))\n",
    "                                     (:mark (:type :line :stroke :red :interpolate :natural)\n",
    "                                      :encoding (:x (:field :time :bin (:maxbin 8))\n",
    "                                                 :y (:aggregate :count)))))))"
   ]
  },
  {
   "cell_type": "markdown",
   "id": "128",
   "metadata": {},
   "source": [
    "### Example 1.40 - NCAA eligibility for competition\n",
    "This example asks for the proportion of college bound students that have SAT scores greater than 800.\n",
    "The distribution of scores is approximately normal, with a mean of 1010 and a standard deviation of 225.\n",
    "We can find this by using the `cdf` function in the `distributions` package."
   ]
  },
  {
   "cell_type": "code",
   "execution_count": null,
   "id": "129",
   "metadata": {
    "vscode": {
     "languageId": "clojure"
    }
   },
   "outputs": [],
   "source": [
    "(defparameter rn \n",
    "    (r-normal 1010 (square 225))) ; First get a parameterised normal distribution object\n",
    "\n",
    "(cdf rn 800) ; cumulative density function"
   ]
  },
  {
   "cell_type": "markdown",
   "id": "130",
   "metadata": {},
   "source": [
    "### Example 1.41 - NCAA eligibility for aid and practice\n",
    "This example asks for the proportion of students with scores between 629 and 800.  This will be simple maths."
   ]
  },
  {
   "cell_type": "code",
   "execution_count": null,
   "id": "131",
   "metadata": {
    "vscode": {
     "languageId": "clojure"
    }
   },
   "outputs": [],
   "source": [
    "(- (cdf rn 800)\n",
    "   (cdf rn 620))"
   ]
  },
  {
   "cell_type": "markdown",
   "id": "132",
   "metadata": {},
   "source": [
    "Notice the large number of decimals.  You can ignore them, as the text suggests.  By default Lisp-Stat uses double float precision, but you can set this to single float if you wish."
   ]
  },
  {
   "cell_type": "markdown",
   "id": "133",
   "metadata": {},
   "source": [
    "### Example 1.42 - Find the proportion from Z\n",
    "This example asks us to find the proportion of observations on a standard normal variable, *Z*, that are less than 1.47.  We'll first obtain a distribution object like we did in the last example, using standard normal parameters."
   ]
  },
  {
   "cell_type": "code",
   "execution_count": null,
   "id": "134",
   "metadata": {
    "vscode": {
     "languageId": "clojure"
    }
   },
   "outputs": [],
   "source": [
    "(defparameter sn \n",
    "    (r-normal 0 1))"
   ]
  },
  {
   "cell_type": "markdown",
   "id": "135",
   "metadata": {},
   "source": [
    "and use the cdf function again:"
   ]
  },
  {
   "cell_type": "code",
   "execution_count": null,
   "id": "136",
   "metadata": {
    "vscode": {
     "languageId": "clojure"
    }
   },
   "outputs": [],
   "source": [
    "(cdf sn 1.47)"
   ]
  },
  {
   "cell_type": "markdown",
   "id": "137",
   "metadata": {},
   "source": [
    "### Example 1.45 - How high for the top 10%\n",
    "Here we are asked how high a student must score to be in the top 10% of the Critical Reading test.  The mean is 500 and the standard deviation is 120. Let's obtain that distribution.  We'll reuse the `rn` variable with the new distribution parameters."
   ]
  },
  {
   "cell_type": "code",
   "execution_count": null,
   "id": "138",
   "metadata": {
    "vscode": {
     "languageId": "clojure"
    }
   },
   "outputs": [],
   "source": [
    "(defparameter rn \n",
    "    (r-normal 500 (square 120))) ; Lisp stat functions use variance, not standard-deviation"
   ]
  },
  {
   "cell_type": "markdown",
   "id": "139",
   "metadata": {},
   "source": [
    "The function to give you the `x` for a cumulative probability is the `quantile` function."
   ]
  },
  {
   "cell_type": "code",
   "execution_count": null,
   "id": "140",
   "metadata": {
    "vscode": {
     "languageId": "clojure"
    }
   },
   "outputs": [],
   "source": [
    "(quantile rn 0.9)"
   ]
  },
  {
   "cell_type": "markdown",
   "id": "141",
   "metadata": {},
   "source": [
    "### Example 1.46 - IQ scores are approximately normal\n",
    "Figure 1.30 is a normal quantile plot of the IQ scores we used earlier.  We use it as a way to determine if the distribution of IQ scores is approximately normal."
   ]
  },
  {
   "cell_type": "code",
   "execution_count": null,
   "id": "142",
   "metadata": {
    "vscode": {
     "languageId": "clojure"
    }
   },
   "outputs": [],
   "source": [
    "(ips:plot (vega:defplot qq (vega:qq-plot iq-scores:iq sn)))"
   ]
  },
  {
   "cell_type": "markdown",
   "id": "143",
   "metadata": {},
   "source": [
    "### Example 1.47 - Times to start a business are skewed\n",
    "Figure 1.31 is a normal quantile plot on the times to start a business.  We reproduce this below.  We can see that the data is not in a straight line and conclude the data is not normally distributed. When examining a normal quantile plot, don't overact to minor wiggles; look for shapes that show a clear deviation from a straight line."
   ]
  },
  {
   "cell_type": "code",
   "execution_count": null,
   "id": "144",
   "metadata": {
    "vscode": {
     "languageId": "clojure"
    }
   },
   "outputs": [],
   "source": [
    "(ips:plot (vega:defplot qq-ttsb (vega:qq-plot ttsb:time sn)))"
   ]
  }
 ],
 "metadata": {
  "kernelspec": {
   "display_name": "Common Lisp (SBCL)",
   "language": "common-lisp",
   "name": "common-lisp_sbcl"
  },
  "language_info": {
   "codemirror_mode": "text/x-common-lisp",
   "file_extension": ".lisp",
   "mimetype": "text/x-common-lisp",
   "name": "common-lisp",
   "pygments_lexer": "common-lisp",
   "version": "2.5.6"
  },
  "toc-autonumbering": false,
  "toc-showtags": false
 },
 "nbformat": 4,
 "nbformat_minor": 5
}
