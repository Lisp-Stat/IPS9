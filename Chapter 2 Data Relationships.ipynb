{
 "cells": [
  {
   "cell_type": "markdown",
   "id": "0",
   "metadata": {},
   "source": [
    "# Introduction\n",
    "The examples in this chapter from 1-9 aren't really examples at all; we begin with example 2.9.  If you went through Chapter 1, you can continue here.  If not, then you'll need to perform the setup steps below.\n",
    "\n",
    "# Setup\n",
    "First load the IPS (short for Introduction to the Practice of Statistics) package and dependencies. If you're doing this for the first time, there may be a great deal more output as the dependent packages are download and compiled. This typically only happens once."
   ]
  },
  {
   "cell_type": "code",
   "execution_count": null,
   "id": "1",
   "metadata": {
    "vscode": {
     "languageId": "clojure"
    }
   },
   "outputs": [],
   "source": [
    "(ql:quickload :ips)"
   ]
  },
  {
   "cell_type": "code",
   "execution_count": null,
   "id": "2",
   "metadata": {
    "vscode": {
     "languageId": "clojure"
    }
   },
   "outputs": [],
   "source": [
    "(in-package :ips)"
   ]
  },
  {
   "cell_type": "markdown",
   "id": "3",
   "metadata": {},
   "source": [
    "# 2.2 Scatterplots\n",
    "### Example 2.9 Laundry detergents\n",
    "With the setup complete, we can now load the data:"
   ]
  },
  {
   "cell_type": "code",
   "execution_count": null,
   "id": "4",
   "metadata": {
    "vscode": {
     "languageId": "clojure"
    }
   },
   "outputs": [],
   "source": [
    "(defdf detergents-1 (read-csv ips:eg02-08))"
   ]
  },
  {
   "cell_type": "code",
   "execution_count": null,
   "id": "5",
   "metadata": {
    "vscode": {
     "languageId": "clojure"
    }
   },
   "outputs": [],
   "source": [
    "(ips:plot\n",
    " (vega:defplot detergents-plot-1\n",
    "   `(:title \"Detergents\"\n",
    "     :data (:values ,detergents-1)\n",
    "     :mark :point\n",
    "     :encoding (:x (:field :price  :type \"quantitative\" :title \"Price per load (cents)\")\n",
    "                :y (:field :rating :type \"quantitative\" )))))"
   ]
  },
  {
   "cell_type": "markdown",
   "id": "6",
   "metadata": {},
   "source": [
    "The second figure in this example is the plot with the outlier removed:"
   ]
  },
  {
   "cell_type": "code",
   "execution_count": null,
   "id": "7",
   "metadata": {
    "vscode": {
     "languageId": "clojure"
    }
   },
   "outputs": [],
   "source": [
    "(defdf detergents-2 (filter-rows detergents-1 '(< price 40)))"
   ]
  },
  {
   "cell_type": "code",
   "execution_count": null,
   "id": "8",
   "metadata": {
    "vscode": {
     "languageId": "clojure"
    }
   },
   "outputs": [],
   "source": [
    "(ips:plot\n",
    " (vega:defplot detergents-plot-2\n",
    "   `(:title \"Detergents\"\n",
    "     :data (:values ,detergents-2)\n",
    "     :mark :point\n",
    "     :encoding (:x (:field :price  :type \"quantitative\" :title \"Price per load (cents)\")\n",
    "                :y (:field :rating :type \"quantitative\" )))))"
   ]
  },
  {
   "cell_type": "markdown",
   "id": "9",
   "metadata": {},
   "source": [
    "### Example 2.10 Scatterplot with a straight line"
   ]
  },
  {
   "cell_type": "markdown",
   "id": "10",
   "metadata": {},
   "source": [
    "Here we obtain the slope and intercept of a line that forms a linear regression for our data points.  To plot that line we'll use the 'fit-line' function in the SCTPLT package.  This package contains functions useful for working with scatterplots in Vega."
   ]
  },
  {
   "cell_type": "code",
   "execution_count": null,
   "id": "11",
   "metadata": {
    "vscode": {
     "languageId": "clojure"
    }
   },
   "outputs": [],
   "source": [
    "(ips:plot\n",
    "   (vega:defplot detergents-plot-2\n",
    "     `(:title \"Detergents\"\n",
    "       :width 350\n",
    "       :data (:values ,detergents-2)\n",
    "       :layer #((:mark :point\n",
    "                 :encoding (:x (:field :price  :type \"quantitative\" :title \"Price per load (cents)\")\n",
    "                            :y (:field :rating :type \"quantitative\")))\n",
    "       ,(sctplt:fit-line detergents-2:price detergents-2:rating)))))"
   ]
  },
  {
   "cell_type": "markdown",
   "id": "12",
   "metadata": {},
   "source": [
    "### Example 2.11: Education spending and population: Benchmarking"
   ]
  },
  {
   "cell_type": "markdown",
   "id": "13",
   "metadata": {},
   "source": [
    "The last example had data points spread out widely from the line, indicating only a weak relationship between price and rating.\n",
    "In this example we see a stronger positive relationship in the spending of states.  We expect that states with higher populations spend more than states with lower populations.  Are some states spending more or less based on their populations?  This type of exercise is known as **benchmarking**, comparing a process or expenditure of an organisation with organisations that share similar characteristics.\n",
    "The figure below shows a scatter plot of state spending vs. population, with a fitted straight line."
   ]
  },
  {
   "cell_type": "code",
   "execution_count": null,
   "id": "14",
   "metadata": {
    "vscode": {
     "languageId": "clojure"
    }
   },
   "outputs": [],
   "source": [
    "(defdf edu-spending (read-csv eg02-11))"
   ]
  },
  {
   "cell_type": "code",
   "execution_count": null,
   "id": "15",
   "metadata": {
    "vscode": {
     "languageId": "clojure"
    }
   },
   "outputs": [],
   "source": [
    "(ips:plot\n",
    " (vega:defplot education-spending\n",
    "   `(:title \"Education Spending\"\n",
    "     :data (:values ,edu-spending)\n",
    "     :layer #((:mark :point\n",
    "               :encoding (:x (:field :population  :type \"quantitative\" :title \"Population (millions)\")\n",
    "                          :y (:field :spending    :type \"quantitative\" :title \"Spending ($ billions)\")))\n",
    "              ,(sctplt:fit-line edu-spending:population edu-spending:spending)))))"
   ]
  },
  {
   "cell_type": "markdown",
   "id": "16",
   "metadata": {},
   "source": [
    "### Example 2.12 Calcium retention\n",
    "This example trys to answer the question of how much calcium our bodies need.  In the study, the researchers measured the amount of calcium retained by the body as a response variable and the amount consumed as an explanatory variable.  The results are plotted below, with a curve fitted to the data for children aged 11 to 15 years.  You can clearly see there is a relationship, however it is not linear across the range of values.  It starts in a relatively linear manner, then begins to reach a plateau. "
   ]
  },
  {
   "cell_type": "code",
   "execution_count": null,
   "id": "17",
   "metadata": {
    "vscode": {
     "languageId": "clojure"
    }
   },
   "outputs": [],
   "source": [
    "(load #P\"IPS:DATA;calcium-retention\")"
   ]
  },
  {
   "cell_type": "code",
   "execution_count": null,
   "id": "18",
   "metadata": {
    "vscode": {
     "languageId": "clojure"
    }
   },
   "outputs": [],
   "source": [
    "(ips:plot\n",
    " (vega:defplot calcium-retention-plot\n",
    "   `(:title \"Calcium Retention\"\n",
    "     :data (:values ,calcium-retention)\n",
    "     :width 350\n",
    "     :layer #((:mark :point\n",
    "               :encoding (:x (:field :caintake  :type \"quantitative\" :title \"Calcium intake (mg/d)\" :scale (domain #(500 2000)))\n",
    "                          :y (:field :caretention :type \"quantitative\" :title \"Calcium retention (mg/d)\")))\n",
    "              ,(sctplt:fit-lowess calcium-retention:caintake calcium-retention:caretention)))))"
   ]
  },
  {
   "cell_type": "markdown",
   "id": "19",
   "metadata": {},
   "source": [
    "## The log transformation\n",
    "One of the most important transformations is the **log transformation**, that is often used to reduce skewness of a variable.  For more information, see [Log-transformation and its implications for data analysis (2014)](https://www.ncbi.nlm.nih.gov/pmc/articles/PMC4120293/).\n",
    "\n",
    "### Example 2.13 Calcium retention with logarithms"
   ]
  },
  {
   "cell_type": "code",
   "execution_count": null,
   "id": "20",
   "metadata": {
    "vscode": {
     "languageId": "clojure"
    }
   },
   "outputs": [],
   "source": [
    "(ips:plot\n",
    " (vega:defplot calcium-retention-linear-fit\n",
    "   `(:title \"Calcium Retention\"\n",
    "     :data (:values ,calcium-retention)\n",
    "     :width 350\n",
    "     :layer #((:mark :point\n",
    "               :encoding (:x (:field :caintake  :type \"quantitative\" :title \"Calcium intake (mg/d)\" :scale (domain #(600 2000)))\n",
    "                          :y (:field :logret :type \"quantitative\" :title \"Log calcium retention (mg/d)\" :scale (domain #(4 7)))))\n",
    "              ,(sctplt:fit-line calcium-retention:caintake calcium-retention:logret)))))"
   ]
  },
  {
   "cell_type": "markdown",
   "id": "21",
   "metadata": {},
   "source": [
    "### Example 2.14 Education spending and population with logarithms\n",
    "In this example we will take the log of both variables and fit a line.  Note how we're creating a temporary data frame here rather than modifying the one in the workspace.  This is a common practice when we're experimenting."
   ]
  },
  {
   "cell_type": "code",
   "execution_count": null,
   "id": "22",
   "metadata": {
    "vscode": {
     "languageId": "clojure"
    }
   },
   "outputs": [],
   "source": [
    "(let ((edu-spending (map-columns (select edu-spending t '(spending population))\n",
    "\t\t\t\t  #'(lambda (x)\n",
    "\t\t\t\t      (elog x))))\n",
    "      (l-population (elog edu-spending:population))\n",
    "      (l-spending   (elog edu-spending:spending)))\n",
    "  (ips:plot\n",
    "   (vega:defplot log-education-spending\n",
    "     `(:title \"Education Spending\"\n",
    "       :data (:values ,edu-spending)\n",
    "       :layer #((:mark :point\n",
    "\t   :encoding (:x (:field :population  :type \"quantitative\" :title \"Population (millions)\")\n",
    "                  :y (:field :spending    :type \"quantitative\" :title \"Spending ($ billions)\")))\n",
    "\t\t,(sctplt:fit-line l-population l-spending))))))"
   ]
  },
  {
   "cell_type": "markdown",
   "id": "23",
   "metadata": {},
   "source": [
    "## Adding categorical variables to scatterplots\n",
    "In example 2.10 we investigated the relationship between the rating and price per load for 52 laundry detergents. Looking more closely, we can see that there are two different types of laundry detergent, liquid and powder.  We can add these categorical variables to the scatter plot by using a different colour for each one.\n",
    "Note how we slice up the data in the `let*` statement, allowing us to plot the elements individually."
   ]
  },
  {
   "cell_type": "code",
   "execution_count": null,
   "id": "24",
   "metadata": {
    "vscode": {
     "languageId": "clojure"
    }
   },
   "outputs": [],
   "source": [
    "(let* ((liquids (filter-rows detergents-2 '(string= \"Liquid\" type)))\n",
    "       (powders (filter-rows detergents-2 '(string= \"Powder\" type)))\n",
    "       (l-price  (select liquids t 'price))\n",
    "       (l-rating (select liquids t 'rating))\n",
    "       (p-price  (select powders t 'price))\n",
    "       (p-rating (select powders t 'rating)))\n",
    "  (ips:plot\n",
    "   (vega:defplot detergents-plot-2\n",
    "     `(:title \"Detergents\"\n",
    "       :data (:values ,detergents-2)\n",
    "       :layer #((:mark :point\n",
    "\t             :encoding (:x (:field :price  :type \"quantitative\" :title \"Price per load (cents)\")\n",
    "\t\t\t                :y (:field :rating :type \"quantitative\" )\n",
    "\t\t\t                :color (:field \"type\" :type \"nominal\")))\n",
    "\t\t        ,(sctplt:fit-line l-price l-rating :color :orange)\n",
    "\t\t        ,(sctplt:fit-line p-price p-rating :color :steelblue))))))"
   ]
  },
  {
   "cell_type": "markdown",
   "id": "25",
   "metadata": {},
   "source": [
    "## Scatterplot smoothers\n",
    "In this above example, we fit a line to the curve, but some data isn't linear.  To fit a smooth line to these, we can use various smoothers, the most common of which is `lowess`, seen in the calcium retention plots.  There is a variable you should be aware of, call the **smoothing parameter** that determines how closely the curve follows the data.  Let's see this by repeating the calcium plots with two different values for the smoothing parameter.\n",
    "\n",
    "### Example 2.16 Laundry rating vs. price with a smooth fit\n",
    "First, the plot with a small value of the smoothing parameter:"
   ]
  },
  {
   "cell_type": "code",
   "execution_count": null,
   "id": "26",
   "metadata": {
    "vscode": {
     "languageId": "clojure"
    }
   },
   "outputs": [],
   "source": [
    "(ips:plot\n",
    " (vega:defplot calcium-retention-plot-smooth\n",
    "   `(:title \"Calcium Retention\"\n",
    "     :data (:values ,calcium-retention)\n",
    "     :width 350\n",
    "     :layer #((:mark :point\n",
    "               :encoding (:x (:field :caintake  :type \"quantitative\" :title \"Calcium intake (mg/d)\" :scale (domain #(500 2000)))\n",
    "                          :y (:field :caretention :type \"quantitative\" :title \"Calcium retention (mg/d)\")))\n",
    "              ,(sctplt:fit-lowess calcium-retention:caintake calcium-retention:caretention :span 1/3)))))"
   ]
  },
  {
   "cell_type": "markdown",
   "id": "27",
   "metadata": {},
   "source": [
    "And now with the default value (2/3):"
   ]
  },
  {
   "cell_type": "code",
   "execution_count": null,
   "id": "28",
   "metadata": {
    "vscode": {
     "languageId": "clojure"
    }
   },
   "outputs": [],
   "source": [
    "(ips:plot\n",
    " (vega:defplot calcium-retention-plot\n",
    "   `(:title \"Calcium Retention\"\n",
    "     :data (:values ,calcium-retention)\n",
    "     :width 350\n",
    "     :layer #((:mark :point\n",
    "               :encoding (:x (:field :caintake  :type \"quantitative\" :title \"Calcium intake (mg/d)\" :scale (domain #(500 2000)))\n",
    "                          :y (:field :caretention :type \"quantitative\" :title \"Calcium retention (mg/d)\")))\n",
    "              ,(sctplt:fit-lowess calcium-retention:caintake calcium-retention:caretention)))))"
   ]
  },
  {
   "cell_type": "markdown",
   "id": "29",
   "metadata": {},
   "source": [
    "### Example 2.17 A smooth fit for education spanding and population with logs\n",
    "This scatterplot of log education spending versus log population with a smooth curve suggests that the relationship is approximately linear except for states with relatively small populations.  For them, spending is relatively flat.  Note that this is the same plot as Example 1.14, except using the lowess smoother instead of a linear fit."
   ]
  },
  {
   "cell_type": "code",
   "execution_count": null,
   "id": "30",
   "metadata": {
    "vscode": {
     "languageId": "clojure"
    }
   },
   "outputs": [],
   "source": [
    "(let ((edu-spending (map-columns (select edu-spending t '(spending population))\n",
    "\t\t\t\t                  #'(lambda (x)\n",
    "\t\t\t\t                      (elog x))))\n",
    "      (l-population (elog edu-spending:population))\n",
    "      (l-spending   (elog edu-spending:spending)))\n",
    "  (ips:plot\n",
    "   (vega:defplot log-education-spending-smooth\n",
    "     `(:title \"Education Spending\"\n",
    "       :data (:values ,edu-spending)\n",
    "       :layer #((:mark :point\n",
    "\t             :encoding (:x (:field :population  :type \"quantitative\" :title \"Population (millions)\")\n",
    "                            :y (:field :spending    :type \"quantitative\" :title \"Spending ($ billions)\")))\n",
    "\t\t        ,(sctplt:fit-lowess l-population l-spending :span 1/4))))))"
   ]
  }
 ],
 "metadata": {
  "kernelspec": {
   "display_name": "Common Lisp (SBCL)",
   "language": "common-lisp",
   "name": "common-lisp_sbcl"
  },
  "language_info": {
   "codemirror_mode": "text/x-common-lisp",
   "file_extension": ".lisp",
   "mimetype": "text/x-common-lisp",
   "name": "common-lisp",
   "pygments_lexer": "common-lisp",
   "version": "2.5.6"
  }
 },
 "nbformat": 4,
 "nbformat_minor": 5
}
