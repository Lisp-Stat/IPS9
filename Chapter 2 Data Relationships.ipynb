{
  "cells": [
    {
      "cell_type": "markdown",
      "id": "0",
      "metadata": {},
      "source": [
        "# Introduction\n",
        "The examples in this chapter from 1-9 aren't really examples at all; we begin with example 2.9.  If you went through Chapter 1, you can continue here.  If not, then you'll need to perform the setup steps below.\n",
        "\n",
        "# Setup\n",
        "First load the IPS (short for Introduction to the Practice of Statistics) package and dependencies. If you're doing this for the first time, there may be a great deal more output as the dependent packages are download and compiled. This typically only happens once."
      ]
    },
    {
      "cell_type": "code",
      "execution_count": 1,
      "id": "1",
      "metadata": {
        "execution": {
          "iopub.execute_input": "2025-07-22T05:31:06.000000Z",
          "iopub.status.busy": "2025-07-22T05:31:06.000000Z",
          "iopub.status.idle": "2025-07-22T05:31:06.000000Z",
          "shell.execute_reply": "2025-07-22T05:31:06.000000Z"
        },
        "vscode": {
          "languageId": "clojure"
        }
      },
      "outputs": [
        {
          "name": "stdout",
          "output_type": "stream",
          "text": [
            "To load \"ips\":\n",
            "  Load 1 ASDF system:\n",
            "    ips\n"
          ]
        },
        {
          "name": "stdout",
          "output_type": "stream",
          "text": [
            "; Loading \"ips\"\n",
            "[package yason.system]"
          ]
        },
        {
          "name": "stdout",
          "output_type": "stream",
          "text": [
            "."
          ]
        },
        {
          "data": {
            "text/plain": [
              "(:IPS)"
            ]
          },
          "execution_count": 1,
          "metadata": {},
          "output_type": "execute_result"
        },
        {
          "name": "stdout",
          "output_type": "stream",
          "text": [
            "\n"
          ]
        }
      ],
      "source": [
        "(ql:quickload :ips)"
      ]
    },
    {
      "cell_type": "code",
      "execution_count": 2,
      "id": "2",
      "metadata": {
        "execution": {
          "iopub.execute_input": "2025-07-22T05:31:06.000000Z",
          "iopub.status.busy": "2025-07-22T05:31:06.000000Z",
          "iopub.status.idle": "2025-07-22T05:31:06.000000Z",
          "shell.execute_reply": "2025-07-22T05:31:06.000000Z"
        },
        "vscode": {
          "languageId": "clojure"
        }
      },
      "outputs": [
        {
          "data": {
            "text/plain": [
              "#<PACKAGE \"IPS\">"
            ]
          },
          "execution_count": 2,
          "metadata": {},
          "output_type": "execute_result"
        }
      ],
      "source": [
        "(in-package :ips)"
      ]
    },
    {
      "cell_type": "markdown",
      "id": "3",
      "metadata": {},
      "source": [
        "# 2.2 Scatterplots\n",
        "### Example 2.9 Laundry detergents\n",
        "With the setup complete, we can now load the data:"
      ]
    },
    {
      "cell_type": "code",
      "execution_count": 3,
      "id": "4",
      "metadata": {
        "execution": {
          "iopub.execute_input": "2025-07-22T05:31:07.000000Z",
          "iopub.status.busy": "2025-07-22T05:31:06.000000Z",
          "iopub.status.idle": "2025-07-22T05:31:07.000000Z",
          "shell.execute_reply": "2025-07-22T05:31:07.000000Z"
        },
        "vscode": {
          "languageId": "clojure"
        }
      },
      "outputs": [
        {
          "data": {
            "text/plain": [
              "#<DATA-FRAME (53 observations of 3 variables)>"
            ]
          },
          "execution_count": 3,
          "metadata": {},
          "output_type": "execute_result"
        }
      ],
      "source": [
        "(defdf detergents-1 (read-csv ips:eg02-08))"
      ]
    },
    {
      "cell_type": "code",
      "execution_count": 4,
      "id": "5",
      "metadata": {
        "execution": {
          "iopub.execute_input": "2025-07-22T05:31:07.000000Z",
          "iopub.status.busy": "2025-07-22T05:31:07.000000Z",
          "iopub.status.idle": "2025-07-22T05:31:07.000000Z",
          "shell.execute_reply": "2025-07-22T05:31:07.000000Z"
        },
        "vscode": {
          "languageId": "clojure"
        }
      },
      "outputs": [
        {
          "data": {
            "application/vnd.vegalite.v4+json": {
              "$schema": "https://vega.github.io/schema/vega-lite/v5.json",
              "data": {
                "values": [
                  {
                    "price": 12,
                    "rating": 32,
                    "type": "Liquid"
                  },
                  {
                    "price": 6,
                    "rating": 35,
                    "type": "Liquid"
                  },
                  {
                    "price": 28,
                    "rating": 38,
                    "type": "Liquid"
                  },
                  {
                    "price": 28,
                    "rating": 40,
                    "type": "Liquid"
                  },
                  {
                    "price": 14,
                    "rating": 71,
                    "type": "Liquid"
                  },
                  {
                    "price": 7,
                    "rating": 60,
                    "type": "Liquid"
                  },
                  {
                    "price": 29,
                    "rating": 37,
                    "type": "Liquid"
                  },
                  {
                    "price": 12,
                    "rating": 61,
                    "type": "Liquid"
                  },
                  {
                    "price": 8,
                    "rating": 31,
                    "type": "Liquid"
                  },
                  {
                    "price": 11,
                    "rating": 51,
                    "type": "Liquid"
                  },
                  {
                    "price": 25,
                    "rating": 81,
                    "type": "Liquid"
                  },
                  {
                    "price": 25,
                    "rating": 71,
                    "type": "Liquid"
                  },
                  {
                    "price": 19,
                    "rating": 68,
                    "type": "Liquid"
                  },
                  {
                    "price": 23,
                    "rating": 81,
                    "type": "Powder"
                  },
                  {
                    "price": 5,
                    "rating": 35,
                    "type": "Liquid"
                  },
                  {
                    "price": 26,
                    "rating": 46,
                    "type": "Liquid"
                  },
                  {
                    "price": 26,
                    "rating": 47,
                    "type": "Powder"
                  },
                  {
                    "price": 13,
                    "rating": 61,
                    "type": "Powder"
                  },
                  {
                    "price": 25,
                    "rating": 43,
                    "type": "Powder"
                  },
                  {
                    "price": 8,
                    "rating": 42,
                    "type": "Liquid"
                  },
                  {
                    "price": 21,
                    "rating": 49,
                    "type": "Liquid"
                  },
                  {
                    "price": 10,
                    "rating": 47,
                    "type": "Liquid"
                  },
                  {
                    "price": 11,
                    "rating": 42,
                    "type": "Liquid"
                  },
                  {
                    "price": 7,
                    "rating": 42,
                    "type": "Liquid"
                  },
                  {
                    "price": 25,
                    "rating": 71,
                    "type": "Powder"
                  },
                  {
                    "price": 25,
                    "rating": 85,
                    "type": "Liquid"
                  },
                  {
                    "price": 20,
                    "rating": 74,
                    "type": "Liquid"
                  },
                  {
                    "price": 14,
                    "rating": 66,
                    "type": "Liquid"
                  },
                  {
                    "price": 21,
                    "rating": 46,
                    "type": "Liquid"
                  },
                  {
                    "price": 22,
                    "rating": 64,
                    "type": "Liquid"
                  },
                  {
                    "price": 22,
                    "rating": 52,
                    "type": "Liquid"
                  },
                  {
                    "price": 24,
                    "rating": 48,
                    "type": "Liquid"
                  },
                  {
                    "price": 26,
                    "rating": 53,
                    "type": "Liquid"
                  },
                  {
                    "price": 8,
                    "rating": 51,
                    "type": "Powder"
                  },
                  {
                    "price": 12,
                    "rating": 73,
                    "type": "Liquid"
                  },
                  {
                    "price": 30,
                    "rating": 58,
                    "type": "Liquid"
                  },
                  {
                    "price": 11,
                    "rating": 70,
                    "type": "Liquid"
                  },
                  {
                    "price": 20,
                    "rating": 39,
                    "type": "Liquid"
                  },
                  {
                    "price": 16,
                    "rating": 46,
                    "type": "Liquid"
                  },
                  {
                    "price": 12,
                    "rating": 44,
                    "type": "Liquid"
                  },
                  {
                    "price": 14,
                    "rating": 25,
                    "type": "Liquid"
                  },
                  {
                    "price": 13,
                    "rating": 58,
                    "type": "Powder"
                  },
                  {
                    "price": 14,
                    "rating": 58,
                    "type": "Liquid"
                  },
                  {
                    "price": 13,
                    "rating": 65,
                    "type": "Liquid"
                  },
                  {
                    "price": 18,
                    "rating": 44,
                    "type": "Liquid"
                  },
                  {
                    "price": 14,
                    "rating": 29,
                    "type": "Liquid"
                  },
                  {
                    "price": 56,
                    "rating": 51,
                    "type": "Liquid"
                  },
                  {
                    "price": 8,
                    "rating": 41,
                    "type": "Liquid"
                  },
                  {
                    "price": 10,
                    "rating": 57,
                    "type": "Liquid"
                  },
                  {
                    "price": 12,
                    "rating": 53,
                    "type": "Liquid"
                  },
                  {
                    "price": 14,
                    "rating": 60,
                    "type": "Liquid"
                  },
                  {
                    "price": 14,
                    "rating": 58,
                    "type": "Liquid"
                  },
                  {
                    "price": 14,
                    "rating": 60,
                    "type": "Liquid"
                  }
                ]
              },
              "encoding": {
                "x": {
                  "field": "price",
                  "title": "Price per load (cents)",
                  "type": "quantitative"
                },
                "y": {
                  "field": "rating",
                  "type": "quantitative"
                }
              },
              "mark": "point",
              "title": "Detergents"
            },
            "image/png": "[encoded data removed]"
          },
          "execution_count": 4,
          "metadata": {},
          "output_type": "execute_result"
        }
      ],
      "source": [
        "(ips:plot\n",
        " (vega:defplot detergents-plot-1\n",
        "   `(:title \"Detergents\"\n",
        "     :data (:values ,detergents-1)\n",
        "     :mark :point\n",
        "     :encoding (:x (:field :price  :type \"quantitative\" :title \"Price per load (cents)\")\n",
        "                :y (:field :rating :type \"quantitative\" )))))"
      ]
    },
    {
      "cell_type": "markdown",
      "id": "6",
      "metadata": {},
      "source": [
        "The second figure in this example is the plot with the outlier removed:"
      ]
    },
    {
      "cell_type": "code",
      "execution_count": 5,
      "id": "7",
      "metadata": {
        "execution": {
          "iopub.execute_input": "2025-07-22T05:31:07.000000Z",
          "iopub.status.busy": "2025-07-22T05:31:07.000000Z",
          "iopub.status.idle": "2025-07-22T05:31:07.000000Z",
          "shell.execute_reply": "2025-07-22T05:31:07.000000Z"
        },
        "vscode": {
          "languageId": "clojure"
        }
      },
      "outputs": [
        {
          "data": {
            "text/plain": [
              "#<DATA-FRAME (52 observations of 3 variables)>"
            ]
          },
          "execution_count": 5,
          "metadata": {},
          "output_type": "execute_result"
        }
      ],
      "source": [
        "(defdf detergents-2 (filter-rows detergents-1 '(< price 40)))"
      ]
    },
    {
      "cell_type": "code",
      "execution_count": 6,
      "id": "8",
      "metadata": {
        "execution": {
          "iopub.execute_input": "2025-07-22T05:31:07.000000Z",
          "iopub.status.busy": "2025-07-22T05:31:07.000000Z",
          "iopub.status.idle": "2025-07-22T05:31:07.000000Z",
          "shell.execute_reply": "2025-07-22T05:31:07.000000Z"
        },
        "vscode": {
          "languageId": "clojure"
        }
      },
      "outputs": [
        {
          "data": {
            "application/vnd.vegalite.v4+json": {
              "$schema": "https://vega.github.io/schema/vega-lite/v5.json",
              "data": {
                "values": [
                  {
                    "price": 12,
                    "rating": 32,
                    "type": "Liquid"
                  },
                  {
                    "price": 6,
                    "rating": 35,
                    "type": "Liquid"
                  },
                  {
                    "price": 28,
                    "rating": 38,
                    "type": "Liquid"
                  },
                  {
                    "price": 28,
                    "rating": 40,
                    "type": "Liquid"
                  },
                  {
                    "price": 14,
                    "rating": 71,
                    "type": "Liquid"
                  },
                  {
                    "price": 7,
                    "rating": 60,
                    "type": "Liquid"
                  },
                  {
                    "price": 29,
                    "rating": 37,
                    "type": "Liquid"
                  },
                  {
                    "price": 12,
                    "rating": 61,
                    "type": "Liquid"
                  },
                  {
                    "price": 8,
                    "rating": 31,
                    "type": "Liquid"
                  },
                  {
                    "price": 11,
                    "rating": 51,
                    "type": "Liquid"
                  },
                  {
                    "price": 25,
                    "rating": 81,
                    "type": "Liquid"
                  },
                  {
                    "price": 25,
                    "rating": 71,
                    "type": "Liquid"
                  },
                  {
                    "price": 19,
                    "rating": 68,
                    "type": "Liquid"
                  },
                  {
                    "price": 23,
                    "rating": 81,
                    "type": "Powder"
                  },
                  {
                    "price": 5,
                    "rating": 35,
                    "type": "Liquid"
                  },
                  {
                    "price": 26,
                    "rating": 46,
                    "type": "Liquid"
                  },
                  {
                    "price": 26,
                    "rating": 47,
                    "type": "Powder"
                  },
                  {
                    "price": 13,
                    "rating": 61,
                    "type": "Powder"
                  },
                  {
                    "price": 25,
                    "rating": 43,
                    "type": "Powder"
                  },
                  {
                    "price": 8,
                    "rating": 42,
                    "type": "Liquid"
                  },
                  {
                    "price": 21,
                    "rating": 49,
                    "type": "Liquid"
                  },
                  {
                    "price": 10,
                    "rating": 47,
                    "type": "Liquid"
                  },
                  {
                    "price": 11,
                    "rating": 42,
                    "type": "Liquid"
                  },
                  {
                    "price": 7,
                    "rating": 42,
                    "type": "Liquid"
                  },
                  {
                    "price": 25,
                    "rating": 71,
                    "type": "Powder"
                  },
                  {
                    "price": 25,
                    "rating": 85,
                    "type": "Liquid"
                  },
                  {
                    "price": 20,
                    "rating": 74,
                    "type": "Liquid"
                  },
                  {
                    "price": 14,
                    "rating": 66,
                    "type": "Liquid"
                  },
                  {
                    "price": 21,
                    "rating": 46,
                    "type": "Liquid"
                  },
                  {
                    "price": 22,
                    "rating": 64,
                    "type": "Liquid"
                  },
                  {
                    "price": 22,
                    "rating": 52,
                    "type": "Liquid"
                  },
                  {
                    "price": 24,
                    "rating": 48,
                    "type": "Liquid"
                  },
                  {
                    "price": 26,
                    "rating": 53,
                    "type": "Liquid"
                  },
                  {
                    "price": 8,
                    "rating": 51,
                    "type": "Powder"
                  },
                  {
                    "price": 12,
                    "rating": 73,
                    "type": "Liquid"
                  },
                  {
                    "price": 30,
                    "rating": 58,
                    "type": "Liquid"
                  },
                  {
                    "price": 11,
                    "rating": 70,
                    "type": "Liquid"
                  },
                  {
                    "price": 20,
                    "rating": 39,
                    "type": "Liquid"
                  },
                  {
                    "price": 16,
                    "rating": 46,
                    "type": "Liquid"
                  },
                  {
                    "price": 12,
                    "rating": 44,
                    "type": "Liquid"
                  },
                  {
                    "price": 14,
                    "rating": 25,
                    "type": "Liquid"
                  },
                  {
                    "price": 13,
                    "rating": 58,
                    "type": "Powder"
                  },
                  {
                    "price": 14,
                    "rating": 58,
                    "type": "Liquid"
                  },
                  {
                    "price": 13,
                    "rating": 65,
                    "type": "Liquid"
                  },
                  {
                    "price": 18,
                    "rating": 44,
                    "type": "Liquid"
                  },
                  {
                    "price": 14,
                    "rating": 29,
                    "type": "Liquid"
                  },
                  {
                    "price": 8,
                    "rating": 41,
                    "type": "Liquid"
                  },
                  {
                    "price": 10,
                    "rating": 57,
                    "type": "Liquid"
                  },
                  {
                    "price": 12,
                    "rating": 53,
                    "type": "Liquid"
                  },
                  {
                    "price": 14,
                    "rating": 60,
                    "type": "Liquid"
                  },
                  {
                    "price": 14,
                    "rating": 58,
                    "type": "Liquid"
                  },
                  {
                    "price": 14,
                    "rating": 60,
                    "type": "Liquid"
                  }
                ]
              },
              "encoding": {
                "x": {
                  "field": "price",
                  "title": "Price per load (cents)",
                  "type": "quantitative"
                },
                "y": {
                  "field": "rating",
                  "type": "quantitative"
                }
              },
              "mark": "point",
              "title": "Detergents"
            },
            "image/png": "[encoded data removed]"
          },
          "execution_count": 6,
          "metadata": {},
          "output_type": "execute_result"
        }
      ],
      "source": [
        "(ips:plot\n",
        " (vega:defplot detergents-plot-2\n",
        "   `(:title \"Detergents\"\n",
        "     :data (:values ,detergents-2)\n",
        "     :mark :point\n",
        "     :encoding (:x (:field :price  :type \"quantitative\" :title \"Price per load (cents)\")\n",
        "                :y (:field :rating :type \"quantitative\" )))))"
      ]
    },
    {
      "cell_type": "markdown",
      "id": "9",
      "metadata": {},
      "source": [
        "### Example 2.10 Scatterplot with a straight line"
      ]
    },
    {
      "cell_type": "markdown",
      "id": "10",
      "metadata": {},
      "source": [
        "Here we obtain the slope and intercept of a line that forms a linear regression for our data points.  To plot that line we'll use the 'fit-line' function in the SCTPLT package.  This package contains functions useful for working with scatterplots in Vega."
      ]
    },
    {
      "cell_type": "code",
      "execution_count": 7,
      "id": "11",
      "metadata": {
        "execution": {
          "iopub.execute_input": "2025-07-22T05:31:07.000000Z",
          "iopub.status.busy": "2025-07-22T05:31:07.000000Z",
          "iopub.status.idle": "2025-07-22T05:31:07.000000Z",
          "shell.execute_reply": "2025-07-22T05:31:07.000000Z"
        },
        "vscode": {
          "languageId": "clojure"
        }
      },
      "outputs": [
        {
          "data": {
            "application/vnd.vegalite.v4+json": {
              "$schema": "https://vega.github.io/schema/vega-lite/v5.json",
              "data": {
                "values": [
                  {
                    "price": 12,
                    "rating": 32,
                    "type": "Liquid"
                  },
                  {
                    "price": 6,
                    "rating": 35,
                    "type": "Liquid"
                  },
                  {
                    "price": 28,
                    "rating": 38,
                    "type": "Liquid"
                  },
                  {
                    "price": 28,
                    "rating": 40,
                    "type": "Liquid"
                  },
                  {
                    "price": 14,
                    "rating": 71,
                    "type": "Liquid"
                  },
                  {
                    "price": 7,
                    "rating": 60,
                    "type": "Liquid"
                  },
                  {
                    "price": 29,
                    "rating": 37,
                    "type": "Liquid"
                  },
                  {
                    "price": 12,
                    "rating": 61,
                    "type": "Liquid"
                  },
                  {
                    "price": 8,
                    "rating": 31,
                    "type": "Liquid"
                  },
                  {
                    "price": 11,
                    "rating": 51,
                    "type": "Liquid"
                  },
                  {
                    "price": 25,
                    "rating": 81,
                    "type": "Liquid"
                  },
                  {
                    "price": 25,
                    "rating": 71,
                    "type": "Liquid"
                  },
                  {
                    "price": 19,
                    "rating": 68,
                    "type": "Liquid"
                  },
                  {
                    "price": 23,
                    "rating": 81,
                    "type": "Powder"
                  },
                  {
                    "price": 5,
                    "rating": 35,
                    "type": "Liquid"
                  },
                  {
                    "price": 26,
                    "rating": 46,
                    "type": "Liquid"
                  },
                  {
                    "price": 26,
                    "rating": 47,
                    "type": "Powder"
                  },
                  {
                    "price": 13,
                    "rating": 61,
                    "type": "Powder"
                  },
                  {
                    "price": 25,
                    "rating": 43,
                    "type": "Powder"
                  },
                  {
                    "price": 8,
                    "rating": 42,
                    "type": "Liquid"
                  },
                  {
                    "price": 21,
                    "rating": 49,
                    "type": "Liquid"
                  },
                  {
                    "price": 10,
                    "rating": 47,
                    "type": "Liquid"
                  },
                  {
                    "price": 11,
                    "rating": 42,
                    "type": "Liquid"
                  },
                  {
                    "price": 7,
                    "rating": 42,
                    "type": "Liquid"
                  },
                  {
                    "price": 25,
                    "rating": 71,
                    "type": "Powder"
                  },
                  {
                    "price": 25,
                    "rating": 85,
                    "type": "Liquid"
                  },
                  {
                    "price": 20,
                    "rating": 74,
                    "type": "Liquid"
                  },
                  {
                    "price": 14,
                    "rating": 66,
                    "type": "Liquid"
                  },
                  {
                    "price": 21,
                    "rating": 46,
                    "type": "Liquid"
                  },
                  {
                    "price": 22,
                    "rating": 64,
                    "type": "Liquid"
                  },
                  {
                    "price": 22,
                    "rating": 52,
                    "type": "Liquid"
                  },
                  {
                    "price": 24,
                    "rating": 48,
                    "type": "Liquid"
                  },
                  {
                    "price": 26,
                    "rating": 53,
                    "type": "Liquid"
                  },
                  {
                    "price": 8,
                    "rating": 51,
                    "type": "Powder"
                  },
                  {
                    "price": 12,
                    "rating": 73,
                    "type": "Liquid"
                  },
                  {
                    "price": 30,
                    "rating": 58,
                    "type": "Liquid"
                  },
                  {
                    "price": 11,
                    "rating": 70,
                    "type": "Liquid"
                  },
                  {
                    "price": 20,
                    "rating": 39,
                    "type": "Liquid"
                  },
                  {
                    "price": 16,
                    "rating": 46,
                    "type": "Liquid"
                  },
                  {
                    "price": 12,
                    "rating": 44,
                    "type": "Liquid"
                  },
                  {
                    "price": 14,
                    "rating": 25,
                    "type": "Liquid"
                  },
                  {
                    "price": 13,
                    "rating": 58,
                    "type": "Powder"
                  },
                  {
                    "price": 14,
                    "rating": 58,
                    "type": "Liquid"
                  },
                  {
                    "price": 13,
                    "rating": 65,
                    "type": "Liquid"
                  },
                  {
                    "price": 18,
                    "rating": 44,
                    "type": "Liquid"
                  },
                  {
                    "price": 14,
                    "rating": 29,
                    "type": "Liquid"
                  },
                  {
                    "price": 8,
                    "rating": 41,
                    "type": "Liquid"
                  },
                  {
                    "price": 10,
                    "rating": 57,
                    "type": "Liquid"
                  },
                  {
                    "price": 12,
                    "rating": 53,
                    "type": "Liquid"
                  },
                  {
                    "price": 14,
                    "rating": 60,
                    "type": "Liquid"
                  },
                  {
                    "price": 14,
                    "rating": 58,
                    "type": "Liquid"
                  },
                  {
                    "price": 14,
                    "rating": 60,
                    "type": "Liquid"
                  }
                ]
              },
              "layer": [
                {
                  "encoding": {
                    "x": {
                      "field": "price",
                      "title": "Price per load (cents)",
                      "type": "quantitative"
                    },
                    "y": {
                      "field": "rating",
                      "type": "quantitative"
                    }
                  },
                  "mark": "point"
                },
                {
                  "data": {
                    "values": [
                      {
                        "x": 12,
                        "y": 51.06479
                      },
                      {
                        "x": 6,
                        "y": 48.48476
                      },
                      {
                        "x": 28,
                        "y": 57.94486
                      },
                      {
                        "x": 28,
                        "y": 57.94486
                      },
                      {
                        "x": 14,
                        "y": 51.924795
                      },
                      {
                        "x": 7,
                        "y": 48.914763
                      },
                      {
                        "x": 29,
                        "y": 58.374864
                      },
                      {
                        "x": 12,
                        "y": 51.06479
                      },
                      {
                        "x": 8,
                        "y": 49.344766
                      },
                      {
                        "x": 11,
                        "y": 50.634784
                      },
                      {
                        "x": 25,
                        "y": 56.65484
                      },
                      {
                        "x": 25,
                        "y": 56.65484
                      },
                      {
                        "x": 19,
                        "y": 54.074824
                      },
                      {
                        "x": 23,
                        "y": 55.794835
                      },
                      {
                        "x": 5,
                        "y": 48.054755
                      },
                      {
                        "x": 26,
                        "y": 57.08485
                      },
                      {
                        "x": 26,
                        "y": 57.08485
                      },
                      {
                        "x": 13,
                        "y": 51.49479
                      },
                      {
                        "x": 25,
                        "y": 56.65484
                      },
                      {
                        "x": 8,
                        "y": 49.344766
                      },
                      {
                        "x": 21,
                        "y": 54.934824
                      },
                      {
                        "x": 10,
                        "y": 50.20478
                      },
                      {
                        "x": 11,
                        "y": 50.634784
                      },
                      {
                        "x": 7,
                        "y": 48.914763
                      },
                      {
                        "x": 25,
                        "y": 56.65484
                      },
                      {
                        "x": 25,
                        "y": 56.65484
                      },
                      {
                        "x": 20,
                        "y": 54.504824
                      },
                      {
                        "x": 14,
                        "y": 51.924795
                      },
                      {
                        "x": 21,
                        "y": 54.934824
                      },
                      {
                        "x": 22,
                        "y": 55.36483
                      },
                      {
                        "x": 22,
                        "y": 55.36483
                      },
                      {
                        "x": 24,
                        "y": 56.22484
                      },
                      {
                        "x": 26,
                        "y": 57.08485
                      },
                      {
                        "x": 8,
                        "y": 49.344766
                      },
                      {
                        "x": 12,
                        "y": 51.06479
                      },
                      {
                        "x": 30,
                        "y": 58.80487
                      },
                      {
                        "x": 11,
                        "y": 50.634784
                      },
                      {
                        "x": 20,
                        "y": 54.504824
                      },
                      {
                        "x": 16,
                        "y": 52.784806
                      },
                      {
                        "x": 12,
                        "y": 51.06479
                      },
                      {
                        "x": 14,
                        "y": 51.924795
                      },
                      {
                        "x": 13,
                        "y": 51.49479
                      },
                      {
                        "x": 14,
                        "y": 51.924795
                      },
                      {
                        "x": 13,
                        "y": 51.49479
                      },
                      {
                        "x": 18,
                        "y": 53.64481
                      },
                      {
                        "x": 14,
                        "y": 51.924795
                      },
                      {
                        "x": 8,
                        "y": 49.344766
                      },
                      {
                        "x": 10,
                        "y": 50.20478
                      },
                      {
                        "x": 12,
                        "y": 51.06479
                      },
                      {
                        "x": 14,
                        "y": 51.924795
                      },
                      {
                        "x": 14,
                        "y": 51.924795
                      },
                      {
                        "x": 14,
                        "y": 51.924795
                      }
                    ]
                  },
                  "encoding": {
                    "x": {
                      "field": "x",
                      "type": "quantitative"
                    },
                    "y": {
                      "field": "y",
                      "type": "quantitative"
                    }
                  },
                  "mark": {
                    "color": "red",
                    "interpolate": "basis",
                    "type": "line"
                  }
                }
              ],
              "title": "Detergents",
              "width": 350
            },
            "image/png": "[encoded data removed]"
          },
          "execution_count": 7,
          "metadata": {},
          "output_type": "execute_result"
        }
      ],
      "source": [
        "(ips:plot\n",
        "   (vega:defplot detergents-plot-2\n",
        "     `(:title \"Detergents\"\n",
        "       :width 350\n",
        "       :data (:values ,detergents-2)\n",
        "       :layer #((:mark :point\n",
        "                 :encoding (:x (:field :price  :type \"quantitative\" :title \"Price per load (cents)\")\n",
        "                            :y (:field :rating :type \"quantitative\")))\n",
        "       ,(sctplt:fit-line detergents-2:price detergents-2:rating)))))"
      ]
    },
    {
      "cell_type": "markdown",
      "id": "12",
      "metadata": {},
      "source": [
        "### Example 2.11: Education spending and population: Benchmarking"
      ]
    },
    {
      "cell_type": "markdown",
      "id": "13",
      "metadata": {},
      "source": [
        "The last example had data points spread out widely from the line, indicating only a weak relationship between price and rating.\n",
        "In this example we see a stronger positive relationship in the spending of states.  We expect that states with higher populations spend more than states with lower populations.  Are some states spending more or less based on their populations?  This type of exercise is known as **benchmarking**, comparing a process or expenditure of an organisation with organisations that share similar characteristics.\n",
        "The figure below shows a scatter plot of state spending vs. population, with a fitted straight line."
      ]
    },
    {
      "cell_type": "code",
      "execution_count": 8,
      "id": "14",
      "metadata": {
        "execution": {
          "iopub.execute_input": "2025-07-22T05:31:08.000000Z",
          "iopub.status.busy": "2025-07-22T05:31:07.000000Z",
          "iopub.status.idle": "2025-07-22T05:31:08.000000Z",
          "shell.execute_reply": "2025-07-22T05:31:08.000000Z"
        },
        "vscode": {
          "languageId": "clojure"
        }
      },
      "outputs": [
        {
          "data": {
            "text/plain": [
              "#<DATA-FRAME (50 observations of 3 variables)>"
            ]
          },
          "execution_count": 8,
          "metadata": {},
          "output_type": "execute_result"
        }
      ],
      "source": [
        "(defdf edu-spending (read-csv eg02-11))"
      ]
    },
    {
      "cell_type": "code",
      "execution_count": 9,
      "id": "15",
      "metadata": {
        "execution": {
          "iopub.execute_input": "2025-07-22T05:31:08.000000Z",
          "iopub.status.busy": "2025-07-22T05:31:08.000000Z",
          "iopub.status.idle": "2025-07-22T05:31:08.000000Z",
          "shell.execute_reply": "2025-07-22T05:31:08.000000Z"
        },
        "vscode": {
          "languageId": "clojure"
        }
      },
      "outputs": [
        {
          "data": {
            "application/vnd.vegalite.v4+json": {
              "$schema": "https://vega.github.io/schema/vega-lite/v5.json",
              "data": {
                "values": [
                  {
                    "population": 0.6,
                    "spending": 2.7,
                    "state": "Wyoming"
                  },
                  {
                    "population": 5.8000004,
                    "spending": 18.9,
                    "state": "Wisconsin"
                  },
                  {
                    "population": 1.8,
                    "spending": 6.0,
                    "state": "West Virginia"
                  },
                  {
                    "population": 7.2,
                    "spending": 21.200001,
                    "state": "Washington"
                  },
                  {
                    "population": 8.4000003,
                    "spending": 24.9,
                    "state": "Virginia"
                  },
                  {
                    "population": 0.6,
                    "spending": 2.5,
                    "state": "Vermont"
                  },
                  {
                    "population": 3.0,
                    "spending": 10.0,
                    "state": "Utah"
                  },
                  {
                    "population": 27.4,
                    "spending": 89.4,
                    "state": "Texas"
                  },
                  {
                    "population": 6.5999997,
                    "spending": 15.900001,
                    "state": "Tennessee"
                  },
                  {
                    "population": 0.90000004,
                    "spending": 2.1000001,
                    "state": "South Dakota"
                  },
                  {
                    "population": 4.9,
                    "spending": 10.8,
                    "state": "South Carolina"
                  },
                  {
                    "population": 1.1,
                    "spending": 3.5,
                    "state": "Rhode Island"
                  },
                  {
                    "population": 12.8,
                    "spending": 37.5,
                    "state": "Pennsylvania"
                  },
                  {
                    "population": 4.0,
                    "spending": 11.3000005,
                    "state": "Oregon"
                  },
                  {
                    "population": 3.9000002,
                    "spending": 10.8,
                    "state": "Oklahoma"
                  },
                  {
                    "population": 11.6000004,
                    "spending": 32.1,
                    "state": "Ohio"
                  },
                  {
                    "population": 0.8,
                    "spending": 3.0,
                    "state": "North Dakota"
                  },
                  {
                    "population": 10.0,
                    "spending": 30.200002,
                    "state": "North Carolina"
                  },
                  {
                    "population": 19.800001,
                    "spending": 74.300003,
                    "state": "New York"
                  },
                  {
                    "population": 2.1000001,
                    "spending": 6.5999997,
                    "state": "New Mexico"
                  },
                  {
                    "population": 9.0,
                    "spending": 36.600003,
                    "state": "New Jersey"
                  },
                  {
                    "population": 1.3000001,
                    "spending": 4.2000002,
                    "state": "New Hampshire"
                  },
                  {
                    "population": 2.9000002,
                    "spending": 5.7000005,
                    "state": "Nevada"
                  },
                  {
                    "population": 1.9,
                    "spending": 6.5,
                    "state": "Nebraska"
                  },
                  {
                    "population": 1.0,
                    "spending": 2.7,
                    "state": "Montana"
                  },
                  {
                    "population": 6.1,
                    "spending": 16.300002,
                    "state": "Missouri"
                  },
                  {
                    "population": 3.0,
                    "spending": 8.1000006,
                    "state": "Mississippi"
                  },
                  {
                    "population": 5.5,
                    "spending": 17.7,
                    "state": "Minnesota"
                  },
                  {
                    "population": 9.9000007,
                    "spending": 24.0,
                    "state": "Michigan"
                  },
                  {
                    "population": 6.8,
                    "spending": 21.200001,
                    "state": "Massachusetts"
                  },
                  {
                    "population": 6.0,
                    "spending": 18.6,
                    "state": "Maryland"
                  },
                  {
                    "population": 1.3000001,
                    "spending": 4.2000002,
                    "state": "Maine"
                  },
                  {
                    "population": 4.7000003,
                    "spending": 13.1,
                    "state": "Louisiana"
                  },
                  {
                    "population": 4.4,
                    "spending": 12.8,
                    "state": "Kentucky"
                  },
                  {
                    "population": 2.9000002,
                    "spending": 8.6,
                    "state": "Kansas"
                  },
                  {
                    "population": 3.1,
                    "spending": 10.8,
                    "state": "Iowa"
                  },
                  {
                    "population": 6.5999997,
                    "spending": 17.5,
                    "state": "Indiana"
                  },
                  {
                    "population": 12.900001,
                    "spending": 38.0,
                    "state": "Illinois"
                  },
                  {
                    "population": 1.7,
                    "spending": 3.4,
                    "state": "Idaho"
                  },
                  {
                    "population": 1.4,
                    "spending": 3.2999998,
                    "state": "Hawaii"
                  },
                  {
                    "population": 10.2,
                    "spending": 26.4,
                    "state": "Georgia"
                  },
                  {
                    "population": 20.2,
                    "spending": 40.100002,
                    "state": "Florida"
                  },
                  {
                    "population": 0.90000004,
                    "spending": 4.0,
                    "state": "Delaware"
                  },
                  {
                    "population": 3.6,
                    "spending": 13.1,
                    "state": "Connecticut"
                  },
                  {
                    "population": 5.4,
                    "spending": 14.3,
                    "state": "Colorado"
                  },
                  {
                    "population": 39.200002,
                    "spending": 110.700004,
                    "state": "California"
                  },
                  {
                    "population": 3.0,
                    "spending": 8.5,
                    "state": "Arkansas"
                  },
                  {
                    "population": 6.8,
                    "spending": 14.8,
                    "state": "Arizona"
                  },
                  {
                    "population": 0.7,
                    "spending": 3.8,
                    "state": "Alaska"
                  },
                  {
                    "population": 4.9,
                    "spending": 14.9,
                    "state": "Alabama"
                  }
                ]
              },
              "layer": [
                {
                  "encoding": {
                    "x": {
                      "field": "population",
                      "title": "Population (millions)",
                      "type": "quantitative"
                    },
                    "y": {
                      "field": "spending",
                      "title": "Spending ($ billions)",
                      "type": "quantitative"
                    }
                  },
                  "mark": "point"
                },
                {
                  "data": {
                    "values": [
                      {
                        "x": 0.6,
                        "y": 1.7870381
                      },
                      {
                        "x": 5.8000004,
                        "y": 16.9656
                      },
                      {
                        "x": 1.8,
                        "y": 5.289783
                      },
                      {
                        "x": 7.2,
                        "y": 21.052137
                      },
                      {
                        "x": 8.4000003,
                        "y": 24.55488
                      },
                      {
                        "x": 0.6,
                        "y": 1.7870381
                      },
                      {
                        "x": 3.0,
                        "y": 8.792528
                      },
                      {
                        "x": 27.4,
                        "y": 80.015016
                      },
                      {
                        "x": 6.5999997,
                        "y": 19.300762
                      },
                      {
                        "x": 0.90000004,
                        "y": 2.6627246
                      },
                      {
                        "x": 4.9,
                        "y": 14.338541
                      },
                      {
                        "x": 1.1,
                        "y": 3.2465154
                      },
                      {
                        "x": 12.8,
                        "y": 37.398282
                      },
                      {
                        "x": 4.0,
                        "y": 11.711482
                      },
                      {
                        "x": 3.9000002,
                        "y": 11.419587
                      },
                      {
                        "x": 11.6000004,
                        "y": 33.895534
                      },
                      {
                        "x": 0.8,
                        "y": 2.3708288
                      },
                      {
                        "x": 10.0,
                        "y": 29.225206
                      },
                      {
                        "x": 19.800001,
                        "y": 57.83096
                      },
                      {
                        "x": 2.1000001,
                        "y": 6.165469
                      },
                      {
                        "x": 9.0,
                        "y": 26.306254
                      },
                      {
                        "x": 1.3000001,
                        "y": 3.830306
                      },
                      {
                        "x": 2.9000002,
                        "y": 8.500632
                      },
                      {
                        "x": 1.9,
                        "y": 5.581678
                      },
                      {
                        "x": 1.0,
                        "y": 2.9546195
                      },
                      {
                        "x": 6.1,
                        "y": 17.841287
                      },
                      {
                        "x": 3.0,
                        "y": 8.792528
                      },
                      {
                        "x": 5.5,
                        "y": 16.089915
                      },
                      {
                        "x": 9.9000007,
                        "y": 28.933313
                      },
                      {
                        "x": 6.8,
                        "y": 19.884554
                      },
                      {
                        "x": 6.0,
                        "y": 17.549391
                      },
                      {
                        "x": 1.3000001,
                        "y": 3.830306
                      },
                      {
                        "x": 4.7000003,
                        "y": 13.754751
                      },
                      {
                        "x": 4.4,
                        "y": 12.879063
                      },
                      {
                        "x": 2.9000002,
                        "y": 8.500632
                      },
                      {
                        "x": 3.1,
                        "y": 9.084424
                      },
                      {
                        "x": 6.5999997,
                        "y": 19.300762
                      },
                      {
                        "x": 12.900001,
                        "y": 37.690178
                      },
                      {
                        "x": 1.7,
                        "y": 4.9978876
                      },
                      {
                        "x": 1.4,
                        "y": 4.1222015
                      },
                      {
                        "x": 10.2,
                        "y": 29.808998
                      },
                      {
                        "x": 20.2,
                        "y": 58.998543
                      },
                      {
                        "x": 0.90000004,
                        "y": 2.6627246
                      },
                      {
                        "x": 3.6,
                        "y": 10.5439015
                      },
                      {
                        "x": 5.4,
                        "y": 15.798019
                      },
                      {
                        "x": 39.200002,
                        "y": 114.458665
                      },
                      {
                        "x": 3.0,
                        "y": 8.792528
                      },
                      {
                        "x": 6.8,
                        "y": 19.884554
                      },
                      {
                        "x": 0.7,
                        "y": 2.0789334
                      },
                      {
                        "x": 4.9,
                        "y": 14.338541
                      }
                    ]
                  },
                  "encoding": {
                    "x": {
                      "field": "x",
                      "type": "quantitative"
                    },
                    "y": {
                      "field": "y",
                      "type": "quantitative"
                    }
                  },
                  "mark": {
                    "color": "red",
                    "interpolate": "basis",
                    "type": "line"
                  }
                }
              ],
              "title": "Education Spending"
            },
            "image/png": "[encoded data removed]"
          },
          "execution_count": 9,
          "metadata": {},
          "output_type": "execute_result"
        }
      ],
      "source": [
        "(ips:plot\n",
        " (vega:defplot education-spending\n",
        "   `(:title \"Education Spending\"\n",
        "     :data (:values ,edu-spending)\n",
        "     :layer #((:mark :point\n",
        "               :encoding (:x (:field :population  :type \"quantitative\" :title \"Population (millions)\")\n",
        "                          :y (:field :spending    :type \"quantitative\" :title \"Spending ($ billions)\")))\n",
        "              ,(sctplt:fit-line edu-spending:population edu-spending:spending)))))"
      ]
    },
    {
      "cell_type": "markdown",
      "id": "16",
      "metadata": {},
      "source": [
        "### Example 2.12 Calcium retention\n",
        "This example trys to answer the question of how much calcium our bodies need.  In the study, the researchers measured the amount of calcium retained by the body as a response variable and the amount consumed as an explanatory variable.  The results are plotted below, with a curve fitted to the data for children aged 11 to 15 years.  You can clearly see there is a relationship, however it is not linear across the range of values.  It starts in a relatively linear manner, then begins to reach a plateau. "
      ]
    },
    {
      "cell_type": "code",
      "execution_count": 10,
      "id": "17",
      "metadata": {
        "execution": {
          "iopub.execute_input": "2025-07-22T05:31:08.000000Z",
          "iopub.status.busy": "2025-07-22T05:31:08.000000Z",
          "iopub.status.idle": "2025-07-22T05:31:08.000000Z",
          "shell.execute_reply": "2025-07-22T05:31:08.000000Z"
        },
        "vscode": {
          "languageId": "clojure"
        }
      },
      "outputs": [
        {
          "data": {
            "text/plain": [
              "T"
            ]
          },
          "execution_count": 10,
          "metadata": {},
          "output_type": "execute_result"
        }
      ],
      "source": [
        "(load #P\"IPS:DATA;calcium-retention\")"
      ]
    },
    {
      "cell_type": "code",
      "execution_count": 11,
      "id": "18",
      "metadata": {
        "execution": {
          "iopub.execute_input": "2025-07-22T05:31:08.000000Z",
          "iopub.status.busy": "2025-07-22T05:31:08.000000Z",
          "iopub.status.idle": "2025-07-22T05:31:08.000000Z",
          "shell.execute_reply": "2025-07-22T05:31:08.000000Z"
        },
        "vscode": {
          "languageId": "clojure"
        }
      },
      "outputs": [
        {
          "data": {
            "application/vnd.vegalite.v4+json": {
              "$schema": "https://vega.github.io/schema/vega-lite/v5.json",
              "data": {
                "values": [
                  {
                    "caintake": 1834.8001,
                    "caretention": 581.7,
                    "logret": 6.365955
                  },
                  {
                    "caintake": 1816.3,
                    "caretention": 344.6,
                    "logret": 5.842384
                  },
                  {
                    "caintake": 1792.0,
                    "caretention": 735.10003,
                    "logret": 6.600007
                  },
                  {
                    "caintake": 1777.7,
                    "caretention": 640.0,
                    "logret": 6.461468
                  },
                  {
                    "caintake": 1715.0,
                    "caretention": 592.60005,
                    "logret": 6.3845193
                  },
                  {
                    "caintake": 1666.9,
                    "caretention": 307.0,
                    "logret": 5.7268476
                  },
                  {
                    "caintake": 1662.8,
                    "caretention": 519.0,
                    "logret": 6.251904
                  },
                  {
                    "caintake": 1601.5,
                    "caretention": 620.0,
                    "logret": 6.4297193
                  },
                  {
                    "caintake": 1533.0,
                    "caretention": 580.70004,
                    "logret": 6.364234
                  },
                  {
                    "caintake": 1521.3001,
                    "caretention": 783.7,
                    "logret": 6.664026
                  },
                  {
                    "caintake": 1515.3,
                    "caretention": 518.0,
                    "logret": 6.249975
                  },
                  {
                    "caintake": 1514.9,
                    "caretention": 529.5,
                    "logret": 6.271933
                  },
                  {
                    "caintake": 1514.9,
                    "caretention": 770.6,
                    "logret": 6.647169
                  },
                  {
                    "caintake": 1514.0,
                    "caretention": 785.2,
                    "logret": 6.6659385
                  },
                  {
                    "caintake": 1500.7001,
                    "caretention": 814.90004,
                    "logret": 6.7030656
                  },
                  {
                    "caintake": 1483.0,
                    "caretention": 357.5,
                    "logret": 5.879135
                  },
                  {
                    "caintake": 1480.3,
                    "caretention": 345.30002,
                    "logret": 5.844413
                  },
                  {
                    "caintake": 1461.8,
                    "caretention": 876.10006,
                    "logret": 6.7754805
                  },
                  {
                    "caintake": 1458.4,
                    "caretention": 491.8,
                    "logret": 6.1980724
                  },
                  {
                    "caintake": 1436.1,
                    "caretention": 617.0,
                    "logret": 6.424869
                  },
                  {
                    "caintake": 1435.1,
                    "caretention": 440.6,
                    "logret": 6.088137
                  },
                  {
                    "caintake": 1414.0,
                    "caretention": 645.70004,
                    "logret": 6.470335
                  },
                  {
                    "caintake": 1410.8,
                    "caretention": 532.4,
                    "logret": 6.277395
                  },
                  {
                    "caintake": 1409.8,
                    "caretention": 924.10004,
                    "logret": 6.82882
                  },
                  {
                    "caintake": 1328.8,
                    "caretention": 385.1,
                    "logret": 5.953503
                  },
                  {
                    "caintake": 1320.3001,
                    "caretention": 299.4,
                    "logret": 5.7017803
                  },
                  {
                    "caintake": 1315.3,
                    "caretention": 158.90001,
                    "logret": 5.068275
                  },
                  {
                    "caintake": 1286.2001,
                    "caretention": 661.79997,
                    "logret": 6.494963
                  },
                  {
                    "caintake": 1274.4,
                    "caretention": 395.5,
                    "logret": 5.9801507
                  },
                  {
                    "caintake": 1219.80004,
                    "caretention": 532.60005,
                    "logret": 6.2777704
                  },
                  {
                    "caintake": 1199.0,
                    "caretention": 658.60003,
                    "logret": 6.490117
                  },
                  {
                    "caintake": 1177.8001,
                    "caretention": 378.4,
                    "logret": 5.9359515
                  },
                  {
                    "caintake": 1129.59996,
                    "caretention": 561.9,
                    "logret": 6.3313234
                  },
                  {
                    "caintake": 1124.90006,
                    "caretention": 286.7,
                    "logret": 5.6584364
                  },
                  {
                    "caintake": 1073.70004,
                    "caretention": 384.2,
                    "logret": 5.951163
                  },
                  {
                    "caintake": 1058.0,
                    "caretention": 408.9,
                    "logret": 6.013471
                  },
                  {
                    "caintake": 1008.4,
                    "caretention": 518.4,
                    "logret": 6.2507474
                  },
                  {
                    "caintake": 924.40003,
                    "caretention": 360.20002,
                    "logret": 5.8866596
                  },
                  {
                    "caintake": 915.3,
                    "caretention": 394.20003,
                    "logret": 5.976859
                  },
                  {
                    "caintake": 901.5,
                    "caretention": 379.7,
                    "logret": 5.939381
                  },
                  {
                    "caintake": 900.70003,
                    "caretention": 420.7,
                    "logret": 6.0419196
                  },
                  {
                    "caintake": 895.40005,
                    "caretention": 492.0,
                    "logret": 6.198479
                  },
                  {
                    "caintake": 891.8,
                    "caretention": 491.4,
                    "logret": 6.197258
                  },
                  {
                    "caintake": 883.60006,
                    "caretention": 311.4,
                    "logret": 5.7410777
                  },
                  {
                    "caintake": 883.60006,
                    "caretention": 463.4,
                    "logret": 6.1385906
                  },
                  {
                    "caintake": 868.2,
                    "caretention": 325.0,
                    "logret": 5.7838255
                  },
                  {
                    "caintake": 867.9,
                    "caretention": 435.9,
                    "logret": 6.0774124
                  },
                  {
                    "caintake": 832.5,
                    "caretention": 169.3,
                    "logret": 5.131672
                  },
                  {
                    "caintake": 814.90004,
                    "caretention": 214.19999,
                    "logret": 5.36691
                  },
                  {
                    "caintake": 776.7,
                    "caretention": 334.8,
                    "logret": 5.813533
                  },
                  {
                    "caintake": 755.7,
                    "caretention": 342.60002,
                    "logret": 5.836563
                  },
                  {
                    "caintake": 725.2,
                    "caretention": 276.20003,
                    "logret": 5.6211245
                  },
                  {
                    "caintake": 674.40003,
                    "caretention": 108.8,
                    "logret": 4.6895114
                  },
                  {
                    "caintake": 673.8,
                    "caretention": 249.2,
                    "logret": 5.518255
                  },
                  {
                    "caintake": 672.7,
                    "caretention": 232.40001,
                    "logret": 5.4484594
                  },
                  {
                    "caintake": 629.20004,
                    "caretention": 364.1,
                    "logret": 5.8974284
                  }
                ]
              },
              "layer": [
                {
                  "encoding": {
                    "x": {
                      "field": "caintake",
                      "scale": {
                        "domain": [
                          500,
                          2000
                        ]
                      },
                      "title": "Calcium intake (mg/d)",
                      "type": "quantitative"
                    },
                    "y": {
                      "field": "caretention",
                      "title": "Calcium retention (mg/d)",
                      "type": "quantitative"
                    }
                  },
                  "mark": "point"
                },
                {
                  "data": {
                    "values": [
                      {
                        "x": 1834.8001,
                        "y": 611.1454
                      },
                      {
                        "x": 1816.3,
                        "y": 608.7626
                      },
                      {
                        "x": 1792.0,
                        "y": 605.5063
                      },
                      {
                        "x": 1777.7,
                        "y": 603.52546
                      },
                      {
                        "x": 1715.0,
                        "y": 594.2646
                      },
                      {
                        "x": 1666.9,
                        "y": 586.48497
                      },
                      {
                        "x": 1662.8,
                        "y": 585.79344
                      },
                      {
                        "x": 1601.5,
                        "y": 574.9745
                      },
                      {
                        "x": 1533.0,
                        "y": 562.14744
                      },
                      {
                        "x": 1521.3001,
                        "y": 559.92085
                      },
                      {
                        "x": 1515.3,
                        "y": 558.7782
                      },
                      {
                        "x": 1514.9,
                        "y": 558.70205
                      },
                      {
                        "x": 1514.9,
                        "y": 558.70205
                      },
                      {
                        "x": 1514.0,
                        "y": 558.53057
                      },
                      {
                        "x": 1500.7001,
                        "y": 555.9966
                      },
                      {
                        "x": 1483.0,
                        "y": 552.61457
                      },
                      {
                        "x": 1480.3,
                        "y": 552.09637
                      },
                      {
                        "x": 1461.8,
                        "y": 548.5145
                      },
                      {
                        "x": 1458.4,
                        "y": 547.84817
                      },
                      {
                        "x": 1436.1,
                        "y": 543.36715
                      },
                      {
                        "x": 1435.1,
                        "y": 543.15996
                      },
                      {
                        "x": 1414.0,
                        "y": 538.581
                      },
                      {
                        "x": 1410.8,
                        "y": 537.842
                      },
                      {
                        "x": 1409.8,
                        "y": 537.608
                      },
                      {
                        "x": 1328.8,
                        "y": 512.7703
                      },
                      {
                        "x": 1320.3001,
                        "y": 509.5058
                      },
                      {
                        "x": 1315.3,
                        "y": 507.5114
                      },
                      {
                        "x": 1286.2001,
                        "y": 495.55638
                      },
                      {
                        "x": 1274.4,
                        "y": 490.32494
                      },
                      {
                        "x": 1219.80004,
                        "y": 468.01865
                      },
                      {
                        "x": 1199.0,
                        "y": 460.1973
                      },
                      {
                        "x": 1177.8001,
                        "y": 456.3204
                      },
                      {
                        "x": 1129.59996,
                        "y": 445.8282
                      },
                      {
                        "x": 1124.90006,
                        "y": 444.57653
                      },
                      {
                        "x": 1073.70004,
                        "y": 430.5512
                      },
                      {
                        "x": 1058.0,
                        "y": 425.81904
                      },
                      {
                        "x": 1008.4,
                        "y": 409.67834
                      },
                      {
                        "x": 924.40003,
                        "y": 376.83895
                      },
                      {
                        "x": 915.3,
                        "y": 373.21818
                      },
                      {
                        "x": 901.5,
                        "y": 367.71336
                      },
                      {
                        "x": 900.70003,
                        "y": 367.39367
                      },
                      {
                        "x": 895.40005,
                        "y": 365.2744
                      },
                      {
                        "x": 891.8,
                        "y": 363.83328
                      },
                      {
                        "x": 883.60006,
                        "y": 360.54516
                      },
                      {
                        "x": 883.60006,
                        "y": 360.54516
                      },
                      {
                        "x": 868.2,
                        "y": 354.3439
                      },
                      {
                        "x": 867.9,
                        "y": 354.22269
                      },
                      {
                        "x": 832.5,
                        "y": 339.78504
                      },
                      {
                        "x": 814.90004,
                        "y": 332.48752
                      },
                      {
                        "x": 776.7,
                        "y": 316.34507
                      },
                      {
                        "x": 755.7,
                        "y": 307.29496
                      },
                      {
                        "x": 725.2,
                        "y": 293.9313
                      },
                      {
                        "x": 674.40003,
                        "y": 271.10428
                      },
                      {
                        "x": 673.8,
                        "y": 270.83054
                      },
                      {
                        "x": 672.7,
                        "y": 270.32843
                      },
                      {
                        "x": 629.20004,
                        "y": 250.24834
                      }
                    ]
                  },
                  "encoding": {
                    "x": {
                      "field": "x",
                      "type": "quantitative"
                    },
                    "y": {
                      "field": "y",
                      "type": "quantitative"
                    }
                  },
                  "mark": {
                    "color": "red",
                    "interpolate": "basis",
                    "type": "line"
                  }
                }
              ],
              "title": "Calcium Retention",
              "width": 350
            },
            "image/png": "[encoded data removed]"
          },
          "execution_count": 11,
          "metadata": {},
          "output_type": "execute_result"
        }
      ],
      "source": [
        "(ips:plot\n",
        " (vega:defplot calcium-retention-plot\n",
        "   `(:title \"Calcium Retention\"\n",
        "     :data (:values ,calcium-retention)\n",
        "     :width 350\n",
        "     :layer #((:mark :point\n",
        "               :encoding (:x (:field :caintake  :type \"quantitative\" :title \"Calcium intake (mg/d)\" :scale (domain #(500 2000)))\n",
        "                          :y (:field :caretention :type \"quantitative\" :title \"Calcium retention (mg/d)\")))\n",
        "              ,(sctplt:fit-lowess calcium-retention:caintake calcium-retention:caretention)))))"
      ]
    },
    {
      "cell_type": "markdown",
      "id": "19",
      "metadata": {},
      "source": [
        "## The log transformation\n",
        "One of the most important transformations is the **log transformation**, that is often used to reduce skewness of a variable.  For more information, see [Log-transformation and its implications for data analysis (2014)](https://www.ncbi.nlm.nih.gov/pmc/articles/PMC4120293/).\n",
        "\n",
        "### Example 2.13 Calcium retention with logarithms"
      ]
    },
    {
      "cell_type": "code",
      "execution_count": 12,
      "id": "20",
      "metadata": {
        "execution": {
          "iopub.execute_input": "2025-07-22T05:31:08.000000Z",
          "iopub.status.busy": "2025-07-22T05:31:08.000000Z",
          "iopub.status.idle": "2025-07-22T05:31:08.000000Z",
          "shell.execute_reply": "2025-07-22T05:31:08.000000Z"
        },
        "vscode": {
          "languageId": "clojure"
        }
      },
      "outputs": [
        {
          "data": {
            "application/vnd.vegalite.v4+json": {
              "$schema": "https://vega.github.io/schema/vega-lite/v5.json",
              "data": {
                "values": [
                  {
                    "caintake": 1834.8001,
                    "caretention": 581.7,
                    "logret": 6.365955
                  },
                  {
                    "caintake": 1816.3,
                    "caretention": 344.6,
                    "logret": 5.842384
                  },
                  {
                    "caintake": 1792.0,
                    "caretention": 735.10003,
                    "logret": 6.600007
                  },
                  {
                    "caintake": 1777.7,
                    "caretention": 640.0,
                    "logret": 6.461468
                  },
                  {
                    "caintake": 1715.0,
                    "caretention": 592.60005,
                    "logret": 6.3845193
                  },
                  {
                    "caintake": 1666.9,
                    "caretention": 307.0,
                    "logret": 5.7268476
                  },
                  {
                    "caintake": 1662.8,
                    "caretention": 519.0,
                    "logret": 6.251904
                  },
                  {
                    "caintake": 1601.5,
                    "caretention": 620.0,
                    "logret": 6.4297193
                  },
                  {
                    "caintake": 1533.0,
                    "caretention": 580.70004,
                    "logret": 6.364234
                  },
                  {
                    "caintake": 1521.3001,
                    "caretention": 783.7,
                    "logret": 6.664026
                  },
                  {
                    "caintake": 1515.3,
                    "caretention": 518.0,
                    "logret": 6.249975
                  },
                  {
                    "caintake": 1514.9,
                    "caretention": 529.5,
                    "logret": 6.271933
                  },
                  {
                    "caintake": 1514.9,
                    "caretention": 770.6,
                    "logret": 6.647169
                  },
                  {
                    "caintake": 1514.0,
                    "caretention": 785.2,
                    "logret": 6.6659385
                  },
                  {
                    "caintake": 1500.7001,
                    "caretention": 814.90004,
                    "logret": 6.7030656
                  },
                  {
                    "caintake": 1483.0,
                    "caretention": 357.5,
                    "logret": 5.879135
                  },
                  {
                    "caintake": 1480.3,
                    "caretention": 345.30002,
                    "logret": 5.844413
                  },
                  {
                    "caintake": 1461.8,
                    "caretention": 876.10006,
                    "logret": 6.7754805
                  },
                  {
                    "caintake": 1458.4,
                    "caretention": 491.8,
                    "logret": 6.1980724
                  },
                  {
                    "caintake": 1436.1,
                    "caretention": 617.0,
                    "logret": 6.424869
                  },
                  {
                    "caintake": 1435.1,
                    "caretention": 440.6,
                    "logret": 6.088137
                  },
                  {
                    "caintake": 1414.0,
                    "caretention": 645.70004,
                    "logret": 6.470335
                  },
                  {
                    "caintake": 1410.8,
                    "caretention": 532.4,
                    "logret": 6.277395
                  },
                  {
                    "caintake": 1409.8,
                    "caretention": 924.10004,
                    "logret": 6.82882
                  },
                  {
                    "caintake": 1328.8,
                    "caretention": 385.1,
                    "logret": 5.953503
                  },
                  {
                    "caintake": 1320.3001,
                    "caretention": 299.4,
                    "logret": 5.7017803
                  },
                  {
                    "caintake": 1315.3,
                    "caretention": 158.90001,
                    "logret": 5.068275
                  },
                  {
                    "caintake": 1286.2001,
                    "caretention": 661.79997,
                    "logret": 6.494963
                  },
                  {
                    "caintake": 1274.4,
                    "caretention": 395.5,
                    "logret": 5.9801507
                  },
                  {
                    "caintake": 1219.80004,
                    "caretention": 532.60005,
                    "logret": 6.2777704
                  },
                  {
                    "caintake": 1199.0,
                    "caretention": 658.60003,
                    "logret": 6.490117
                  },
                  {
                    "caintake": 1177.8001,
                    "caretention": 378.4,
                    "logret": 5.9359515
                  },
                  {
                    "caintake": 1129.59996,
                    "caretention": 561.9,
                    "logret": 6.3313234
                  },
                  {
                    "caintake": 1124.90006,
                    "caretention": 286.7,
                    "logret": 5.6584364
                  },
                  {
                    "caintake": 1073.70004,
                    "caretention": 384.2,
                    "logret": 5.951163
                  },
                  {
                    "caintake": 1058.0,
                    "caretention": 408.9,
                    "logret": 6.013471
                  },
                  {
                    "caintake": 1008.4,
                    "caretention": 518.4,
                    "logret": 6.2507474
                  },
                  {
                    "caintake": 924.40003,
                    "caretention": 360.20002,
                    "logret": 5.8866596
                  },
                  {
                    "caintake": 915.3,
                    "caretention": 394.20003,
                    "logret": 5.976859
                  },
                  {
                    "caintake": 901.5,
                    "caretention": 379.7,
                    "logret": 5.939381
                  },
                  {
                    "caintake": 900.70003,
                    "caretention": 420.7,
                    "logret": 6.0419196
                  },
                  {
                    "caintake": 895.40005,
                    "caretention": 492.0,
                    "logret": 6.198479
                  },
                  {
                    "caintake": 891.8,
                    "caretention": 491.4,
                    "logret": 6.197258
                  },
                  {
                    "caintake": 883.60006,
                    "caretention": 311.4,
                    "logret": 5.7410777
                  },
                  {
                    "caintake": 883.60006,
                    "caretention": 463.4,
                    "logret": 6.1385906
                  },
                  {
                    "caintake": 868.2,
                    "caretention": 325.0,
                    "logret": 5.7838255
                  },
                  {
                    "caintake": 867.9,
                    "caretention": 435.9,
                    "logret": 6.0774124
                  },
                  {
                    "caintake": 832.5,
                    "caretention": 169.3,
                    "logret": 5.131672
                  },
                  {
                    "caintake": 814.90004,
                    "caretention": 214.19999,
                    "logret": 5.36691
                  },
                  {
                    "caintake": 776.7,
                    "caretention": 334.8,
                    "logret": 5.813533
                  },
                  {
                    "caintake": 755.7,
                    "caretention": 342.60002,
                    "logret": 5.836563
                  },
                  {
                    "caintake": 725.2,
                    "caretention": 276.20003,
                    "logret": 5.6211245
                  },
                  {
                    "caintake": 674.40003,
                    "caretention": 108.8,
                    "logret": 4.6895114
                  },
                  {
                    "caintake": 673.8,
                    "caretention": 249.2,
                    "logret": 5.518255
                  },
                  {
                    "caintake": 672.7,
                    "caretention": 232.40001,
                    "logret": 5.4484594
                  },
                  {
                    "caintake": 629.20004,
                    "caretention": 364.1,
                    "logret": 5.8974284
                  }
                ]
              },
              "layer": [
                {
                  "encoding": {
                    "x": {
                      "field": "caintake",
                      "scale": {
                        "domain": [
                          600,
                          2000
                        ]
                      },
                      "title": "Calcium intake (mg/d)",
                      "type": "quantitative"
                    },
                    "y": {
                      "field": "logret",
                      "scale": {
                        "domain": [
                          4,
                          7
                        ]
                      },
                      "title": "Log calcium retention (mg/d)",
                      "type": "quantitative"
                    }
                  },
                  "mark": "point"
                },
                {
                  "data": {
                    "values": [
                      {
                        "x": 1834.8001,
                        "y": 6.512137
                      },
                      {
                        "x": 1816.3,
                        "y": 6.4987236
                      },
                      {
                        "x": 1792.0,
                        "y": 6.4811045
                      },
                      {
                        "x": 1777.7,
                        "y": 6.470736
                      },
                      {
                        "x": 1715.0,
                        "y": 6.4252746
                      },
                      {
                        "x": 1666.9,
                        "y": 6.390399
                      },
                      {
                        "x": 1662.8,
                        "y": 6.387426
                      },
                      {
                        "x": 1601.5,
                        "y": 6.3429797
                      },
                      {
                        "x": 1533.0,
                        "y": 6.293313
                      },
                      {
                        "x": 1521.3001,
                        "y": 6.28483
                      },
                      {
                        "x": 1515.3,
                        "y": 6.28048
                      },
                      {
                        "x": 1514.9,
                        "y": 6.28019
                      },
                      {
                        "x": 1514.9,
                        "y": 6.28019
                      },
                      {
                        "x": 1514.0,
                        "y": 6.2795365
                      },
                      {
                        "x": 1500.7001,
                        "y": 6.2698936
                      },
                      {
                        "x": 1483.0,
                        "y": 6.25706
                      },
                      {
                        "x": 1480.3,
                        "y": 6.255102
                      },
                      {
                        "x": 1461.8,
                        "y": 6.241689
                      },
                      {
                        "x": 1458.4,
                        "y": 6.239224
                      },
                      {
                        "x": 1436.1,
                        "y": 6.223055
                      },
                      {
                        "x": 1435.1,
                        "y": 6.22233
                      },
                      {
                        "x": 1414.0,
                        "y": 6.207031
                      },
                      {
                        "x": 1410.8,
                        "y": 6.2047106
                      },
                      {
                        "x": 1409.8,
                        "y": 6.203986
                      },
                      {
                        "x": 1328.8,
                        "y": 6.1452556
                      },
                      {
                        "x": 1320.3001,
                        "y": 6.1390924
                      },
                      {
                        "x": 1315.3,
                        "y": 6.135467
                      },
                      {
                        "x": 1286.2001,
                        "y": 6.114368
                      },
                      {
                        "x": 1274.4,
                        "y": 6.105812
                      },
                      {
                        "x": 1219.80004,
                        "y": 6.0662234
                      },
                      {
                        "x": 1199.0,
                        "y": 6.051142
                      },
                      {
                        "x": 1177.8001,
                        "y": 6.0357714
                      },
                      {
                        "x": 1129.59996,
                        "y": 6.000823
                      },
                      {
                        "x": 1124.90006,
                        "y": 5.997416
                      },
                      {
                        "x": 1073.70004,
                        "y": 5.9602916
                      },
                      {
                        "x": 1058.0,
                        "y": 5.948909
                      },
                      {
                        "x": 1008.4,
                        "y": 5.912945
                      },
                      {
                        "x": 924.40003,
                        "y": 5.85204
                      },
                      {
                        "x": 915.3,
                        "y": 5.8454424
                      },
                      {
                        "x": 901.5,
                        "y": 5.8354366
                      },
                      {
                        "x": 900.70003,
                        "y": 5.8348566
                      },
                      {
                        "x": 895.40005,
                        "y": 5.8310133
                      },
                      {
                        "x": 891.8,
                        "y": 5.828403
                      },
                      {
                        "x": 883.60006,
                        "y": 5.8224577
                      },
                      {
                        "x": 883.60006,
                        "y": 5.8224577
                      },
                      {
                        "x": 868.2,
                        "y": 5.811292
                      },
                      {
                        "x": 867.9,
                        "y": 5.8110744
                      },
                      {
                        "x": 832.5,
                        "y": 5.785407
                      },
                      {
                        "x": 814.90004,
                        "y": 5.772646
                      },
                      {
                        "x": 776.7,
                        "y": 5.744949
                      },
                      {
                        "x": 755.7,
                        "y": 5.729722
                      },
                      {
                        "x": 725.2,
                        "y": 5.707608
                      },
                      {
                        "x": 674.40003,
                        "y": 5.670775
                      },
                      {
                        "x": 673.8,
                        "y": 5.67034
                      },
                      {
                        "x": 672.7,
                        "y": 5.669542
                      },
                      {
                        "x": 629.20004,
                        "y": 5.638002
                      }
                    ]
                  },
                  "encoding": {
                    "x": {
                      "field": "x",
                      "type": "quantitative"
                    },
                    "y": {
                      "field": "y",
                      "type": "quantitative"
                    }
                  },
                  "mark": {
                    "color": "red",
                    "interpolate": "basis",
                    "type": "line"
                  }
                }
              ],
              "title": "Calcium Retention",
              "width": 350
            },
            "image/png": "[encoded data removed]"
          },
          "execution_count": 12,
          "metadata": {},
          "output_type": "execute_result"
        }
      ],
      "source": [
        "(ips:plot\n",
        " (vega:defplot calcium-retention-linear-fit\n",
        "   `(:title \"Calcium Retention\"\n",
        "     :data (:values ,calcium-retention)\n",
        "     :width 350\n",
        "     :layer #((:mark :point\n",
        "               :encoding (:x (:field :caintake  :type \"quantitative\" :title \"Calcium intake (mg/d)\" :scale (domain #(600 2000)))\n",
        "                          :y (:field :logret :type \"quantitative\" :title \"Log calcium retention (mg/d)\" :scale (domain #(4 7)))))\n",
        "              ,(sctplt:fit-line calcium-retention:caintake calcium-retention:logret)))))"
      ]
    },
    {
      "cell_type": "markdown",
      "id": "21",
      "metadata": {},
      "source": [
        "### Example 2.14 Education spending and population with logarithms\n",
        "In this example we will take the log of both variables and fit a line.  Note how we're creating a temporary data frame here rather than modifying the one in the workspace.  This is a common practice when we're experimenting."
      ]
    },
    {
      "cell_type": "code",
      "execution_count": 13,
      "id": "22",
      "metadata": {
        "execution": {
          "iopub.execute_input": "2025-07-22T05:31:08.000000Z",
          "iopub.status.busy": "2025-07-22T05:31:08.000000Z",
          "iopub.status.idle": "2025-07-22T05:31:08.000000Z",
          "shell.execute_reply": "2025-07-22T05:31:08.000000Z"
        },
        "vscode": {
          "languageId": "clojure"
        }
      },
      "outputs": [
        {
          "data": {
            "application/vnd.vegalite.v4+json": {
              "$schema": "https://vega.github.io/schema/vega-lite/v5.json",
              "data": {
                "values": [
                  {
                    "population": -0.51082563,
                    "spending": 0.9932518
                  },
                  {
                    "population": 1.7578581,
                    "spending": 2.939162
                  },
                  {
                    "population": 0.5877867,
                    "spending": 1.7917594
                  },
                  {
                    "population": 1.9740811,
                    "spending": 3.054001
                  },
                  {
                    "population": 2.1282318,
                    "spending": 3.2148677
                  },
                  {
                    "population": -0.51082563,
                    "spending": 0.9162907
                  },
                  {
                    "population": 1.0986123,
                    "spending": 2.3025851
                  },
                  {
                    "population": 3.310543,
                    "spending": 4.4931206
                  },
                  {
                    "population": 1.8870696,
                    "spending": 2.7663192
                  },
                  {
                    "population": -0.105360515,
                    "spending": 0.74193734
                  },
                  {
                    "population": 1.5892352,
                    "spending": 2.3795462
                  },
                  {
                    "population": 0.095310175,
                    "spending": 1.252763
                  },
                  {
                    "population": 2.549445,
                    "spending": 3.624341
                  },
                  {
                    "population": 1.3862944,
                    "spending": 2.4248028
                  },
                  {
                    "population": 1.3609765,
                    "spending": 2.3795462
                  },
                  {
                    "population": 2.4510053,
                    "spending": 3.4688562
                  },
                  {
                    "population": -0.22314355,
                    "spending": 1.0986123
                  },
                  {
                    "population": 2.3025851,
                    "spending": 3.407842
                  },
                  {
                    "population": 2.985682,
                    "spending": 4.308111
                  },
                  {
                    "population": 0.74193734,
                    "spending": 1.8870696
                  },
                  {
                    "population": 2.1972246,
                    "spending": 3.6000484
                  },
                  {
                    "population": 0.26236427,
                    "spending": 1.4350846
                  },
                  {
                    "population": 1.0647108,
                    "spending": 1.740466
                  },
                  {
                    "population": 0.64185387,
                    "spending": 1.8718022
                  },
                  {
                    "population": 0.0,
                    "spending": 0.9932518
                  },
                  {
                    "population": 1.8082888,
                    "spending": 2.791165
                  },
                  {
                    "population": 1.0986123,
                    "spending": 2.091864
                  },
                  {
                    "population": 1.7047481,
                    "spending": 2.8735647
                  },
                  {
                    "population": 2.2925349,
                    "spending": 3.1780538
                  },
                  {
                    "population": 1.9169226,
                    "spending": 3.054001
                  },
                  {
                    "population": 1.7917594,
                    "spending": 2.9231617
                  },
                  {
                    "population": 0.26236427,
                    "spending": 1.4350846
                  },
                  {
                    "population": 1.5475625,
                    "spending": 2.5726122
                  },
                  {
                    "population": 1.4816046,
                    "spending": 2.549445
                  },
                  {
                    "population": 1.0647108,
                    "spending": 2.1517622
                  },
                  {
                    "population": 1.1314021,
                    "spending": 2.3795462
                  },
                  {
                    "population": 1.8870696,
                    "spending": 2.8622007
                  },
                  {
                    "population": 2.5572273,
                    "spending": 3.6375862
                  },
                  {
                    "population": 0.53062826,
                    "spending": 1.2237755
                  },
                  {
                    "population": 0.33647224,
                    "spending": 1.1939224
                  },
                  {
                    "population": 2.3223877,
                    "spending": 3.273364
                  },
                  {
                    "population": 3.0056825,
                    "spending": 3.6913761
                  },
                  {
                    "population": -0.105360515,
                    "spending": 1.3862944
                  },
                  {
                    "population": 1.2809339,
                    "spending": 2.5726122
                  },
                  {
                    "population": 1.686399,
                    "spending": 2.6602596
                  },
                  {
                    "population": 3.668677,
                    "spending": 4.7068244
                  },
                  {
                    "population": 1.0986123,
                    "spending": 2.1400663
                  },
                  {
                    "population": 1.9169226,
                    "spending": 2.6946273
                  },
                  {
                    "population": -0.35667494,
                    "spending": 1.3350011
                  },
                  {
                    "population": 1.5892352,
                    "spending": 2.7013612
                  }
                ]
              },
              "layer": [
                {
                  "encoding": {
                    "x": {
                      "field": "population",
                      "title": "Population (millions)",
                      "type": "quantitative"
                    },
                    "y": {
                      "field": "spending",
                      "title": "Spending ($ billions)",
                      "type": "quantitative"
                    }
                  },
                  "mark": "point"
                },
                {
                  "data": {
                    "values": [
                      {
                        "x": -0.51082563,
                        "y": 0.7118638
                      },
                      {
                        "x": 1.7578581,
                        "y": 2.823546
                      },
                      {
                        "x": 0.5877867,
                        "y": 1.734448
                      },
                      {
                        "x": 1.9740811,
                        "y": 3.0248055
                      },
                      {
                        "x": 2.1282318,
                        "y": 3.1682882
                      },
                      {
                        "x": -0.51082563,
                        "y": 0.7118638
                      },
                      {
                        "x": 1.0986123,
                        "y": 2.2099225
                      },
                      {
                        "x": 3.310543,
                        "y": 4.2687792
                      },
                      {
                        "x": 1.8870696,
                        "y": 2.9438156
                      },
                      {
                        "x": -0.105360515,
                        "y": 1.0892693
                      },
                      {
                        "x": 1.5892352,
                        "y": 2.6665926
                      },
                      {
                        "x": 0.095310175,
                        "y": 1.2760527
                      },
                      {
                        "x": 2.549445,
                        "y": 3.5603523
                      },
                      {
                        "x": 1.3862944,
                        "y": 2.477696
                      },
                      {
                        "x": 1.3609765,
                        "y": 2.4541302
                      },
                      {
                        "x": 2.4510053,
                        "y": 3.4687248
                      },
                      {
                        "x": -0.22314355,
                        "y": 0.97963715
                      },
                      {
                        "x": 2.3025851,
                        "y": 3.3305758
                      },
                      {
                        "x": 2.985682,
                        "y": 3.9663997
                      },
                      {
                        "x": 0.74193734,
                        "y": 1.8779309
                      },
                      {
                        "x": 2.1972246,
                        "y": 3.2325068
                      },
                      {
                        "x": 0.26236427,
                        "y": 1.4315459
                      },
                      {
                        "x": 1.0647108,
                        "y": 2.1783671
                      },
                      {
                        "x": 0.64185387,
                        "y": 1.7847736
                      },
                      {
                        "x": 0.0,
                        "y": 1.1873384
                      },
                      {
                        "x": 1.8082888,
                        "y": 2.8704867
                      },
                      {
                        "x": 1.0986123,
                        "y": 2.2099225
                      },
                      {
                        "x": 1.7047481,
                        "y": 2.7741116
                      },
                      {
                        "x": 2.2925349,
                        "y": 3.3212212
                      },
                      {
                        "x": 1.9169226,
                        "y": 2.9716027
                      },
                      {
                        "x": 1.7917594,
                        "y": 2.8551012
                      },
                      {
                        "x": 0.26236427,
                        "y": 1.4315459
                      },
                      {
                        "x": 1.5475625,
                        "y": 2.6278037
                      },
                      {
                        "x": 1.4816046,
                        "y": 2.5664103
                      },
                      {
                        "x": 1.0647108,
                        "y": 2.1783671
                      },
                      {
                        "x": 1.1314021,
                        "y": 2.2404432
                      },
                      {
                        "x": 1.8870696,
                        "y": 2.9438156
                      },
                      {
                        "x": 2.5572273,
                        "y": 3.567596
                      },
                      {
                        "x": 0.53062826,
                        "y": 1.6812451
                      },
                      {
                        "x": 0.33647224,
                        "y": 1.5005255
                      },
                      {
                        "x": 2.3223877,
                        "y": 3.349008
                      },
                      {
                        "x": 3.0056825,
                        "y": 3.9850163
                      },
                      {
                        "x": -0.105360515,
                        "y": 1.0892693
                      },
                      {
                        "x": 1.2809339,
                        "y": 2.379627
                      },
                      {
                        "x": 1.686399,
                        "y": 2.7570322
                      },
                      {
                        "x": 3.668677,
                        "y": 4.602129
                      },
                      {
                        "x": 1.0986123,
                        "y": 2.2099225
                      },
                      {
                        "x": 1.9169226,
                        "y": 2.9716027
                      },
                      {
                        "x": -0.35667494,
                        "y": 0.8553467
                      },
                      {
                        "x": 1.5892352,
                        "y": 2.6665926
                      }
                    ]
                  },
                  "encoding": {
                    "x": {
                      "field": "x",
                      "type": "quantitative"
                    },
                    "y": {
                      "field": "y",
                      "type": "quantitative"
                    }
                  },
                  "mark": {
                    "color": "red",
                    "interpolate": "basis",
                    "type": "line"
                  }
                }
              ],
              "title": "Education Spending"
            },
            "image/png": "[encoded data removed]"
          },
          "execution_count": 13,
          "metadata": {},
          "output_type": "execute_result"
        }
      ],
      "source": [
        "(let ((edu-spending (map-columns (select edu-spending t '(spending population))\n",
        "\t\t\t\t  #'(lambda (x)\n",
        "\t\t\t\t      (elog x))))\n",
        "      (l-population (elog edu-spending:population))\n",
        "      (l-spending   (elog edu-spending:spending)))\n",
        "  (ips:plot\n",
        "   (vega:defplot log-education-spending\n",
        "     `(:title \"Education Spending\"\n",
        "       :data (:values ,edu-spending)\n",
        "       :layer #((:mark :point\n",
        "\t   :encoding (:x (:field :population  :type \"quantitative\" :title \"Population (millions)\")\n",
        "                  :y (:field :spending    :type \"quantitative\" :title \"Spending ($ billions)\")))\n",
        "\t\t,(sctplt:fit-line l-population l-spending))))))"
      ]
    },
    {
      "cell_type": "markdown",
      "id": "23",
      "metadata": {},
      "source": [
        "## Adding categorical variables to scatterplots\n",
        "In example 2.10 we investigated the relationship between the rating and price per load for 52 laundry detergents. Looking more closely, we can see that there are two different types of laundry detergent, liquid and powder.  We can add these categorical variables to the scatter plot by using a different colour for each one.\n",
        "Note how we slice up the data in the `let*` statement, allowing us to plot the elements individually."
      ]
    },
    {
      "cell_type": "code",
      "execution_count": 14,
      "id": "24",
      "metadata": {
        "execution": {
          "iopub.execute_input": "2025-07-22T05:31:08.000000Z",
          "iopub.status.busy": "2025-07-22T05:31:08.000000Z",
          "iopub.status.idle": "2025-07-22T05:31:08.000000Z",
          "shell.execute_reply": "2025-07-22T05:31:08.000000Z"
        },
        "vscode": {
          "languageId": "clojure"
        }
      },
      "outputs": [
        {
          "data": {
            "application/vnd.vegalite.v4+json": {
              "$schema": "https://vega.github.io/schema/vega-lite/v5.json",
              "data": {
                "values": [
                  {
                    "price": 12,
                    "rating": 32,
                    "type": "Liquid"
                  },
                  {
                    "price": 6,
                    "rating": 35,
                    "type": "Liquid"
                  },
                  {
                    "price": 28,
                    "rating": 38,
                    "type": "Liquid"
                  },
                  {
                    "price": 28,
                    "rating": 40,
                    "type": "Liquid"
                  },
                  {
                    "price": 14,
                    "rating": 71,
                    "type": "Liquid"
                  },
                  {
                    "price": 7,
                    "rating": 60,
                    "type": "Liquid"
                  },
                  {
                    "price": 29,
                    "rating": 37,
                    "type": "Liquid"
                  },
                  {
                    "price": 12,
                    "rating": 61,
                    "type": "Liquid"
                  },
                  {
                    "price": 8,
                    "rating": 31,
                    "type": "Liquid"
                  },
                  {
                    "price": 11,
                    "rating": 51,
                    "type": "Liquid"
                  },
                  {
                    "price": 25,
                    "rating": 81,
                    "type": "Liquid"
                  },
                  {
                    "price": 25,
                    "rating": 71,
                    "type": "Liquid"
                  },
                  {
                    "price": 19,
                    "rating": 68,
                    "type": "Liquid"
                  },
                  {
                    "price": 23,
                    "rating": 81,
                    "type": "Powder"
                  },
                  {
                    "price": 5,
                    "rating": 35,
                    "type": "Liquid"
                  },
                  {
                    "price": 26,
                    "rating": 46,
                    "type": "Liquid"
                  },
                  {
                    "price": 26,
                    "rating": 47,
                    "type": "Powder"
                  },
                  {
                    "price": 13,
                    "rating": 61,
                    "type": "Powder"
                  },
                  {
                    "price": 25,
                    "rating": 43,
                    "type": "Powder"
                  },
                  {
                    "price": 8,
                    "rating": 42,
                    "type": "Liquid"
                  },
                  {
                    "price": 21,
                    "rating": 49,
                    "type": "Liquid"
                  },
                  {
                    "price": 10,
                    "rating": 47,
                    "type": "Liquid"
                  },
                  {
                    "price": 11,
                    "rating": 42,
                    "type": "Liquid"
                  },
                  {
                    "price": 7,
                    "rating": 42,
                    "type": "Liquid"
                  },
                  {
                    "price": 25,
                    "rating": 71,
                    "type": "Powder"
                  },
                  {
                    "price": 25,
                    "rating": 85,
                    "type": "Liquid"
                  },
                  {
                    "price": 20,
                    "rating": 74,
                    "type": "Liquid"
                  },
                  {
                    "price": 14,
                    "rating": 66,
                    "type": "Liquid"
                  },
                  {
                    "price": 21,
                    "rating": 46,
                    "type": "Liquid"
                  },
                  {
                    "price": 22,
                    "rating": 64,
                    "type": "Liquid"
                  },
                  {
                    "price": 22,
                    "rating": 52,
                    "type": "Liquid"
                  },
                  {
                    "price": 24,
                    "rating": 48,
                    "type": "Liquid"
                  },
                  {
                    "price": 26,
                    "rating": 53,
                    "type": "Liquid"
                  },
                  {
                    "price": 8,
                    "rating": 51,
                    "type": "Powder"
                  },
                  {
                    "price": 12,
                    "rating": 73,
                    "type": "Liquid"
                  },
                  {
                    "price": 30,
                    "rating": 58,
                    "type": "Liquid"
                  },
                  {
                    "price": 11,
                    "rating": 70,
                    "type": "Liquid"
                  },
                  {
                    "price": 20,
                    "rating": 39,
                    "type": "Liquid"
                  },
                  {
                    "price": 16,
                    "rating": 46,
                    "type": "Liquid"
                  },
                  {
                    "price": 12,
                    "rating": 44,
                    "type": "Liquid"
                  },
                  {
                    "price": 14,
                    "rating": 25,
                    "type": "Liquid"
                  },
                  {
                    "price": 13,
                    "rating": 58,
                    "type": "Powder"
                  },
                  {
                    "price": 14,
                    "rating": 58,
                    "type": "Liquid"
                  },
                  {
                    "price": 13,
                    "rating": 65,
                    "type": "Liquid"
                  },
                  {
                    "price": 18,
                    "rating": 44,
                    "type": "Liquid"
                  },
                  {
                    "price": 14,
                    "rating": 29,
                    "type": "Liquid"
                  },
                  {
                    "price": 8,
                    "rating": 41,
                    "type": "Liquid"
                  },
                  {
                    "price": 10,
                    "rating": 57,
                    "type": "Liquid"
                  },
                  {
                    "price": 12,
                    "rating": 53,
                    "type": "Liquid"
                  },
                  {
                    "price": 14,
                    "rating": 60,
                    "type": "Liquid"
                  },
                  {
                    "price": 14,
                    "rating": 58,
                    "type": "Liquid"
                  },
                  {
                    "price": 14,
                    "rating": 60,
                    "type": "Liquid"
                  }
                ]
              },
              "layer": [
                {
                  "encoding": {
                    "color": {
                      "field": "type",
                      "type": "nominal"
                    },
                    "x": {
                      "field": "price",
                      "title": "Price per load (cents)",
                      "type": "quantitative"
                    },
                    "y": {
                      "field": "rating",
                      "type": "quantitative"
                    }
                  },
                  "mark": "point"
                },
                {
                  "data": {
                    "values": [
                      {
                        "x": 12,
                        "y": 50.34371
                      },
                      {
                        "x": 6,
                        "y": 47.795808
                      },
                      {
                        "x": 28,
                        "y": 57.13812
                      },
                      {
                        "x": 28,
                        "y": 57.13812
                      },
                      {
                        "x": 14,
                        "y": 51.19301
                      },
                      {
                        "x": 7,
                        "y": 48.220456
                      },
                      {
                        "x": 29,
                        "y": 57.56277
                      },
                      {
                        "x": 12,
                        "y": 50.34371
                      },
                      {
                        "x": 8,
                        "y": 48.645112
                      },
                      {
                        "x": 11,
                        "y": 49.91906
                      },
                      {
                        "x": 25,
                        "y": 55.86417
                      },
                      {
                        "x": 25,
                        "y": 55.86417
                      },
                      {
                        "x": 19,
                        "y": 53.31627
                      },
                      {
                        "x": 5,
                        "y": 47.371158
                      },
                      {
                        "x": 26,
                        "y": 56.28882
                      },
                      {
                        "x": 8,
                        "y": 48.645112
                      },
                      {
                        "x": 21,
                        "y": 54.16557
                      },
                      {
                        "x": 10,
                        "y": 49.494407
                      },
                      {
                        "x": 11,
                        "y": 49.91906
                      },
                      {
                        "x": 7,
                        "y": 48.220456
                      },
                      {
                        "x": 25,
                        "y": 55.86417
                      },
                      {
                        "x": 20,
                        "y": 53.74092
                      },
                      {
                        "x": 14,
                        "y": 51.19301
                      },
                      {
                        "x": 21,
                        "y": 54.16557
                      },
                      {
                        "x": 22,
                        "y": 54.59022
                      },
                      {
                        "x": 22,
                        "y": 54.59022
                      },
                      {
                        "x": 24,
                        "y": 55.43952
                      },
                      {
                        "x": 26,
                        "y": 56.28882
                      },
                      {
                        "x": 12,
                        "y": 50.34371
                      },
                      {
                        "x": 30,
                        "y": 57.98743
                      },
                      {
                        "x": 11,
                        "y": 49.91906
                      },
                      {
                        "x": 20,
                        "y": 53.74092
                      },
                      {
                        "x": 16,
                        "y": 52.04232
                      },
                      {
                        "x": 12,
                        "y": 50.34371
                      },
                      {
                        "x": 14,
                        "y": 51.19301
                      },
                      {
                        "x": 14,
                        "y": 51.19301
                      },
                      {
                        "x": 13,
                        "y": 50.768363
                      },
                      {
                        "x": 18,
                        "y": 52.89161
                      },
                      {
                        "x": 14,
                        "y": 51.19301
                      },
                      {
                        "x": 8,
                        "y": 48.645112
                      },
                      {
                        "x": 10,
                        "y": 49.494407
                      },
                      {
                        "x": 12,
                        "y": 50.34371
                      },
                      {
                        "x": 14,
                        "y": 51.19301
                      },
                      {
                        "x": 14,
                        "y": 51.19301
                      },
                      {
                        "x": 14,
                        "y": 51.19301
                      }
                    ]
                  },
                  "encoding": {
                    "x": {
                      "field": "x",
                      "type": "quantitative"
                    },
                    "y": {
                      "field": "y",
                      "type": "quantitative"
                    }
                  },
                  "mark": {
                    "color": "orange",
                    "interpolate": "basis",
                    "type": "line"
                  }
                },
                {
                  "data": {
                    "values": [
                      {
                        "x": 23,
                        "y": 59.608656
                      },
                      {
                        "x": 26,
                        "y": 60.172296
                      },
                      {
                        "x": 13,
                        "y": 57.729864
                      },
                      {
                        "x": 25,
                        "y": 59.984416
                      },
                      {
                        "x": 25,
                        "y": 59.984416
                      },
                      {
                        "x": 8,
                        "y": 56.79047
                      },
                      {
                        "x": 13,
                        "y": 57.729864
                      }
                    ]
                  },
                  "encoding": {
                    "x": {
                      "field": "x",
                      "type": "quantitative"
                    },
                    "y": {
                      "field": "y",
                      "type": "quantitative"
                    }
                  },
                  "mark": {
                    "color": "steelblue",
                    "interpolate": "basis",
                    "type": "line"
                  }
                }
              ],
              "title": "Detergents"
            },
            "image/png": "[encoded data removed]"
          },
          "execution_count": 14,
          "metadata": {},
          "output_type": "execute_result"
        }
      ],
      "source": [
        "(let* ((liquids (filter-rows detergents-2 '(string= \"Liquid\" type)))\n",
        "       (powders (filter-rows detergents-2 '(string= \"Powder\" type)))\n",
        "       (l-price  (select liquids t 'price))\n",
        "       (l-rating (select liquids t 'rating))\n",
        "       (p-price  (select powders t 'price))\n",
        "       (p-rating (select powders t 'rating)))\n",
        "  (ips:plot\n",
        "   (vega:defplot detergents-plot-2\n",
        "     `(:title \"Detergents\"\n",
        "       :data (:values ,detergents-2)\n",
        "       :layer #((:mark :point\n",
        "\t             :encoding (:x (:field :price  :type \"quantitative\" :title \"Price per load (cents)\")\n",
        "\t\t\t                :y (:field :rating :type \"quantitative\" )\n",
        "\t\t\t                :color (:field \"type\" :type \"nominal\")))\n",
        "\t\t        ,(sctplt:fit-line l-price l-rating :color :orange)\n",
        "\t\t        ,(sctplt:fit-line p-price p-rating :color :steelblue))))))"
      ]
    },
    {
      "cell_type": "markdown",
      "id": "25",
      "metadata": {},
      "source": [
        "## Scatterplot smoothers\n",
        "In this above example, we fit a line to the curve, but some data isn't linear.  To fit a smooth line to these, we can use various smoothers, the most common of which is `lowess`, seen in the calcium retention plots.  There is a variable you should be aware of, call the **smoothing parameter** that determines how closely the curve follows the data.  Let's see this by repeating the calcium plots with two different values for the smoothing parameter.\n",
        "\n",
        "### Example 2.16 Laundry rating vs. price with a smooth fit\n",
        "First, the plot with a small value of the smoothing parameter:"
      ]
    },
    {
      "cell_type": "code",
      "execution_count": 15,
      "id": "26",
      "metadata": {
        "execution": {
          "iopub.execute_input": "2025-07-22T05:31:08.000000Z",
          "iopub.status.busy": "2025-07-22T05:31:08.000000Z",
          "iopub.status.idle": "2025-07-22T05:31:08.000000Z",
          "shell.execute_reply": "2025-07-22T05:31:08.000000Z"
        },
        "vscode": {
          "languageId": "clojure"
        }
      },
      "outputs": [
        {
          "data": {
            "application/vnd.vegalite.v4+json": {
              "$schema": "https://vega.github.io/schema/vega-lite/v5.json",
              "data": {
                "values": [
                  {
                    "caintake": 1834.8001,
                    "caretention": 581.7,
                    "logret": 6.365955
                  },
                  {
                    "caintake": 1816.3,
                    "caretention": 344.6,
                    "logret": 5.842384
                  },
                  {
                    "caintake": 1792.0,
                    "caretention": 735.10003,
                    "logret": 6.600007
                  },
                  {
                    "caintake": 1777.7,
                    "caretention": 640.0,
                    "logret": 6.461468
                  },
                  {
                    "caintake": 1715.0,
                    "caretention": 592.60005,
                    "logret": 6.3845193
                  },
                  {
                    "caintake": 1666.9,
                    "caretention": 307.0,
                    "logret": 5.7268476
                  },
                  {
                    "caintake": 1662.8,
                    "caretention": 519.0,
                    "logret": 6.251904
                  },
                  {
                    "caintake": 1601.5,
                    "caretention": 620.0,
                    "logret": 6.4297193
                  },
                  {
                    "caintake": 1533.0,
                    "caretention": 580.70004,
                    "logret": 6.364234
                  },
                  {
                    "caintake": 1521.3001,
                    "caretention": 783.7,
                    "logret": 6.664026
                  },
                  {
                    "caintake": 1515.3,
                    "caretention": 518.0,
                    "logret": 6.249975
                  },
                  {
                    "caintake": 1514.9,
                    "caretention": 529.5,
                    "logret": 6.271933
                  },
                  {
                    "caintake": 1514.9,
                    "caretention": 770.6,
                    "logret": 6.647169
                  },
                  {
                    "caintake": 1514.0,
                    "caretention": 785.2,
                    "logret": 6.6659385
                  },
                  {
                    "caintake": 1500.7001,
                    "caretention": 814.90004,
                    "logret": 6.7030656
                  },
                  {
                    "caintake": 1483.0,
                    "caretention": 357.5,
                    "logret": 5.879135
                  },
                  {
                    "caintake": 1480.3,
                    "caretention": 345.30002,
                    "logret": 5.844413
                  },
                  {
                    "caintake": 1461.8,
                    "caretention": 876.10006,
                    "logret": 6.7754805
                  },
                  {
                    "caintake": 1458.4,
                    "caretention": 491.8,
                    "logret": 6.1980724
                  },
                  {
                    "caintake": 1436.1,
                    "caretention": 617.0,
                    "logret": 6.424869
                  },
                  {
                    "caintake": 1435.1,
                    "caretention": 440.6,
                    "logret": 6.088137
                  },
                  {
                    "caintake": 1414.0,
                    "caretention": 645.70004,
                    "logret": 6.470335
                  },
                  {
                    "caintake": 1410.8,
                    "caretention": 532.4,
                    "logret": 6.277395
                  },
                  {
                    "caintake": 1409.8,
                    "caretention": 924.10004,
                    "logret": 6.82882
                  },
                  {
                    "caintake": 1328.8,
                    "caretention": 385.1,
                    "logret": 5.953503
                  },
                  {
                    "caintake": 1320.3001,
                    "caretention": 299.4,
                    "logret": 5.7017803
                  },
                  {
                    "caintake": 1315.3,
                    "caretention": 158.90001,
                    "logret": 5.068275
                  },
                  {
                    "caintake": 1286.2001,
                    "caretention": 661.79997,
                    "logret": 6.494963
                  },
                  {
                    "caintake": 1274.4,
                    "caretention": 395.5,
                    "logret": 5.9801507
                  },
                  {
                    "caintake": 1219.80004,
                    "caretention": 532.60005,
                    "logret": 6.2777704
                  },
                  {
                    "caintake": 1199.0,
                    "caretention": 658.60003,
                    "logret": 6.490117
                  },
                  {
                    "caintake": 1177.8001,
                    "caretention": 378.4,
                    "logret": 5.9359515
                  },
                  {
                    "caintake": 1129.59996,
                    "caretention": 561.9,
                    "logret": 6.3313234
                  },
                  {
                    "caintake": 1124.90006,
                    "caretention": 286.7,
                    "logret": 5.6584364
                  },
                  {
                    "caintake": 1073.70004,
                    "caretention": 384.2,
                    "logret": 5.951163
                  },
                  {
                    "caintake": 1058.0,
                    "caretention": 408.9,
                    "logret": 6.013471
                  },
                  {
                    "caintake": 1008.4,
                    "caretention": 518.4,
                    "logret": 6.2507474
                  },
                  {
                    "caintake": 924.40003,
                    "caretention": 360.20002,
                    "logret": 5.8866596
                  },
                  {
                    "caintake": 915.3,
                    "caretention": 394.20003,
                    "logret": 5.976859
                  },
                  {
                    "caintake": 901.5,
                    "caretention": 379.7,
                    "logret": 5.939381
                  },
                  {
                    "caintake": 900.70003,
                    "caretention": 420.7,
                    "logret": 6.0419196
                  },
                  {
                    "caintake": 895.40005,
                    "caretention": 492.0,
                    "logret": 6.198479
                  },
                  {
                    "caintake": 891.8,
                    "caretention": 491.4,
                    "logret": 6.197258
                  },
                  {
                    "caintake": 883.60006,
                    "caretention": 311.4,
                    "logret": 5.7410777
                  },
                  {
                    "caintake": 883.60006,
                    "caretention": 463.4,
                    "logret": 6.1385906
                  },
                  {
                    "caintake": 868.2,
                    "caretention": 325.0,
                    "logret": 5.7838255
                  },
                  {
                    "caintake": 867.9,
                    "caretention": 435.9,
                    "logret": 6.0774124
                  },
                  {
                    "caintake": 832.5,
                    "caretention": 169.3,
                    "logret": 5.131672
                  },
                  {
                    "caintake": 814.90004,
                    "caretention": 214.19999,
                    "logret": 5.36691
                  },
                  {
                    "caintake": 776.7,
                    "caretention": 334.8,
                    "logret": 5.813533
                  },
                  {
                    "caintake": 755.7,
                    "caretention": 342.60002,
                    "logret": 5.836563
                  },
                  {
                    "caintake": 725.2,
                    "caretention": 276.20003,
                    "logret": 5.6211245
                  },
                  {
                    "caintake": 674.40003,
                    "caretention": 108.8,
                    "logret": 4.6895114
                  },
                  {
                    "caintake": 673.8,
                    "caretention": 249.2,
                    "logret": 5.518255
                  },
                  {
                    "caintake": 672.7,
                    "caretention": 232.40001,
                    "logret": 5.4484594
                  },
                  {
                    "caintake": 629.20004,
                    "caretention": 364.1,
                    "logret": 5.8974284
                  }
                ]
              },
              "layer": [
                {
                  "encoding": {
                    "x": {
                      "field": "caintake",
                      "scale": {
                        "domain": [
                          500,
                          2000
                        ]
                      },
                      "title": "Calcium intake (mg/d)",
                      "type": "quantitative"
                    },
                    "y": {
                      "field": "caretention",
                      "title": "Calcium retention (mg/d)",
                      "type": "quantitative"
                    }
                  },
                  "mark": "point"
                },
                {
                  "data": {
                    "values": [
                      {
                        "x": 1834.8001,
                        "y": 554.42613
                      },
                      {
                        "x": 1816.3,
                        "y": 555.60994
                      },
                      {
                        "x": 1792.0,
                        "y": 557.558
                      },
                      {
                        "x": 1777.7,
                        "y": 559.07166
                      },
                      {
                        "x": 1715.0,
                        "y": 569.7767
                      },
                      {
                        "x": 1666.9,
                        "y": 579.4122
                      },
                      {
                        "x": 1662.8,
                        "y": 579.7409
                      },
                      {
                        "x": 1601.5,
                        "y": 570.64354
                      },
                      {
                        "x": 1533.0,
                        "y": 613.85334
                      },
                      {
                        "x": 1521.3001,
                        "y": 614.2154
                      },
                      {
                        "x": 1515.3,
                        "y": 618.43354
                      },
                      {
                        "x": 1514.9,
                        "y": 618.67976
                      },
                      {
                        "x": 1514.9,
                        "y": 618.67976
                      },
                      {
                        "x": 1514.0,
                        "y": 619.21144
                      },
                      {
                        "x": 1500.7001,
                        "y": 621.45793
                      },
                      {
                        "x": 1483.0,
                        "y": 613.90364
                      },
                      {
                        "x": 1480.3,
                        "y": 612.6373
                      },
                      {
                        "x": 1461.8,
                        "y": 602.1122
                      },
                      {
                        "x": 1458.4,
                        "y": 599.9811
                      },
                      {
                        "x": 1436.1,
                        "y": 570.36793
                      },
                      {
                        "x": 1435.1,
                        "y": 569.27377
                      },
                      {
                        "x": 1414.0,
                        "y": 545.3026
                      },
                      {
                        "x": 1410.8,
                        "y": 541.68206
                      },
                      {
                        "x": 1409.8,
                        "y": 540.54654
                      },
                      {
                        "x": 1328.8,
                        "y": 484.04607
                      },
                      {
                        "x": 1320.3001,
                        "y": 484.59288
                      },
                      {
                        "x": 1315.3,
                        "y": 481.9651
                      },
                      {
                        "x": 1286.2001,
                        "y": 476.16214
                      },
                      {
                        "x": 1274.4,
                        "y": 468.82302
                      },
                      {
                        "x": 1219.80004,
                        "y": 451.21366
                      },
                      {
                        "x": 1199.0,
                        "y": 449.57247
                      },
                      {
                        "x": 1177.8001,
                        "y": 448.72195
                      },
                      {
                        "x": 1129.59996,
                        "y": 451.89005
                      },
                      {
                        "x": 1124.90006,
                        "y": 451.91723
                      },
                      {
                        "x": 1073.70004,
                        "y": 438.32868
                      },
                      {
                        "x": 1058.0,
                        "y": 435.67958
                      },
                      {
                        "x": 1008.4,
                        "y": 419.72488
                      },
                      {
                        "x": 924.40003,
                        "y": 409.3629
                      },
                      {
                        "x": 915.3,
                        "y": 402.63385
                      },
                      {
                        "x": 901.5,
                        "y": 392.5895
                      },
                      {
                        "x": 900.70003,
                        "y": 392.2505
                      },
                      {
                        "x": 895.40005,
                        "y": 389.73582
                      },
                      {
                        "x": 891.8,
                        "y": 387.87752
                      },
                      {
                        "x": 883.60006,
                        "y": 382.66903
                      },
                      {
                        "x": 883.60006,
                        "y": 382.66903
                      },
                      {
                        "x": 868.2,
                        "y": 369.13276
                      },
                      {
                        "x": 867.9,
                        "y": 368.84844
                      },
                      {
                        "x": 832.5,
                        "y": 340.725
                      },
                      {
                        "x": 814.90004,
                        "y": 326.02635
                      },
                      {
                        "x": 776.7,
                        "y": 302.38408
                      },
                      {
                        "x": 755.7,
                        "y": 291.15695
                      },
                      {
                        "x": 725.2,
                        "y": 274.9904
                      },
                      {
                        "x": 674.40003,
                        "y": 248.06552
                      },
                      {
                        "x": 673.8,
                        "y": 247.74778
                      },
                      {
                        "x": 672.7,
                        "y": 247.1653
                      },
                      {
                        "x": 629.20004,
                        "y": 224.55004
                      }
                    ]
                  },
                  "encoding": {
                    "x": {
                      "field": "x",
                      "type": "quantitative"
                    },
                    "y": {
                      "field": "y",
                      "type": "quantitative"
                    }
                  },
                  "mark": {
                    "color": "red",
                    "interpolate": "basis",
                    "type": "line"
                  }
                }
              ],
              "title": "Calcium Retention",
              "width": 350
            },
            "image/png": "[encoded data removed]"
          },
          "execution_count": 15,
          "metadata": {},
          "output_type": "execute_result"
        }
      ],
      "source": [
        "(ips:plot\n",
        " (vega:defplot calcium-retention-plot-smooth\n",
        "   `(:title \"Calcium Retention\"\n",
        "     :data (:values ,calcium-retention)\n",
        "     :width 350\n",
        "     :layer #((:mark :point\n",
        "               :encoding (:x (:field :caintake  :type \"quantitative\" :title \"Calcium intake (mg/d)\" :scale (domain #(500 2000)))\n",
        "                          :y (:field :caretention :type \"quantitative\" :title \"Calcium retention (mg/d)\")))\n",
        "              ,(sctplt:fit-lowess calcium-retention:caintake calcium-retention:caretention :span 1/3)))))"
      ]
    },
    {
      "cell_type": "markdown",
      "id": "27",
      "metadata": {},
      "source": [
        "And now with the default value (2/3):"
      ]
    },
    {
      "cell_type": "code",
      "execution_count": 16,
      "id": "28",
      "metadata": {
        "execution": {
          "iopub.execute_input": "2025-07-22T05:31:08.000000Z",
          "iopub.status.busy": "2025-07-22T05:31:08.000000Z",
          "iopub.status.idle": "2025-07-22T05:31:08.000000Z",
          "shell.execute_reply": "2025-07-22T05:31:08.000000Z"
        },
        "vscode": {
          "languageId": "clojure"
        }
      },
      "outputs": [
        {
          "data": {
            "application/vnd.vegalite.v4+json": {
              "$schema": "https://vega.github.io/schema/vega-lite/v5.json",
              "data": {
                "values": [
                  {
                    "caintake": 1834.8001,
                    "caretention": 581.7,
                    "logret": 6.365955
                  },
                  {
                    "caintake": 1816.3,
                    "caretention": 344.6,
                    "logret": 5.842384
                  },
                  {
                    "caintake": 1792.0,
                    "caretention": 735.10003,
                    "logret": 6.600007
                  },
                  {
                    "caintake": 1777.7,
                    "caretention": 640.0,
                    "logret": 6.461468
                  },
                  {
                    "caintake": 1715.0,
                    "caretention": 592.60005,
                    "logret": 6.3845193
                  },
                  {
                    "caintake": 1666.9,
                    "caretention": 307.0,
                    "logret": 5.7268476
                  },
                  {
                    "caintake": 1662.8,
                    "caretention": 519.0,
                    "logret": 6.251904
                  },
                  {
                    "caintake": 1601.5,
                    "caretention": 620.0,
                    "logret": 6.4297193
                  },
                  {
                    "caintake": 1533.0,
                    "caretention": 580.70004,
                    "logret": 6.364234
                  },
                  {
                    "caintake": 1521.3001,
                    "caretention": 783.7,
                    "logret": 6.664026
                  },
                  {
                    "caintake": 1515.3,
                    "caretention": 518.0,
                    "logret": 6.249975
                  },
                  {
                    "caintake": 1514.9,
                    "caretention": 529.5,
                    "logret": 6.271933
                  },
                  {
                    "caintake": 1514.9,
                    "caretention": 770.6,
                    "logret": 6.647169
                  },
                  {
                    "caintake": 1514.0,
                    "caretention": 785.2,
                    "logret": 6.6659385
                  },
                  {
                    "caintake": 1500.7001,
                    "caretention": 814.90004,
                    "logret": 6.7030656
                  },
                  {
                    "caintake": 1483.0,
                    "caretention": 357.5,
                    "logret": 5.879135
                  },
                  {
                    "caintake": 1480.3,
                    "caretention": 345.30002,
                    "logret": 5.844413
                  },
                  {
                    "caintake": 1461.8,
                    "caretention": 876.10006,
                    "logret": 6.7754805
                  },
                  {
                    "caintake": 1458.4,
                    "caretention": 491.8,
                    "logret": 6.1980724
                  },
                  {
                    "caintake": 1436.1,
                    "caretention": 617.0,
                    "logret": 6.424869
                  },
                  {
                    "caintake": 1435.1,
                    "caretention": 440.6,
                    "logret": 6.088137
                  },
                  {
                    "caintake": 1414.0,
                    "caretention": 645.70004,
                    "logret": 6.470335
                  },
                  {
                    "caintake": 1410.8,
                    "caretention": 532.4,
                    "logret": 6.277395
                  },
                  {
                    "caintake": 1409.8,
                    "caretention": 924.10004,
                    "logret": 6.82882
                  },
                  {
                    "caintake": 1328.8,
                    "caretention": 385.1,
                    "logret": 5.953503
                  },
                  {
                    "caintake": 1320.3001,
                    "caretention": 299.4,
                    "logret": 5.7017803
                  },
                  {
                    "caintake": 1315.3,
                    "caretention": 158.90001,
                    "logret": 5.068275
                  },
                  {
                    "caintake": 1286.2001,
                    "caretention": 661.79997,
                    "logret": 6.494963
                  },
                  {
                    "caintake": 1274.4,
                    "caretention": 395.5,
                    "logret": 5.9801507
                  },
                  {
                    "caintake": 1219.80004,
                    "caretention": 532.60005,
                    "logret": 6.2777704
                  },
                  {
                    "caintake": 1199.0,
                    "caretention": 658.60003,
                    "logret": 6.490117
                  },
                  {
                    "caintake": 1177.8001,
                    "caretention": 378.4,
                    "logret": 5.9359515
                  },
                  {
                    "caintake": 1129.59996,
                    "caretention": 561.9,
                    "logret": 6.3313234
                  },
                  {
                    "caintake": 1124.90006,
                    "caretention": 286.7,
                    "logret": 5.6584364
                  },
                  {
                    "caintake": 1073.70004,
                    "caretention": 384.2,
                    "logret": 5.951163
                  },
                  {
                    "caintake": 1058.0,
                    "caretention": 408.9,
                    "logret": 6.013471
                  },
                  {
                    "caintake": 1008.4,
                    "caretention": 518.4,
                    "logret": 6.2507474
                  },
                  {
                    "caintake": 924.40003,
                    "caretention": 360.20002,
                    "logret": 5.8866596
                  },
                  {
                    "caintake": 915.3,
                    "caretention": 394.20003,
                    "logret": 5.976859
                  },
                  {
                    "caintake": 901.5,
                    "caretention": 379.7,
                    "logret": 5.939381
                  },
                  {
                    "caintake": 900.70003,
                    "caretention": 420.7,
                    "logret": 6.0419196
                  },
                  {
                    "caintake": 895.40005,
                    "caretention": 492.0,
                    "logret": 6.198479
                  },
                  {
                    "caintake": 891.8,
                    "caretention": 491.4,
                    "logret": 6.197258
                  },
                  {
                    "caintake": 883.60006,
                    "caretention": 311.4,
                    "logret": 5.7410777
                  },
                  {
                    "caintake": 883.60006,
                    "caretention": 463.4,
                    "logret": 6.1385906
                  },
                  {
                    "caintake": 868.2,
                    "caretention": 325.0,
                    "logret": 5.7838255
                  },
                  {
                    "caintake": 867.9,
                    "caretention": 435.9,
                    "logret": 6.0774124
                  },
                  {
                    "caintake": 832.5,
                    "caretention": 169.3,
                    "logret": 5.131672
                  },
                  {
                    "caintake": 814.90004,
                    "caretention": 214.19999,
                    "logret": 5.36691
                  },
                  {
                    "caintake": 776.7,
                    "caretention": 334.8,
                    "logret": 5.813533
                  },
                  {
                    "caintake": 755.7,
                    "caretention": 342.60002,
                    "logret": 5.836563
                  },
                  {
                    "caintake": 725.2,
                    "caretention": 276.20003,
                    "logret": 5.6211245
                  },
                  {
                    "caintake": 674.40003,
                    "caretention": 108.8,
                    "logret": 4.6895114
                  },
                  {
                    "caintake": 673.8,
                    "caretention": 249.2,
                    "logret": 5.518255
                  },
                  {
                    "caintake": 672.7,
                    "caretention": 232.40001,
                    "logret": 5.4484594
                  },
                  {
                    "caintake": 629.20004,
                    "caretention": 364.1,
                    "logret": 5.8974284
                  }
                ]
              },
              "layer": [
                {
                  "encoding": {
                    "x": {
                      "field": "caintake",
                      "scale": {
                        "domain": [
                          500,
                          2000
                        ]
                      },
                      "title": "Calcium intake (mg/d)",
                      "type": "quantitative"
                    },
                    "y": {
                      "field": "caretention",
                      "title": "Calcium retention (mg/d)",
                      "type": "quantitative"
                    }
                  },
                  "mark": "point"
                },
                {
                  "data": {
                    "values": [
                      {
                        "x": 1834.8001,
                        "y": 611.1454
                      },
                      {
                        "x": 1816.3,
                        "y": 608.7626
                      },
                      {
                        "x": 1792.0,
                        "y": 605.5063
                      },
                      {
                        "x": 1777.7,
                        "y": 603.52546
                      },
                      {
                        "x": 1715.0,
                        "y": 594.2646
                      },
                      {
                        "x": 1666.9,
                        "y": 586.48497
                      },
                      {
                        "x": 1662.8,
                        "y": 585.79344
                      },
                      {
                        "x": 1601.5,
                        "y": 574.9745
                      },
                      {
                        "x": 1533.0,
                        "y": 562.14744
                      },
                      {
                        "x": 1521.3001,
                        "y": 559.92085
                      },
                      {
                        "x": 1515.3,
                        "y": 558.7782
                      },
                      {
                        "x": 1514.9,
                        "y": 558.70205
                      },
                      {
                        "x": 1514.9,
                        "y": 558.70205
                      },
                      {
                        "x": 1514.0,
                        "y": 558.53057
                      },
                      {
                        "x": 1500.7001,
                        "y": 555.9966
                      },
                      {
                        "x": 1483.0,
                        "y": 552.61457
                      },
                      {
                        "x": 1480.3,
                        "y": 552.09637
                      },
                      {
                        "x": 1461.8,
                        "y": 548.5145
                      },
                      {
                        "x": 1458.4,
                        "y": 547.84817
                      },
                      {
                        "x": 1436.1,
                        "y": 543.36715
                      },
                      {
                        "x": 1435.1,
                        "y": 543.15996
                      },
                      {
                        "x": 1414.0,
                        "y": 538.581
                      },
                      {
                        "x": 1410.8,
                        "y": 537.842
                      },
                      {
                        "x": 1409.8,
                        "y": 537.608
                      },
                      {
                        "x": 1328.8,
                        "y": 512.7703
                      },
                      {
                        "x": 1320.3001,
                        "y": 509.5058
                      },
                      {
                        "x": 1315.3,
                        "y": 507.5114
                      },
                      {
                        "x": 1286.2001,
                        "y": 495.55638
                      },
                      {
                        "x": 1274.4,
                        "y": 490.32494
                      },
                      {
                        "x": 1219.80004,
                        "y": 468.01865
                      },
                      {
                        "x": 1199.0,
                        "y": 460.1973
                      },
                      {
                        "x": 1177.8001,
                        "y": 456.3204
                      },
                      {
                        "x": 1129.59996,
                        "y": 445.8282
                      },
                      {
                        "x": 1124.90006,
                        "y": 444.57653
                      },
                      {
                        "x": 1073.70004,
                        "y": 430.5512
                      },
                      {
                        "x": 1058.0,
                        "y": 425.81904
                      },
                      {
                        "x": 1008.4,
                        "y": 409.67834
                      },
                      {
                        "x": 924.40003,
                        "y": 376.83895
                      },
                      {
                        "x": 915.3,
                        "y": 373.21818
                      },
                      {
                        "x": 901.5,
                        "y": 367.71336
                      },
                      {
                        "x": 900.70003,
                        "y": 367.39367
                      },
                      {
                        "x": 895.40005,
                        "y": 365.2744
                      },
                      {
                        "x": 891.8,
                        "y": 363.83328
                      },
                      {
                        "x": 883.60006,
                        "y": 360.54516
                      },
                      {
                        "x": 883.60006,
                        "y": 360.54516
                      },
                      {
                        "x": 868.2,
                        "y": 354.3439
                      },
                      {
                        "x": 867.9,
                        "y": 354.22269
                      },
                      {
                        "x": 832.5,
                        "y": 339.78504
                      },
                      {
                        "x": 814.90004,
                        "y": 332.48752
                      },
                      {
                        "x": 776.7,
                        "y": 316.34507
                      },
                      {
                        "x": 755.7,
                        "y": 307.29496
                      },
                      {
                        "x": 725.2,
                        "y": 293.9313
                      },
                      {
                        "x": 674.40003,
                        "y": 271.10428
                      },
                      {
                        "x": 673.8,
                        "y": 270.83054
                      },
                      {
                        "x": 672.7,
                        "y": 270.32843
                      },
                      {
                        "x": 629.20004,
                        "y": 250.24834
                      }
                    ]
                  },
                  "encoding": {
                    "x": {
                      "field": "x",
                      "type": "quantitative"
                    },
                    "y": {
                      "field": "y",
                      "type": "quantitative"
                    }
                  },
                  "mark": {
                    "color": "red",
                    "interpolate": "basis",
                    "type": "line"
                  }
                }
              ],
              "title": "Calcium Retention",
              "width": 350
            },
            "image/png": "[encoded data removed]"
          },
          "execution_count": 16,
          "metadata": {},
          "output_type": "execute_result"
        }
      ],
      "source": [
        "(ips:plot\n",
        " (vega:defplot calcium-retention-plot\n",
        "   `(:title \"Calcium Retention\"\n",
        "     :data (:values ,calcium-retention)\n",
        "     :width 350\n",
        "     :layer #((:mark :point\n",
        "               :encoding (:x (:field :caintake  :type \"quantitative\" :title \"Calcium intake (mg/d)\" :scale (domain #(500 2000)))\n",
        "                          :y (:field :caretention :type \"quantitative\" :title \"Calcium retention (mg/d)\")))\n",
        "              ,(sctplt:fit-lowess calcium-retention:caintake calcium-retention:caretention)))))"
      ]
    },
    {
      "cell_type": "markdown",
      "id": "29",
      "metadata": {},
      "source": [
        "### Example 2.17 A smooth fit for education spanding and population with logs\n",
        "This scatterplot of log education spending versus log population with a smooth curve suggests that the relationship is approximately linear except for states with relatively small populations.  For them, spending is relatively flat.  Note that this is the same plot as Example 1.14, except using the lowess smoother instead of a linear fit."
      ]
    },
    {
      "cell_type": "code",
      "execution_count": 17,
      "id": "30",
      "metadata": {
        "execution": {
          "iopub.execute_input": "2025-07-22T05:31:08.000000Z",
          "iopub.status.busy": "2025-07-22T05:31:08.000000Z",
          "iopub.status.idle": "2025-07-22T05:31:08.000000Z",
          "shell.execute_reply": "2025-07-22T05:31:08.000000Z"
        },
        "vscode": {
          "languageId": "clojure"
        }
      },
      "outputs": [
        {
          "data": {
            "application/vnd.vegalite.v4+json": {
              "$schema": "https://vega.github.io/schema/vega-lite/v5.json",
              "data": {
                "values": [
                  {
                    "population": -0.51082563,
                    "spending": 0.9932518
                  },
                  {
                    "population": 1.7578581,
                    "spending": 2.939162
                  },
                  {
                    "population": 0.5877867,
                    "spending": 1.7917594
                  },
                  {
                    "population": 1.9740811,
                    "spending": 3.054001
                  },
                  {
                    "population": 2.1282318,
                    "spending": 3.2148677
                  },
                  {
                    "population": -0.51082563,
                    "spending": 0.9162907
                  },
                  {
                    "population": 1.0986123,
                    "spending": 2.3025851
                  },
                  {
                    "population": 3.310543,
                    "spending": 4.4931206
                  },
                  {
                    "population": 1.8870696,
                    "spending": 2.7663192
                  },
                  {
                    "population": -0.105360515,
                    "spending": 0.74193734
                  },
                  {
                    "population": 1.5892352,
                    "spending": 2.3795462
                  },
                  {
                    "population": 0.095310175,
                    "spending": 1.252763
                  },
                  {
                    "population": 2.549445,
                    "spending": 3.624341
                  },
                  {
                    "population": 1.3862944,
                    "spending": 2.4248028
                  },
                  {
                    "population": 1.3609765,
                    "spending": 2.3795462
                  },
                  {
                    "population": 2.4510053,
                    "spending": 3.4688562
                  },
                  {
                    "population": -0.22314355,
                    "spending": 1.0986123
                  },
                  {
                    "population": 2.3025851,
                    "spending": 3.407842
                  },
                  {
                    "population": 2.985682,
                    "spending": 4.308111
                  },
                  {
                    "population": 0.74193734,
                    "spending": 1.8870696
                  },
                  {
                    "population": 2.1972246,
                    "spending": 3.6000484
                  },
                  {
                    "population": 0.26236427,
                    "spending": 1.4350846
                  },
                  {
                    "population": 1.0647108,
                    "spending": 1.740466
                  },
                  {
                    "population": 0.64185387,
                    "spending": 1.8718022
                  },
                  {
                    "population": 0.0,
                    "spending": 0.9932518
                  },
                  {
                    "population": 1.8082888,
                    "spending": 2.791165
                  },
                  {
                    "population": 1.0986123,
                    "spending": 2.091864
                  },
                  {
                    "population": 1.7047481,
                    "spending": 2.8735647
                  },
                  {
                    "population": 2.2925349,
                    "spending": 3.1780538
                  },
                  {
                    "population": 1.9169226,
                    "spending": 3.054001
                  },
                  {
                    "population": 1.7917594,
                    "spending": 2.9231617
                  },
                  {
                    "population": 0.26236427,
                    "spending": 1.4350846
                  },
                  {
                    "population": 1.5475625,
                    "spending": 2.5726122
                  },
                  {
                    "population": 1.4816046,
                    "spending": 2.549445
                  },
                  {
                    "population": 1.0647108,
                    "spending": 2.1517622
                  },
                  {
                    "population": 1.1314021,
                    "spending": 2.3795462
                  },
                  {
                    "population": 1.8870696,
                    "spending": 2.8622007
                  },
                  {
                    "population": 2.5572273,
                    "spending": 3.6375862
                  },
                  {
                    "population": 0.53062826,
                    "spending": 1.2237755
                  },
                  {
                    "population": 0.33647224,
                    "spending": 1.1939224
                  },
                  {
                    "population": 2.3223877,
                    "spending": 3.273364
                  },
                  {
                    "population": 3.0056825,
                    "spending": 3.6913761
                  },
                  {
                    "population": -0.105360515,
                    "spending": 1.3862944
                  },
                  {
                    "population": 1.2809339,
                    "spending": 2.5726122
                  },
                  {
                    "population": 1.686399,
                    "spending": 2.6602596
                  },
                  {
                    "population": 3.668677,
                    "spending": 4.7068244
                  },
                  {
                    "population": 1.0986123,
                    "spending": 2.1400663
                  },
                  {
                    "population": 1.9169226,
                    "spending": 2.6946273
                  },
                  {
                    "population": -0.35667494,
                    "spending": 1.3350011
                  },
                  {
                    "population": 1.5892352,
                    "spending": 2.7013612
                  }
                ]
              },
              "layer": [
                {
                  "encoding": {
                    "x": {
                      "field": "population",
                      "title": "Population (millions)",
                      "type": "quantitative"
                    },
                    "y": {
                      "field": "spending",
                      "title": "Spending ($ billions)",
                      "type": "quantitative"
                    }
                  },
                  "mark": "point"
                },
                {
                  "data": {
                    "values": [
                      {
                        "x": -0.51082563,
                        "y": 1.0027762
                      },
                      {
                        "x": 1.7578581,
                        "y": 2.7989867
                      },
                      {
                        "x": 0.5877867,
                        "y": 1.7314547
                      },
                      {
                        "x": 1.9740811,
                        "y": 3.0115423
                      },
                      {
                        "x": 2.1282318,
                        "y": 3.164023
                      },
                      {
                        "x": -0.51082563,
                        "y": 1.0027762
                      },
                      {
                        "x": 1.0986123,
                        "y": 2.201583
                      },
                      {
                        "x": 3.310543,
                        "y": 4.4202232
                      },
                      {
                        "x": 1.8870696,
                        "y": 2.9059118
                      },
                      {
                        "x": -0.105360515,
                        "y": 1.1858608
                      },
                      {
                        "x": 1.5892352,
                        "y": 2.6324528
                      },
                      {
                        "x": 0.095310175,
                        "y": 1.2727816
                      },
                      {
                        "x": 2.549445,
                        "y": 3.6166123
                      },
                      {
                        "x": 1.3862944,
                        "y": 2.4755196
                      },
                      {
                        "x": 1.3609765,
                        "y": 2.4523672
                      },
                      {
                        "x": 2.4510053,
                        "y": 3.4948707
                      },
                      {
                        "x": -0.22314355,
                        "y": 1.1311026
                      },
                      {
                        "x": 2.3025851,
                        "y": 3.346545
                      },
                      {
                        "x": 2.985682,
                        "y": 4.0948614
                      },
                      {
                        "x": 0.74193734,
                        "y": 1.8766649
                      },
                      {
                        "x": 2.1972246,
                        "y": 3.2368952
                      },
                      {
                        "x": 0.26236427,
                        "y": 1.4202723
                      },
                      {
                        "x": 1.0647108,
                        "y": 2.1700051
                      },
                      {
                        "x": 0.64185387,
                        "y": 1.7768827
                      },
                      {
                        "x": 0.0,
                        "y": 1.2342985
                      },
                      {
                        "x": 1.8082888,
                        "y": 2.8409415
                      },
                      {
                        "x": 1.0986123,
                        "y": 2.201583
                      },
                      {
                        "x": 1.7047481,
                        "y": 2.7516258
                      },
                      {
                        "x": 2.2925349,
                        "y": 3.3361834
                      },
                      {
                        "x": 1.9169226,
                        "y": 2.9383367
                      },
                      {
                        "x": 1.7917594,
                        "y": 2.826565
                      },
                      {
                        "x": 0.26236427,
                        "y": 1.4202723
                      },
                      {
                        "x": 1.5475625,
                        "y": 2.5913042
                      },
                      {
                        "x": 1.4816046,
                        "y": 2.5388333
                      },
                      {
                        "x": 1.0647108,
                        "y": 2.1700051
                      },
                      {
                        "x": 1.1314021,
                        "y": 2.2321038
                      },
                      {
                        "x": 1.8870696,
                        "y": 2.9059118
                      },
                      {
                        "x": 2.5572273,
                        "y": 3.6263612
                      },
                      {
                        "x": 0.53062826,
                        "y": 1.6715361
                      },
                      {
                        "x": 0.33647224,
                        "y": 1.4789486
                      },
                      {
                        "x": 2.3223877,
                        "y": 3.3668035
                      },
                      {
                        "x": 3.0056825,
                        "y": 4.1140318
                      },
                      {
                        "x": -0.105360515,
                        "y": 1.1858608
                      },
                      {
                        "x": 1.2809339,
                        "y": 2.3683667
                      },
                      {
                        "x": 1.686399,
                        "y": 2.7323744
                      },
                      {
                        "x": 3.668677,
                        "y": 4.7853988
                      },
                      {
                        "x": 1.0986123,
                        "y": 2.201583
                      },
                      {
                        "x": 1.9169226,
                        "y": 2.9383367
                      },
                      {
                        "x": -0.35667494,
                        "y": 1.0708044
                      },
                      {
                        "x": 1.5892352,
                        "y": 2.6324528
                      }
                    ]
                  },
                  "encoding": {
                    "x": {
                      "field": "x",
                      "type": "quantitative"
                    },
                    "y": {
                      "field": "y",
                      "type": "quantitative"
                    }
                  },
                  "mark": {
                    "color": "red",
                    "interpolate": "basis",
                    "type": "line"
                  }
                }
              ],
              "title": "Education Spending"
            },
            "image/png": "[encoded data removed]"
          },
          "execution_count": 17,
          "metadata": {},
          "output_type": "execute_result"
        }
      ],
      "source": [
        "(let ((edu-spending (map-columns (select edu-spending t '(spending population))\n",
        "\t\t\t\t                  #'(lambda (x)\n",
        "\t\t\t\t                      (elog x))))\n",
        "      (l-population (elog edu-spending:population))\n",
        "      (l-spending   (elog edu-spending:spending)))\n",
        "  (ips:plot\n",
        "   (vega:defplot log-education-spending-smooth\n",
        "     `(:title \"Education Spending\"\n",
        "       :data (:values ,edu-spending)\n",
        "       :layer #((:mark :point\n",
        "\t             :encoding (:x (:field :population  :type \"quantitative\" :title \"Population (millions)\")\n",
        "                            :y (:field :spending    :type \"quantitative\" :title \"Spending ($ billions)\")))\n",
        "\t\t        ,(sctplt:fit-lowess l-population l-spending :span 1/4))))))"
      ]
    }
  ],
  "metadata": {
    "kernelspec": {
      "display_name": "Common Lisp (SBCL)",
      "language": "common-lisp",
      "name": "common-lisp_sbcl"
    },
    "language_info": {
      "codemirror_mode": "text/x-common-lisp",
      "file_extension": ".lisp",
      "mimetype": "text/x-common-lisp",
      "name": "common-lisp",
      "pygments_lexer": "common-lisp",
      "version": "2.5.6"
    }
  },
  "nbformat": 4,
  "nbformat_minor": 5
}