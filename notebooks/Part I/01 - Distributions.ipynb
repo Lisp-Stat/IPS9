{
 "cells": [
  {
   "cell_type": "markdown",
   "id": "under-vitamin",
   "metadata": {
    "tags": []
   },
   "source": [
    "## Introduction\n",
    "\n",
    "These notebooks describe how to undertake analyses introduced as examples in the\n",
    "Ninth Edition of *Introduction to the Practice of Statistics* (2017) by Moore, McCabe, and Craig.\n",
    "The data used in the notebooks are from the R version of the notebooks found at https://nhorton.people.amherst.edu/ips9/.\n",
    "\n",
    "## Setup\n",
    "\n",
    "First load the IPS (short for *Introduction to the Practice of Statistics*) package and dependencies. If you're doing this for the first time, there may be a great deal more output as the dependent packages are download and compiled. This typically only happens once."
   ]
  },
  {
   "cell_type": "code",
   "execution_count": 1,
   "id": "found-actor",
   "metadata": {},
   "outputs": [
    {
     "name": "stdout",
     "output_type": "stream",
     "text": [
      "To load \"ips\":\n",
      "  Load 1 ASDF system:\n",
      "    ips\n",
      "; Loading \"ips\"\n",
      "[package yason.system]."
     ]
    },
    {
     "data": {
      "text/plain": [
       "(:IPS)"
      ]
     },
     "execution_count": 1,
     "metadata": {},
     "output_type": "execute_result"
    },
    {
     "name": "stdout",
     "output_type": "stream",
     "text": [
      "\n"
     ]
    }
   ],
   "source": [
    "(ql:quickload :ips)"
   ]
  },
  {
   "cell_type": "code",
   "execution_count": 2,
   "id": "fuzzy-update",
   "metadata": {
    "tags": []
   },
   "outputs": [
    {
     "data": {
      "text/plain": [
       "#<PACKAGE \"IPS\">"
      ]
     },
     "execution_count": 2,
     "metadata": {},
     "output_type": "execute_result"
    }
   ],
   "source": [
    "(in-package :ips)"
   ]
  },
  {
   "cell_type": "markdown",
   "id": "advisory-stereo",
   "metadata": {},
   "source": [
    "# Chapter 1: Looking at data &mdash; distributions\n",
    "\n",
    "## Example 1.1 Restaurant discount coupons\n",
    "\n",
    "The first example defines the terms cases, labels and variables as they are used in statistical analysis. To load the example, use the following command:"
   ]
  },
  {
   "cell_type": "code",
   "execution_count": 8,
   "id": "9c54a6c0-8fdb-43c8-9a51-cd20be98cf9b",
   "metadata": {},
   "outputs": [
    {
     "data": {
      "text/plain": [
       "T"
      ]
     },
     "execution_count": 8,
     "metadata": {},
     "output_type": "execute_result"
    },
    {
     "name": "stdout",
     "output_type": "stream",
     "text": [
      "\n",
      ";;   TYPE    NAME             ITEM           REG-PRICE DISC-PRICE\n",
      ";; 0 Italian Domo's           Pizza                 20         10\n",
      ";; 1 Italian Mama Rita's      Pizza                 20         12\n",
      ";; 2 BBQ     Smokey McSween's Barbecue              30         17\n",
      ";; 3 BBQ     Smokey Grill     Ribs                  20         11\n",
      ";; 4 Mexican Dos Amigos       Tacos                 16          8\n",
      ";; 5 Mexican Holy Guacamole   Steak fajitas         13          8\n",
      ";; 6 Seafood Sea Grill        Shrimp platter        20         11\n"
     ]
    }
   ],
   "source": [
    "(load #P\"IPS:DATA;coupons\")"
   ]
  },
  {
   "cell_type": "markdown",
   "id": "certain-wiring",
   "metadata": {},
   "source": [
    "\n",
    "These are the cases. Data for each coupon is listed on a different line, and the first column has the coupons numbered 0 to 6. Lisp numbering starts at 0. The remaining columns give the type of restaurant, the name of the restaurant, the item being discounted, the regular price and the discount price. Together this information, that is the information about the data, is known as 'meta-data', and collectively referred to as the 'data dictionary' associated with the data set.\n",
    "\n",
    "## Example 1.2 Categorical and quantitative variables for coupons\n",
    "\n",
    "The restaurant discount data set has six variables (rows): coupon number, type of restaurant, name of restaurant, item, regular price and discount price. The two price variables are _quantitative_ variables. Coupon number, type of restaurant, name of restaurant and item are _categorical_ variables.\n",
    "\n",
    "We can see the variable types and other information in Lisp-Stat using the [describe](http://www.lispworks.com/documentation/lw70/CLHS/Body/f_descri.htm) command. To see the key characteristics of a data set (the data dictionary) for the coupon data set:"
   ]
  },
  {
   "cell_type": "code",
   "execution_count": 9,
   "id": "complimentary-hamilton",
   "metadata": {},
   "outputs": [
    {
     "name": "stdout",
     "output_type": "stream",
     "text": [
      "COUPONS\n",
      "  A data-frame with 7 observations of 5 variables\n",
      "\n",
      "Variable   | Type        | Unit | Label                   \n",
      "--------   | ----        | ---- | -----------             \n",
      "TYPE       | CATEGORICAL | NIL  | Type of restaurant      \n",
      "NAME       | CATEGORICAL | NIL  | Name of restaurant      \n",
      "ITEM       | CATEGORICAL | NIL  | Discounted item         \n",
      "REG-PRICE  | INTEGER     | USD  | Regular price of item   \n",
      "DISC-PRICE | INTEGER     | USD  | Discounted price of item\n"
     ]
    }
   ],
   "source": [
    "(describe coupons)"
   ]
  },
  {
   "cell_type": "markdown",
   "id": "manufactured-mounting",
   "metadata": {},
   "source": [
    "## Example 1.6 Comparing colleges based on graduates\n",
    "\n",
    "This example adjusts one variable to create another. In this case we want to compare the graduation rate among colleges, and to compare apples to apples, need to adjust for the total student population. This is simple division. In College A there were 1000 first year students, and 800 graduated within 6 years, so the graduation rate is:"
   ]
  },
  {
   "cell_type": "code",
   "execution_count": 10,
   "id": "pressed-county",
   "metadata": {},
   "outputs": [
    {
     "data": {
      "text/plain": [
       "4/5"
      ]
     },
     "execution_count": 10,
     "metadata": {},
     "output_type": "execute_result"
    }
   ],
   "source": [
    "(/ 800 1000)"
   ]
  },
  {
   "cell_type": "markdown",
   "id": "weighted-timer",
   "metadata": {},
   "source": [
    "College B has 2000 students who entered the same year, and 1200 graduated within 6 years. College B's graduation rate is:"
   ]
  },
  {
   "cell_type": "code",
   "execution_count": 11,
   "id": "unusual-cross",
   "metadata": {},
   "outputs": [
    {
     "data": {
      "text/plain": [
       "3/5"
      ]
     },
     "execution_count": 11,
     "metadata": {},
     "output_type": "execute_result"
    }
   ],
   "source": [
    "(/ 1200 2000)"
   ]
  },
  {
   "cell_type": "markdown",
   "id": "blind-shareware",
   "metadata": {},
   "source": [
    "Note two things about these calculations:\n",
    "\n",
    "1. Lisp-Stat uses [prefix notation](https://en.wikipedia.org/wiki/Polish_notation). This means parentheses are not required for grouping operations. There is no ambiguity.\n",
    "2. Results are returned in rational format. Most systems use floating point, and have limited accuracy. Rational numbers are exact, and this is great for statistical work."
   ]
  },
  {
   "cell_type": "markdown",
   "id": "previous-birmingham",
   "metadata": {},
   "source": [
    "## 1.2 Displaying distributions with graphs\n",
    "\n",
    "This chapter of the text describes exploratory data analysis and suggests two basic strategies:\n",
    "\n",
    "- Examining each variable in isloation, then study the relationships among the variables\n",
    "- Begin with plotting the variables, then add numerical summaries of specific aspects of the data\n",
    "\n",
    "This chapter presents methods for analysing a single variable, beginning first with graphical display, then adding numerical summaries for a more complete description.\n",
    "\n",
    "### Categorical variables: Bar graphs and pie charts\n",
    "\n",
    "The values of a categorical variable are labels for the categories, such as 'male' and 'female'. The distribution of a categorical variable lists the categories and gives either the _count_ or the _percent_ of cases that fall in each category. An alternative to the percent is the proportion, the count divided by the sum of the counts. Note that the percent is simply the proportion times 100.\n",
    "\n",
    "#### Example 1.7 How do you do online research?\n",
    "\n",
    "In example 1.7, the distribution of a categorical variable is examined along with a demonstration of the count of each catagory as a percentage of the total. The data set is the preferences for online information resources taken from a survey of 552 first year university students.\n",
    "\n",
    "First, read the data into a data frame with the name 'online'. Note that we're not using the usual convention of \\*earmuffs\\* on the variable name. The example data sets are named after the example number in the book, e.g. example 1.7 data is named eg01-07."
   ]
  },
  {
   "cell_type": "code",
   "execution_count": 21,
   "id": "immune-worst",
   "metadata": {},
   "outputs": [
    {
     "data": {
      "text/plain": [
       "#<DATA-FRAME (4 observations of 2 variables)>"
      ]
     },
     "execution_count": 21,
     "metadata": {},
     "output_type": "execute_result"
    }
   ],
   "source": [
    "(defdf online (read-csv ips:eg01-07))"
   ]
  },
  {
   "cell_type": "markdown",
   "id": "enhanced-bankruptcy",
   "metadata": {},
   "source": [
    "We can view the counts by typing the variable's name:"
   ]
  },
  {
   "cell_type": "code",
   "execution_count": 14,
   "id": "corrected-japanese",
   "metadata": {},
   "outputs": [
    {
     "data": {
      "text/plain": [
       "NIL"
      ]
     },
     "execution_count": 14,
     "metadata": {},
     "output_type": "execute_result"
    },
    {
     "name": "stdout",
     "output_type": "stream",
     "text": [
      "\n",
      ";;   SOURCE    COUNT\n",
      ";; 0 Google      406\n",
      ";; 1 Library      75\n",
      ";; 2 Wikipedia    52\n",
      ";; 3 Other        19\n"
     ]
    }
   ],
   "source": [
    "(print-data online)"
   ]
  },
  {
   "cell_type": "markdown",
   "id": "marked-layer",
   "metadata": {},
   "source": [
    "Here we see the results presented as a summary. To see it as percentage, we need to determine the total counts and divide.\n",
    "\n",
    "#### Example 1.8 Favorites as percents\n",
    "\n",
    "First we determine the total count:"
   ]
  },
  {
   "cell_type": "code",
   "execution_count": 15,
   "id": "absolute-maple",
   "metadata": {},
   "outputs": [
    {
     "data": {
      "text/plain": [
       "552"
      ]
     },
     "execution_count": 15,
     "metadata": {},
     "output_type": "execute_result"
    }
   ],
   "source": [
    "(sum online:count)"
   ]
  },
  {
   "cell_type": "markdown",
   "id": "close-windows",
   "metadata": {},
   "source": [
    "And now divide each count by the total and multiply by 100 to get the percentage:"
   ]
  },
  {
   "cell_type": "code",
   "execution_count": 16,
   "id": "reliable-bacon",
   "metadata": {},
   "outputs": [
    {
     "data": {
      "text/plain": [
       "#(73.55073 13.586956 9.42029 3.442029)"
      ]
     },
     "execution_count": 16,
     "metadata": {},
     "output_type": "execute_result"
    }
   ],
   "source": [
    "(e* 100\n",
    "    (e/ online:count 552.0))"
   ]
  },
  {
   "cell_type": "markdown",
   "id": "federal-xerox",
   "metadata": {},
   "source": [
    "Notice the mathmatical operators were prefixed by '_e_'. This prefix signifies _elementwise_ operations. That is\n",
    "the operator accepts either vectors or single numbers. The results are vectors if the inputs include vectors.\n",
    "\n",
    "In the book, we are given a summary as data, and compute the percentages. Most of the time however, we are given raw\n",
    "data and perform an analysis. Let's rework examples 1.7 & 1.8 using raw data. To start, load data from a file called\n",
    "online-data:"
   ]
  },
  {
   "cell_type": "code",
   "execution_count": 19,
   "id": "bottom-creator",
   "metadata": {},
   "outputs": [
    {
     "data": {
      "text/plain": [
       "T"
      ]
     },
     "execution_count": 19,
     "metadata": {},
     "output_type": "execute_result"
    }
   ],
   "source": [
    "(load #P\"IPS:DATA;online-data\")"
   ]
  },
  {
   "cell_type": "markdown",
   "id": "analyzed-melbourne",
   "metadata": {},
   "source": [
    "For this example, we are working with a single variable, so have used the _def_ function to create a single variable\n",
    "to work with. We can see all the variables defined this way with the function named _variables_:"
   ]
  },
  {
   "cell_type": "code",
   "execution_count": 21,
   "id": "western-platinum",
   "metadata": {},
   "outputs": [
    {
     "data": {
      "text/plain": [
       "(SOURCES)"
      ]
     },
     "execution_count": 21,
     "metadata": {},
     "output_type": "execute_result"
    }
   ],
   "source": [
    "(variables)"
   ]
  },
  {
   "cell_type": "markdown",
   "id": "widespread-polymer",
   "metadata": {},
   "source": [
    "This function returns a list of defined variables, in this case only a single variable, with the name `sources`. To see the percentage summary of `sources`, use the `tabulate` command:"
   ]
  },
  {
   "cell_type": "code",
   "execution_count": 22,
   "id": "agricultural-concert",
   "metadata": {},
   "outputs": [
    {
     "data": {
      "text/plain": [
       "#<NUM-UTILS.STATISTICS:SPARSE-COUNTER tally: 552, varieties: 4\n",
       "  google  406  (73.6%)\n",
       "  library  75  (13.6%)\n",
       "  wikipedia  52  (9.4%)\n",
       "  other  19  (3.4%)>"
      ]
     },
     "execution_count": 22,
     "metadata": {},
     "output_type": "execute_result"
    }
   ],
   "source": [
    "(tabulate sources)"
   ]
  },
  {
   "cell_type": "markdown",
   "id": "remarkable-aberdeen",
   "metadata": {
    "tags": []
   },
   "source": [
    "#### Example 1.9 Bar graph for the online resource preference data\n",
    "\n",
    "This example displays the online resource preferences using a *bar graph*. The heights of the four bars show the percents of the students who reported each of the resources as their favourite."
   ]
  },
  {
   "cell_type": "code",
   "execution_count": 24,
   "id": "5497be20-f119-4c69-bdd4-e33daec377ef",
   "metadata": {},
   "outputs": [
    {
     "data": {
      "text/plain": [
       "#<PLOT ONLINE-BAR-CHART: Bar chart\n",
       "NIL>"
      ]
     },
     "execution_count": 24,
     "metadata": {},
     "output_type": "execute_result"
    }
   ],
   "source": [
    "(vega:defplot online-bar-chart `(:mark :bar\n",
    "                                 :data ,online\n",
    "                                 :encoding (:x (:field source :type \"nominal\"      :title \"Online resource\")\n",
    "                                            :y (:field count  :type \"quantitative\" :title \"Percentage preference\"))))"
   ]
  },
  {
   "cell_type": "markdown",
   "id": "identified-stopping",
   "metadata": {},
   "source": [
    "and plot it:"
   ]
  },
  {
   "cell_type": "code",
   "execution_count": 7,
   "id": "environmental-knitting",
   "metadata": {},
   "outputs": [
    {
     "data": {
      "application/vnd.vegalite.v4+json": {
       "$schema": "https://vega.github.io/schema/vega-lite/v5.json",
       "data": {
        "values": [
         {
          "count": 19,
          "source": "Other"
         },
         {
          "count": 52,
          "source": "Wikipedia"
         },
         {
          "count": 75,
          "source": "Library"
         },
         {
          "count": 406,
          "source": "Google"
         }
        ]
       },
       "encoding": {
        "x": {
         "field": "source",
         "title": "Online resource",
         "type": "nominal"
        },
        "y": {
         "field": "count",
         "title": "Percentage preference",
         "type": "quantitative"
        }
       },
       "mark": "bar"
      },
      "image/png": "[encoded data removed]"
     },
     "execution_count": 7,
     "metadata": {},
     "output_type": "execute_result"
    }
   ],
   "source": [
    "(ips:plot online-bar-chart)"
   ]
  },
  {
   "cell_type": "markdown",
   "id": "dense-patent",
   "metadata": {},
   "source": [
    "We can see that the source labels are overlapping. Let's fix this by adding a width setting:"
   ]
  },
  {
   "cell_type": "code",
   "execution_count": 14,
   "id": "widespread-estimate",
   "metadata": {},
   "outputs": [
    {
     "data": {
      "application/vnd.vegalite.v4+json": {
       "$schema": "https://vega.github.io/schema/vega-lite/v5.json",
       "data": {
        "values": [
         {
          "count": 19,
          "source": "Other"
         },
         {
          "count": 52,
          "source": "Wikipedia"
         },
         {
          "count": 75,
          "source": "Library"
         },
         {
          "count": 406,
          "source": "Google"
         }
        ]
       },
       "encoding": {
        "x": {
         "field": "source",
         "title": "Online resource",
         "type": "nominal"
        },
        "y": {
         "field": "count",
         "title": "Percentage preference",
         "type": "quantitative"
        }
       },
       "mark": "bar",
       "width": 300
      },
      "image/png": "[encoded data removed]"
     },
     "execution_count": 14,
     "metadata": {},
     "output_type": "execute_result"
    }
   ],
   "source": [
    "(ips:plot\n",
    " (vega:defplot online-bar-chart `(:mark :bar\n",
    "                                  :width 300\n",
    "                                  :data ,online\n",
    "                                  :encoding (:x (:field source :type \"nominal\"      :title \"Online resource\")\n",
    "                                             :y (:field count  :type \"quantitative\" :title \"Percentage preference\")))))"
   ]
  },
  {
   "cell_type": "markdown",
   "id": "crazy-happening",
   "metadata": {},
   "source": [
    "You should always consider the best way to order the values in a bar chart. In this case, we will sort X\n",
    "by the value of Y, decending:"
   ]
  },
  {
   "cell_type": "code",
   "execution_count": null,
   "id": "informed-yemen",
   "metadata": {},
   "outputs": [],
   "source": [
    "(pushnew '(\"sort\" . \"-y\") (accesses online-bar-chart :encoding :x))"
   ]
  },
  {
   "cell_type": "code",
   "execution_count": 23,
   "id": "australian-execution",
   "metadata": {},
   "outputs": [
    {
     "data": {
      "application/vnd.vegalite.v4+json": {
       "$schema": "https://vega.github.io/schema/vega-lite/v5.json",
       "data": {
        "values": [
         {
          "count": 19,
          "source": "Other"
         },
         {
          "count": 52,
          "source": "Wikipedia"
         },
         {
          "count": 75,
          "source": "Library"
         },
         {
          "count": 406,
          "source": "Google"
         }
        ]
       },
       "encoding": {
        "x": {
         "field": "source",
         "sort": "-y",
         "title": "Online resource",
         "type": "nominal"
        },
        "y": {
         "field": "count",
         "title": "Percentage preference",
         "type": "quantitative"
        }
       },
       "mark": "bar",
       "width": 300
      },
      "image/png": "[encoded data removed]"
     },
     "execution_count": 23,
     "metadata": {},
     "output_type": "execute_result"
    }
   ],
   "source": [
    "(ips:plot\n",
    " (vega:defplot online-bar-chart `(:mark :bar\n",
    "                                  :width 300\n",
    "                                  :data ,online\n",
    "                                  :encoding (:x (:field source :type \"nominal\"      :title \"Online resource\" :sort \"-y\")\n",
    "                                             :y (:field count  :type \"quantitative\" :title \"Percentage preference\")))))"
   ]
  },
  {
   "cell_type": "markdown",
   "id": "compatible-cursor",
   "metadata": {},
   "source": [
    "#### Example 1.10 Pie chart for the online resource preference data\n",
    "Figure 1.3 (page 11) displays the same data in a pie chart. We can create a spec and plot the data as pie chart by changing the `mark` and `encoding` parameters."
   ]
  },
  {
   "cell_type": "code",
   "execution_count": 25,
   "id": "advanced-audio",
   "metadata": {},
   "outputs": [
    {
     "data": {
      "application/vnd.vegalite.v4+json": {
       "$schema": "https://vega.github.io/schema/vega-lite/v5.json",
       "data": {
        "values": [
         {
          "count": 19,
          "source": "Other"
         },
         {
          "count": 52,
          "source": "Wikipedia"
         },
         {
          "count": 75,
          "source": "Library"
         },
         {
          "count": 406,
          "source": "Google"
         }
        ]
       },
       "encoding": {
        "color": {
         "field": "source",
         "title": "Online resource",
         "type": "nominal"
        },
        "theta": {
         "field": "count",
         "type": "quantitative"
        }
       },
       "mark": "arc",
       "width": 300
      },
      "image/png": "[encoded data removed]"
     },
     "execution_count": 25,
     "metadata": {},
     "output_type": "execute_result"
    }
   ],
   "source": [
    "(ips:plot\n",
    " (vega:defplot online-bar-chart `(:mark :arc\n",
    "                                  :width 300\n",
    "                                  :data ,online\n",
    "                                  :encoding (:color (:field source :type \"nominal\" :title \"Online resource\")\n",
    "                                             :theta (:field count  :type \"quantitative\")))))"
   ]
  },
  {
   "cell_type": "markdown",
   "id": "competitive-broadcasting",
   "metadata": {},
   "source": [
    "### Quantitative Variables: Stemplots and histograms\n",
    "A _stemplot_ (stem-and-leaf plot) provides a quick graphical summary of the shape of a distribution. They are good for small data sets. For larger data sets, histograms work best.\n",
    "\n",
    "#### Example 1.11 - Soluble corn fiber and calcium\n",
    "This example show a stem-and-leaf plot of the effect of soluble corn fiber (SCF) on the absorption of calcium in adolescent boys and girls."
   ]
  },
  {
   "cell_type": "code",
   "execution_count": 3,
   "id": "thousand-growing",
   "metadata": {
    "tags": []
   },
   "outputs": [
    {
     "data": {
      "text/plain": [
       "#<DATA-FRAME (46 observations of 3 variables)>"
      ]
     },
     "execution_count": 3,
     "metadata": {},
     "output_type": "execute_result"
    }
   ],
   "source": [
    "(defdf scf (read-csv ips:eg01-11))"
   ]
  },
  {
   "cell_type": "markdown",
   "id": "antique-booth",
   "metadata": {},
   "source": [
    "Let's take a high-level look at this data set:"
   ]
  },
  {
   "cell_type": "code",
   "execution_count": 4,
   "id": "allied-vessel",
   "metadata": {},
   "outputs": [
    {
     "data": {
      "text/plain": [
       "(23 (50%) x \"Control\", 23 (50%) x \"SCF\",  46 reals, min=31, q25=43.166664,\n",
       " q50=48.4, q75=55, max=76)"
      ]
     },
     "execution_count": 4,
     "metadata": {},
     "output_type": "execute_result"
    }
   ],
   "source": [
    "(summary scf)"
   ]
  },
  {
   "cell_type": "markdown",
   "id": "victorian-discipline",
   "metadata": {},
   "source": [
    "A data-frame of 3 variables and 46 observations. This is small enough for us to print in its entirety. We'll use a helper function, `print-df` that we've added to the `IPS` package to make printing with Lisp-Stat easier when working with notebooks."
   ]
  },
  {
   "cell_type": "code",
   "execution_count": 9,
   "id": "lightweight-plenty",
   "metadata": {},
   "outputs": [
    {
     "data": {
      "text/markdown": [
       "| ID | TREATMENT | ABSORPTION |\n",
       "| ---: | :--- | ---: |\n",
       "| 1 | Control | 42  |\n",
       "| 2 | Control | 33  |\n",
       "| 3 | Control | 41  |\n",
       "| 4 | Control | 49  |\n",
       "| 5 | Control | 42  |\n",
       "| 6 | Control | 47  |\n",
       "| 7 | Control | 48  |\n",
       "| 8 | Control | 47  |\n",
       "| 9 | Control | 53  |\n",
       "| 10 | Control | 72  |\n",
       "| 11 | Control | 47  |\n",
       "| 12 | Control | 63  |\n",
       "| 13 | Control | 68  |\n",
       "| 14 | Control | 59  |\n",
       "| 15 | Control | 35  |\n",
       "| 16 | Control | 46  |\n",
       "| 17 | Control | 43  |\n",
       "| 18 | Control | 55  |\n",
       "| 19 | Control | 38  |\n",
       "| 20 | Control | 49  |\n",
       "| 21 | Control | 51  |\n",
       "| 22 | Control | 51  |\n",
       "| 23 | Control | 66  |\n",
       "| 24 | SCF | 50  |\n",
       "| 25 | SCF | 43  |\n",
       "| 26 | SCF | 43  |\n",
       "| 27 | SCF | 44  |\n",
       "| 28 | SCF | 50  |\n",
       "| 29 | SCF | 44  |\n",
       "| 30 | SCF | 35  |\n",
       "| 31 | SCF | 49  |\n",
       "| 32 | SCF | 54  |\n",
       "| 33 | SCF | 76  |\n",
       "| 34 | SCF | 31  |\n",
       "| 35 | SCF | 48  |\n",
       "| 36 | SCF | 61  |\n",
       "| 37 | SCF | 70  |\n",
       "| 38 | SCF | 62  |\n",
       "| 39 | SCF | 47  |\n",
       "| 40 | SCF | 42  |\n",
       "| 41 | SCF | 45  |\n",
       "| 42 | SCF | 43  |\n",
       "| 43 | SCF | 59  |\n",
       "| 44 | SCF | 53  |\n",
       "| 45 | SCF | 53  |\n",
       "| 46 | SCF | 73  |\n"
      ]
     },
     "metadata": {},
     "output_type": "display_data"
    }
   ],
   "source": [
    "(print-df scf)"
   ]
  },
  {
   "cell_type": "markdown",
   "id": "rapid-prize",
   "metadata": {},
   "source": [
    "We want the treatment group, so we'll use the [select](https://lisp-stat.dev/docs/tasks/select/) package to subset the data from ID 24 to 46:"
   ]
  },
  {
   "cell_type": "code",
   "execution_count": 11,
   "id": "engaging-capability",
   "metadata": {},
   "outputs": [
    {
     "data": {
      "text/plain": [
       "NIL"
      ]
     },
     "execution_count": 11,
     "metadata": {},
     "output_type": "execute_result"
    },
    {
     "name": "stdout",
     "output_type": "stream",
     "text": [
      "3 | 1 5\n",
      "4 | 2 3 3 3 4 4 5 7 8 9\n",
      "5 | 0 0 3 3 4 9\n",
      "6 | 1 2\n",
      "7 | 0 3 6\n"
     ]
    }
   ],
   "source": [
    "(stem-and-leaf (select scf (range 23 nil) 'absorption)) ;arrays are 0 based, so we start at 23"
   ]
  },
  {
   "cell_type": "markdown",
   "id": "recognized-people",
   "metadata": {},
   "source": [
    "#### Examples 1.12 & 1.13\n",
    "Example 1.12 compares the data between the SCF and control groups using a back-to-back stemplot. Example 1.13 demonstrates *splitting stems* and *trimming* digits in the leaves to fine-tune the display of the stemplot to better observe characteristics of the data. Trimming (rounding) the data can be done using Common Lisp before plotting. Implementing a back-to-back stemplot is outlined in [issue #1](https://github.com/Lisp-Stat/plot/issues/1) and splitting in [issue #2](https://github.com/Lisp-Stat/plot/issues/2)"
   ]
  },
  {
   "cell_type": "markdown",
   "id": "varying-halloween",
   "metadata": {},
   "source": [
    "#### Example 1.14 - Distribution of IQ scores\n",
    "This example looks at the IQ scores of 60 fifth-grade studens choosen at random from one school. We know that the distribution should be approximately 'bell shaped' and will draw a histogram to see if it is.\n",
    "\n",
    "First, load the example data:"
   ]
  },
  {
   "cell_type": "code",
   "execution_count": 3,
   "id": "regulated-median",
   "metadata": {},
   "outputs": [
    {
     "data": {
      "text/plain": [
       "#<DATA-FRAME (60 observations of 1 variables)>"
      ]
     },
     "execution_count": 3,
     "metadata": {},
     "output_type": "execute_result"
    }
   ],
   "source": [
    "(defdf iq (read-csv ips::eg01-14))"
   ]
  },
  {
   "cell_type": "markdown",
   "id": "recognized-recommendation",
   "metadata": {},
   "source": [
    "and use the `hist` function to generate a histogram and frequency table. Following the instructions in the book, the range is from 75 to 155, with bin width of 10, so:"
   ]
  },
  {
   "cell_type": "code",
   "execution_count": 4,
   "id": "removable-helena",
   "metadata": {},
   "outputs": [
    {
     "data": {
      "text/plain": [
       "NIL"
      ]
     },
     "execution_count": 4,
     "metadata": {},
     "output_type": "execute_result"
    },
    {
     "name": "stdout",
     "output_type": "stream",
     "text": [
      "< 75:       0\n",
      "75:         2       ## \n",
      "85:         3       ### \n",
      "95:         10      ########## \n",
      "105:        16      ################ \n",
      "115:        13      ############# \n",
      "125:        10      ########## \n",
      "135:        5       ##### \n",
      "145:        1       # \n",
      "> 155:      0\n"
     ]
    }
   ],
   "source": [
    "(plot/text:hist (75 155 10) (mapcar #'plot/text:hist-record (coerce iq:iq 'list)))"
   ]
  },
  {
   "cell_type": "markdown",
   "id": "silver-salon",
   "metadata": {},
   "source": [
    "Note that this is a _text_ plot and the cell in the notebook renders markdown, so the numbers are slightly misaligned. If you did this from a REPL they would be aligned exactly. In this example, the `plot/text:hist` function did the binning for us. We can also plot this graphically and use Vega-Lite to do the binning."
   ]
  },
  {
   "cell_type": "code",
   "execution_count": 36,
   "id": "needed-valley",
   "metadata": {},
   "outputs": [
    {
     "data": {
      "application/vnd.vegalite.v4+json": {
       "$schema": "https://vega.github.io/schema/vega-lite/v5.json",
       "data": {
        "values": [
         {
          "iq": 101
         },
         {
          "iq": 82
         },
         {
          "iq": 102
         },
         {
          "iq": 114
         },
         {
          "iq": 112
         },
         {
          "iq": 114
         },
         {
          "iq": 128
         },
         {
          "iq": 110
         },
         {
          "iq": 108
         },
         {
          "iq": 102
         },
         {
          "iq": 89
         },
         {
          "iq": 97
         },
         {
          "iq": 105
         },
         {
          "iq": 122
         },
         {
          "iq": 101
         },
         {
          "iq": 139
         },
         {
          "iq": 114
         },
         {
          "iq": 103
         },
         {
          "iq": 90
         },
         {
          "iq": 117
         },
         {
          "iq": 137
         },
         {
          "iq": 109
         },
         {
          "iq": 117
         },
         {
          "iq": 127
         },
         {
          "iq": 102
         },
         {
          "iq": 116
         },
         {
          "iq": 133
         },
         {
          "iq": 115
         },
         {
          "iq": 124
         },
         {
          "iq": 106
         },
         {
          "iq": 124
         },
         {
          "iq": 127
         },
         {
          "iq": 110
         },
         {
          "iq": 117
         },
         {
          "iq": 131
         },
         {
          "iq": 109
         },
         {
          "iq": 136
         },
         {
          "iq": 100
         },
         {
          "iq": 94
         },
         {
          "iq": 123
         },
         {
          "iq": 113
         },
         {
          "iq": 81
         },
         {
          "iq": 113
         },
         {
          "iq": 134
         },
         {
          "iq": 109
         },
         {
          "iq": 112
         },
         {
          "iq": 124
         },
         {
          "iq": 134
         },
         {
          "iq": 142
         },
         {
          "iq": 101
         },
         {
          "iq": 118
         },
         {
          "iq": 118
         },
         {
          "iq": 110
         },
         {
          "iq": 96
         },
         {
          "iq": 130
         },
         {
          "iq": 125
         },
         {
          "iq": 122
         },
         {
          "iq": 126
         },
         {
          "iq": 139
         },
         {
          "iq": 145
         }
        ]
       },
       "encoding": {
        "x": {
         "bin": {
          "maxbins": 8
         },
         "field": "iq"
        },
        "y": {
         "aggregate": "count"
        }
       },
       "mark": "bar"
      },
      "image/png": "[encoded data removed]"
     },
     "execution_count": 36,
     "metadata": {},
     "output_type": "execute_result"
    }
   ],
   "source": [
    "(ips:plot\n",
    " (vega:defplot iq-plot `(:mark :bar\n",
    "                         :data ,iq\n",
    "                         :encoding (:x (:field iq :bin (:maxbins 8))\n",
    "                                    :y (:aggregate \"count\")))))"
   ]
  },
  {
   "cell_type": "code",
   "execution_count": null,
   "id": "raised-replication",
   "metadata": {},
   "outputs": [],
   "source": []
  },
  {
   "cell_type": "code",
   "execution_count": null,
   "id": "excited-mother",
   "metadata": {},
   "outputs": [],
   "source": []
  },
  {
   "cell_type": "code",
   "execution_count": null,
   "id": "54d31463-8b5e-4acd-8a4e-47b9d2375a1f",
   "metadata": {},
   "outputs": [],
   "source": []
  }
 ],
 "metadata": {
  "kernelspec": {
   "display_name": "Common Lisp",
   "language": "common-lisp",
   "name": "common-lisp"
  },
  "language_info": {
   "codemirror_mode": "text/x-common-lisp",
   "file_extension": ".lisp",
   "mimetype": "text/x-common-lisp",
   "name": "common-lisp",
   "pygments_lexer": "common-lisp",
   "version": "2.1.6"
  }
 },
 "nbformat": 4,
 "nbformat_minor": 5
}
